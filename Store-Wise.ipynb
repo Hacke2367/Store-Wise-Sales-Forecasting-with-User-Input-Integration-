{
 "cells": [
  {
   "cell_type": "code",
   "execution_count": 1,
   "id": "d060736b-cb56-4140-ab7c-62ec2d7fbf0e",
   "metadata": {},
   "outputs": [],
   "source": [
    "import pandas as pd\n",
    "import numpy as np\n",
    "import matplotlib.pyplot as plt\n",
    "import seaborn as sns"
   ]
  },
  {
   "cell_type": "code",
   "execution_count": 2,
   "id": "73a77729-a5cc-468c-a20f-947a050e6203",
   "metadata": {},
   "outputs": [
    {
     "name": "stderr",
     "output_type": "stream",
     "text": [
      "C:\\Users\\abhishek maurya\\AppData\\Local\\Temp\\ipykernel_19128\\2815211952.py:1: DtypeWarning: Columns (7) have mixed types. Specify dtype option on import or set low_memory=False.\n",
      "  data = pd.read_csv('train.csv')\n"
     ]
    }
   ],
   "source": [
    "data = pd.read_csv('train.csv')"
   ]
  },
  {
   "cell_type": "code",
   "execution_count": 3,
   "id": "c76cbcca-1628-499e-abf8-1f68c751756b",
   "metadata": {},
   "outputs": [
    {
     "data": {
      "text/html": [
       "<div>\n",
       "<style scoped>\n",
       "    .dataframe tbody tr th:only-of-type {\n",
       "        vertical-align: middle;\n",
       "    }\n",
       "\n",
       "    .dataframe tbody tr th {\n",
       "        vertical-align: top;\n",
       "    }\n",
       "\n",
       "    .dataframe thead th {\n",
       "        text-align: right;\n",
       "    }\n",
       "</style>\n",
       "<table border=\"1\" class=\"dataframe\">\n",
       "  <thead>\n",
       "    <tr style=\"text-align: right;\">\n",
       "      <th></th>\n",
       "      <th>Store</th>\n",
       "      <th>DayOfWeek</th>\n",
       "      <th>Date</th>\n",
       "      <th>Sales</th>\n",
       "      <th>Customers</th>\n",
       "      <th>Open</th>\n",
       "      <th>Promo</th>\n",
       "      <th>StateHoliday</th>\n",
       "      <th>SchoolHoliday</th>\n",
       "    </tr>\n",
       "  </thead>\n",
       "  <tbody>\n",
       "    <tr>\n",
       "      <th>0</th>\n",
       "      <td>1</td>\n",
       "      <td>5</td>\n",
       "      <td>2015-07-31</td>\n",
       "      <td>5263</td>\n",
       "      <td>555</td>\n",
       "      <td>1</td>\n",
       "      <td>1</td>\n",
       "      <td>0</td>\n",
       "      <td>1</td>\n",
       "    </tr>\n",
       "    <tr>\n",
       "      <th>1</th>\n",
       "      <td>2</td>\n",
       "      <td>5</td>\n",
       "      <td>2015-07-31</td>\n",
       "      <td>6064</td>\n",
       "      <td>625</td>\n",
       "      <td>1</td>\n",
       "      <td>1</td>\n",
       "      <td>0</td>\n",
       "      <td>1</td>\n",
       "    </tr>\n",
       "    <tr>\n",
       "      <th>2</th>\n",
       "      <td>3</td>\n",
       "      <td>5</td>\n",
       "      <td>2015-07-31</td>\n",
       "      <td>8314</td>\n",
       "      <td>821</td>\n",
       "      <td>1</td>\n",
       "      <td>1</td>\n",
       "      <td>0</td>\n",
       "      <td>1</td>\n",
       "    </tr>\n",
       "    <tr>\n",
       "      <th>3</th>\n",
       "      <td>4</td>\n",
       "      <td>5</td>\n",
       "      <td>2015-07-31</td>\n",
       "      <td>13995</td>\n",
       "      <td>1498</td>\n",
       "      <td>1</td>\n",
       "      <td>1</td>\n",
       "      <td>0</td>\n",
       "      <td>1</td>\n",
       "    </tr>\n",
       "    <tr>\n",
       "      <th>4</th>\n",
       "      <td>5</td>\n",
       "      <td>5</td>\n",
       "      <td>2015-07-31</td>\n",
       "      <td>4822</td>\n",
       "      <td>559</td>\n",
       "      <td>1</td>\n",
       "      <td>1</td>\n",
       "      <td>0</td>\n",
       "      <td>1</td>\n",
       "    </tr>\n",
       "  </tbody>\n",
       "</table>\n",
       "</div>"
      ],
      "text/plain": [
       "   Store  DayOfWeek        Date  Sales  Customers  Open  Promo StateHoliday  \\\n",
       "0      1          5  2015-07-31   5263        555     1      1            0   \n",
       "1      2          5  2015-07-31   6064        625     1      1            0   \n",
       "2      3          5  2015-07-31   8314        821     1      1            0   \n",
       "3      4          5  2015-07-31  13995       1498     1      1            0   \n",
       "4      5          5  2015-07-31   4822        559     1      1            0   \n",
       "\n",
       "   SchoolHoliday  \n",
       "0              1  \n",
       "1              1  \n",
       "2              1  \n",
       "3              1  \n",
       "4              1  "
      ]
     },
     "execution_count": 3,
     "metadata": {},
     "output_type": "execute_result"
    }
   ],
   "source": [
    "data.head()"
   ]
  },
  {
   "cell_type": "code",
   "execution_count": 4,
   "id": "40daf475-a591-47d8-a057-e26006ebd5d5",
   "metadata": {},
   "outputs": [
    {
     "name": "stdout",
     "output_type": "stream",
     "text": [
      "<class 'pandas.core.frame.DataFrame'>\n",
      "RangeIndex: 1017209 entries, 0 to 1017208\n",
      "Data columns (total 9 columns):\n",
      " #   Column         Non-Null Count    Dtype \n",
      "---  ------         --------------    ----- \n",
      " 0   Store          1017209 non-null  int64 \n",
      " 1   DayOfWeek      1017209 non-null  int64 \n",
      " 2   Date           1017209 non-null  object\n",
      " 3   Sales          1017209 non-null  int64 \n",
      " 4   Customers      1017209 non-null  int64 \n",
      " 5   Open           1017209 non-null  int64 \n",
      " 6   Promo          1017209 non-null  int64 \n",
      " 7   StateHoliday   1017209 non-null  object\n",
      " 8   SchoolHoliday  1017209 non-null  int64 \n",
      "dtypes: int64(7), object(2)\n",
      "memory usage: 69.8+ MB\n"
     ]
    }
   ],
   "source": [
    "data.info()"
   ]
  },
  {
   "cell_type": "code",
   "execution_count": 5,
   "id": "e77d9294-c090-4923-8f12-59d6c00c129a",
   "metadata": {},
   "outputs": [
    {
     "data": {
      "text/html": [
       "<div>\n",
       "<style scoped>\n",
       "    .dataframe tbody tr th:only-of-type {\n",
       "        vertical-align: middle;\n",
       "    }\n",
       "\n",
       "    .dataframe tbody tr th {\n",
       "        vertical-align: top;\n",
       "    }\n",
       "\n",
       "    .dataframe thead th {\n",
       "        text-align: right;\n",
       "    }\n",
       "</style>\n",
       "<table border=\"1\" class=\"dataframe\">\n",
       "  <thead>\n",
       "    <tr style=\"text-align: right;\">\n",
       "      <th></th>\n",
       "      <th>Store</th>\n",
       "      <th>DayOfWeek</th>\n",
       "      <th>Sales</th>\n",
       "      <th>Customers</th>\n",
       "      <th>Open</th>\n",
       "      <th>Promo</th>\n",
       "      <th>SchoolHoliday</th>\n",
       "    </tr>\n",
       "  </thead>\n",
       "  <tbody>\n",
       "    <tr>\n",
       "      <th>count</th>\n",
       "      <td>1.017209e+06</td>\n",
       "      <td>1.017209e+06</td>\n",
       "      <td>1.017209e+06</td>\n",
       "      <td>1.017209e+06</td>\n",
       "      <td>1.017209e+06</td>\n",
       "      <td>1.017209e+06</td>\n",
       "      <td>1.017209e+06</td>\n",
       "    </tr>\n",
       "    <tr>\n",
       "      <th>mean</th>\n",
       "      <td>5.584297e+02</td>\n",
       "      <td>3.998341e+00</td>\n",
       "      <td>5.773819e+03</td>\n",
       "      <td>6.331459e+02</td>\n",
       "      <td>8.301067e-01</td>\n",
       "      <td>3.815145e-01</td>\n",
       "      <td>1.786467e-01</td>\n",
       "    </tr>\n",
       "    <tr>\n",
       "      <th>std</th>\n",
       "      <td>3.219087e+02</td>\n",
       "      <td>1.997391e+00</td>\n",
       "      <td>3.849926e+03</td>\n",
       "      <td>4.644117e+02</td>\n",
       "      <td>3.755392e-01</td>\n",
       "      <td>4.857586e-01</td>\n",
       "      <td>3.830564e-01</td>\n",
       "    </tr>\n",
       "    <tr>\n",
       "      <th>min</th>\n",
       "      <td>1.000000e+00</td>\n",
       "      <td>1.000000e+00</td>\n",
       "      <td>0.000000e+00</td>\n",
       "      <td>0.000000e+00</td>\n",
       "      <td>0.000000e+00</td>\n",
       "      <td>0.000000e+00</td>\n",
       "      <td>0.000000e+00</td>\n",
       "    </tr>\n",
       "    <tr>\n",
       "      <th>25%</th>\n",
       "      <td>2.800000e+02</td>\n",
       "      <td>2.000000e+00</td>\n",
       "      <td>3.727000e+03</td>\n",
       "      <td>4.050000e+02</td>\n",
       "      <td>1.000000e+00</td>\n",
       "      <td>0.000000e+00</td>\n",
       "      <td>0.000000e+00</td>\n",
       "    </tr>\n",
       "    <tr>\n",
       "      <th>50%</th>\n",
       "      <td>5.580000e+02</td>\n",
       "      <td>4.000000e+00</td>\n",
       "      <td>5.744000e+03</td>\n",
       "      <td>6.090000e+02</td>\n",
       "      <td>1.000000e+00</td>\n",
       "      <td>0.000000e+00</td>\n",
       "      <td>0.000000e+00</td>\n",
       "    </tr>\n",
       "    <tr>\n",
       "      <th>75%</th>\n",
       "      <td>8.380000e+02</td>\n",
       "      <td>6.000000e+00</td>\n",
       "      <td>7.856000e+03</td>\n",
       "      <td>8.370000e+02</td>\n",
       "      <td>1.000000e+00</td>\n",
       "      <td>1.000000e+00</td>\n",
       "      <td>0.000000e+00</td>\n",
       "    </tr>\n",
       "    <tr>\n",
       "      <th>max</th>\n",
       "      <td>1.115000e+03</td>\n",
       "      <td>7.000000e+00</td>\n",
       "      <td>4.155100e+04</td>\n",
       "      <td>7.388000e+03</td>\n",
       "      <td>1.000000e+00</td>\n",
       "      <td>1.000000e+00</td>\n",
       "      <td>1.000000e+00</td>\n",
       "    </tr>\n",
       "  </tbody>\n",
       "</table>\n",
       "</div>"
      ],
      "text/plain": [
       "              Store     DayOfWeek         Sales     Customers          Open  \\\n",
       "count  1.017209e+06  1.017209e+06  1.017209e+06  1.017209e+06  1.017209e+06   \n",
       "mean   5.584297e+02  3.998341e+00  5.773819e+03  6.331459e+02  8.301067e-01   \n",
       "std    3.219087e+02  1.997391e+00  3.849926e+03  4.644117e+02  3.755392e-01   \n",
       "min    1.000000e+00  1.000000e+00  0.000000e+00  0.000000e+00  0.000000e+00   \n",
       "25%    2.800000e+02  2.000000e+00  3.727000e+03  4.050000e+02  1.000000e+00   \n",
       "50%    5.580000e+02  4.000000e+00  5.744000e+03  6.090000e+02  1.000000e+00   \n",
       "75%    8.380000e+02  6.000000e+00  7.856000e+03  8.370000e+02  1.000000e+00   \n",
       "max    1.115000e+03  7.000000e+00  4.155100e+04  7.388000e+03  1.000000e+00   \n",
       "\n",
       "              Promo  SchoolHoliday  \n",
       "count  1.017209e+06   1.017209e+06  \n",
       "mean   3.815145e-01   1.786467e-01  \n",
       "std    4.857586e-01   3.830564e-01  \n",
       "min    0.000000e+00   0.000000e+00  \n",
       "25%    0.000000e+00   0.000000e+00  \n",
       "50%    0.000000e+00   0.000000e+00  \n",
       "75%    1.000000e+00   0.000000e+00  \n",
       "max    1.000000e+00   1.000000e+00  "
      ]
     },
     "execution_count": 5,
     "metadata": {},
     "output_type": "execute_result"
    }
   ],
   "source": [
    "data.describe()"
   ]
  },
  {
   "cell_type": "code",
   "execution_count": 6,
   "id": "3d55a99b-146c-40e6-8466-4f225a993f71",
   "metadata": {},
   "outputs": [
    {
     "data": {
      "text/html": [
       "<div>\n",
       "<style scoped>\n",
       "    .dataframe tbody tr th:only-of-type {\n",
       "        vertical-align: middle;\n",
       "    }\n",
       "\n",
       "    .dataframe tbody tr th {\n",
       "        vertical-align: top;\n",
       "    }\n",
       "\n",
       "    .dataframe thead th {\n",
       "        text-align: right;\n",
       "    }\n",
       "</style>\n",
       "<table border=\"1\" class=\"dataframe\">\n",
       "  <thead>\n",
       "    <tr style=\"text-align: right;\">\n",
       "      <th></th>\n",
       "      <th>Store</th>\n",
       "      <th>DayOfWeek</th>\n",
       "      <th>Date</th>\n",
       "      <th>Sales</th>\n",
       "      <th>Customers</th>\n",
       "      <th>Open</th>\n",
       "      <th>Promo</th>\n",
       "      <th>StateHoliday</th>\n",
       "      <th>SchoolHoliday</th>\n",
       "    </tr>\n",
       "  </thead>\n",
       "  <tbody>\n",
       "  </tbody>\n",
       "</table>\n",
       "</div>"
      ],
      "text/plain": [
       "Empty DataFrame\n",
       "Columns: [Store, DayOfWeek, Date, Sales, Customers, Open, Promo, StateHoliday, SchoolHoliday]\n",
       "Index: []"
      ]
     },
     "execution_count": 6,
     "metadata": {},
     "output_type": "execute_result"
    }
   ],
   "source": [
    "data[(data['Open'] == 0) & (data['Sales'] > 0)] "
   ]
  },
  {
   "cell_type": "code",
   "execution_count": 7,
   "id": "44952578-d800-4f15-9e5c-1258845a147f",
   "metadata": {},
   "outputs": [
    {
     "data": {
      "text/plain": [
       "<bound method Series.unique of 0             1\n",
       "1             2\n",
       "2             3\n",
       "3             4\n",
       "4             5\n",
       "           ... \n",
       "1017204    1111\n",
       "1017205    1112\n",
       "1017206    1113\n",
       "1017207    1114\n",
       "1017208    1115\n",
       "Name: Store, Length: 1017209, dtype: int64>"
      ]
     },
     "execution_count": 7,
     "metadata": {},
     "output_type": "execute_result"
    }
   ],
   "source": [
    "data['Store'].unique"
   ]
  },
  {
   "cell_type": "code",
   "execution_count": 8,
   "id": "fa658b9f-b6d3-4596-bf0c-3a755d184c3e",
   "metadata": {},
   "outputs": [],
   "source": [
    "pd.to_datetime(data['Date']).inplace=True"
   ]
  },
  {
   "cell_type": "code",
   "execution_count": 9,
   "id": "c5fd70cf-8c47-4ea1-8776-855730dccad8",
   "metadata": {},
   "outputs": [],
   "source": [
    "data.set_index('Date', inplace = True)"
   ]
  },
  {
   "cell_type": "code",
   "execution_count": 10,
   "id": "b3baae01-509c-4531-aad6-3d1c7b150bf2",
   "metadata": {},
   "outputs": [
    {
     "data": {
      "text/plain": [
       "<Axes: xlabel='DayOfWeek', ylabel='Sales'>"
      ]
     },
     "execution_count": 10,
     "metadata": {},
     "output_type": "execute_result"
    },
    {
     "data": {
      "image/png": "[encoded data removed]",
      "text/plain": [
       "<Figure size 640x480 with 1 Axes>"
      ]
     },
     "metadata": {},
     "output_type": "display_data"
    }
   ],
   "source": [
    "sns.boxplot(x='DayOfWeek', y='Sales', data=data[data['Open'] == 1])"
   ]
  },
  {
   "cell_type": "code",
   "execution_count": 11,
   "id": "bd84f8dd-127b-4ebb-a62f-2466cb1755a3",
   "metadata": {},
   "outputs": [
    {
     "data": {
      "text/plain": [
       "[<matplotlib.lines.Line2D at 0x16ea17b6db0>]"
      ]
     },
     "execution_count": 11,
     "metadata": {},
     "output_type": "execute_result"
    },
    {
     "data": {
      "image/png": "[encoded data removed]",
      "text/plain": [
       "<Figure size 640x480 with 1 Axes>"
      ]
     },
     "metadata": {},
     "output_type": "display_data"
    }
   ],
   "source": [
    "data.index = pd.to_datetime(data.index)\n",
    "data['Month'] = data.index.month\n",
    "monthly_sales = data.groupby('Month')['Sales'].mean()\n",
    "plt.plot(monthly_sales)"
   ]
  },
  {
   "cell_type": "code",
   "execution_count": 12,
   "id": "ec6f4f0f-60c1-4edc-80ec-069a419a7ba3",
   "metadata": {},
   "outputs": [
    {
     "data": {
      "image/png": "[encoded data removed]",
      "text/plain": [
       "<Figure size 640x480 with 1 Axes>"
      ]
     },
     "metadata": {},
     "output_type": "display_data"
    }
   ],
   "source": [
    "data['year'] = data.index.year\n",
    "year_sales = data.groupby('year')['Sales'].mean().plot(kind='bar')\n",
    "# plt.plot(year_sales)"
   ]
  },
  {
   "cell_type": "code",
   "execution_count": 13,
   "id": "0d72255e-3a48-4c2a-b8da-195df7e262b7",
   "metadata": {},
   "outputs": [
    {
     "name": "stdout",
     "output_type": "stream",
     "text": [
      "promo days sales: 7991 vs Non-Promo: 4406\n"
     ]
    }
   ],
   "source": [
    "promo_sales = data.groupby('Promo')['Sales'].mean()\n",
    "print(f'promo days sales: {promo_sales[1]:.0f} vs Non-Promo: {promo_sales[0]:.0f}')"
   ]
  },
  {
   "cell_type": "code",
   "execution_count": 14,
   "id": "033e8676-3d5f-43db-bc2b-90d36a392b3d",
   "metadata": {},
   "outputs": [
    {
     "data": {
      "text/html": [
       "<div>\n",
       "<style scoped>\n",
       "    .dataframe tbody tr th:only-of-type {\n",
       "        vertical-align: middle;\n",
       "    }\n",
       "\n",
       "    .dataframe tbody tr th {\n",
       "        vertical-align: top;\n",
       "    }\n",
       "\n",
       "    .dataframe thead th {\n",
       "        text-align: right;\n",
       "    }\n",
       "</style>\n",
       "<table border=\"1\" class=\"dataframe\">\n",
       "  <thead>\n",
       "    <tr style=\"text-align: right;\">\n",
       "      <th>SchoolHoliday</th>\n",
       "      <th>0</th>\n",
       "      <th>1</th>\n",
       "    </tr>\n",
       "    <tr>\n",
       "      <th>Promo</th>\n",
       "      <th></th>\n",
       "      <th></th>\n",
       "    </tr>\n",
       "  </thead>\n",
       "  <tbody>\n",
       "    <tr>\n",
       "      <th>0</th>\n",
       "      <td>4237.208836</td>\n",
       "      <td>5303.505215</td>\n",
       "    </tr>\n",
       "    <tr>\n",
       "      <th>1</th>\n",
       "      <td>8015.661518</td>\n",
       "      <td>7899.810066</td>\n",
       "    </tr>\n",
       "  </tbody>\n",
       "</table>\n",
       "</div>"
      ],
      "text/plain": [
       "SchoolHoliday            0            1\n",
       "Promo                                  \n",
       "0              4237.208836  5303.505215\n",
       "1              8015.661518  7899.810066"
      ]
     },
     "execution_count": 14,
     "metadata": {},
     "output_type": "execute_result"
    }
   ],
   "source": [
    "data.groupby(['Promo', 'SchoolHoliday'])['Sales'].mean().unstack()"
   ]
  },
  {
   "cell_type": "code",
   "execution_count": 15,
   "id": "14c6e0d2-48bb-40cd-99c4-fd3f5cd90b04",
   "metadata": {},
   "outputs": [
    {
     "data": {
      "text/plain": [
       "Store\n",
       "262     20718.515924\n",
       "817     18108.139066\n",
       "562     17969.556263\n",
       "1114    17200.196391\n",
       "251     15814.087049\n",
       "Name: Sales, dtype: float64"
      ]
     },
     "execution_count": 15,
     "metadata": {},
     "output_type": "execute_result"
    }
   ],
   "source": [
    "data.groupby('Store')['Sales'].mean().sort_values(ascending=False).head()"
   ]
  },
  {
   "cell_type": "code",
   "execution_count": 16,
   "id": "f20898f0-cd13-405d-8f8b-69592bc575fe",
   "metadata": {},
   "outputs": [
    {
     "data": {
      "text/plain": [
       "(array([  9.,  18.,  37.,  44.,  87., 106.,  90.,  98.,  95., 108.,  88.,\n",
       "         65.,  55.,  45.,  39.,  30.,  19.,  18.,  11.,   9.,   6.,   2.,\n",
       "          4.,   7.,   3.,   4.,   1.,   3.,   2.,   1.,   0.,   1.,   1.,\n",
       "          0.,   3.,   1.,   1.,   0.,   0.,   0.,   1.,   0.,   2.,   0.,\n",
       "          0.,   0.,   0.,   0.,   0.,   1.]),\n",
       " array([ 2244.50318471,  2613.98343949,  2983.46369427,  3352.94394904,\n",
       "         3722.42420382,  4091.9044586 ,  4461.38471338,  4830.86496815,\n",
       "         5200.34522293,  5569.82547771,  5939.30573248,  6308.78598726,\n",
       "         6678.26624204,  7047.74649682,  7417.22675159,  7786.70700637,\n",
       "         8156.18726115,  8525.66751592,  8895.1477707 ,  9264.62802548,\n",
       "         9634.10828025, 10003.58853503, 10373.06878981, 10742.54904459,\n",
       "        11112.02929936, 11481.50955414, 11850.98980892, 12220.47006369,\n",
       "        12589.95031847, 12959.43057325, 13328.91082803, 13698.3910828 ,\n",
       "        14067.87133758, 14437.35159236, 14806.83184713, 15176.31210191,\n",
       "        15545.79235669, 15915.27261146, 16284.75286624, 16654.23312102,\n",
       "        17023.7133758 , 17393.19363057, 17762.67388535, 18132.15414013,\n",
       "        18501.6343949 , 18871.11464968, 19240.59490446, 19610.07515924,\n",
       "        19979.55541401, 20349.03566879, 20718.51592357]),\n",
       " <BarContainer object of 50 artists>)"
      ]
     },
     "execution_count": 16,
     "metadata": {},
     "output_type": "execute_result"
    },
    {
     "data": {
      "image/png": "[encoded data removed]",
      "text/plain": [
       "<Figure size 640x480 with 1 Axes>"
      ]
     },
     "metadata": {},
     "output_type": "display_data"
    }
   ],
   "source": [
    "plt.hist(data.groupby('Store')['Sales'].mean(), bins=50)"
   ]
  },
  {
   "cell_type": "code",
   "execution_count": 17,
   "id": "e7f67a40-6df0-4f8b-8d11-8fd0c306a6b7",
   "metadata": {},
   "outputs": [
    {
     "name": "stderr",
     "output_type": "stream",
     "text": [
      "C:\\Users\\abhishek maurya\\AppData\\Local\\Temp\\ipykernel_19128\\693954412.py:1: FutureWarning: Downcasting behavior in `replace` is deprecated and will be removed in a future version. To retain the old behavior, explicitly call `result.infer_objects(copy=False)`. To opt-in to the future behavior, set `pd.set_option('future.no_silent_downcasting', True)`\n",
      "  data['StateHoliday'] = data['StateHoliday'].replace({'0': 0, 'a': 1, 'b': 2, 'c': 3})\n"
     ]
    },
    {
     "data": {
      "image/png": "[encoded data removed]",
      "text/plain": [
       "<Figure size 640x480 with 1 Axes>"
      ]
     },
     "metadata": {},
     "output_type": "display_data"
    }
   ],
   "source": [
    "data['StateHoliday'] = data['StateHoliday'].replace({'0': 0, 'a': 1, 'b': 2, 'c': 3})\n",
    "holiday_sales = data.groupby('StateHoliday')['Sales'].mean().plot(kind='bar')\n"
   ]
  },
  {
   "cell_type": "code",
   "execution_count": 18,
   "id": "48a7b05d-61f0-46e8-a1bc-6141740c1418",
   "metadata": {},
   "outputs": [
    {
     "data": {
      "text/plain": [
       "<Axes: xlabel='Customers', ylabel='Sales'>"
      ]
     },
     "execution_count": 18,
     "metadata": {},
     "output_type": "execute_result"
    },
    {
     "data": {
      "image/png": "[encoded data removed]",
      "text/plain": [
       "<Figure size 640x480 with 1 Axes>"
      ]
     },
     "metadata": {},
     "output_type": "display_data"
    }
   ],
   "source": [
    "sns.scatterplot(x='Customers', y='Sales', data=data, alpha=0.3)"
   ]
  },
  {
   "cell_type": "code",
   "execution_count": 19,
   "id": "0a40dfad-afad-444a-8a0d-439b4338450f",
   "metadata": {},
   "outputs": [
    {
     "data": {
      "text/plain": [
       "<Axes: >"
      ]
     },
     "execution_count": 19,
     "metadata": {},
     "output_type": "execute_result"
    },
    {
     "data": {
      "image/png": "[encoded data removed]",
      "text/plain": [
       "<Figure size 640x480 with 2 Axes>"
      ]
     },
     "metadata": {},
     "output_type": "display_data"
    }
   ],
   "source": [
    "sns.heatmap(data[['Sales', 'Customers', 'Promo', 'SchoolHoliday']].corr(), annot=True)"
   ]
  },
  {
   "cell_type": "code",
   "execution_count": 20,
   "id": "f2081ff0-6e5a-415c-8425-4850ddf48a92",
   "metadata": {},
   "outputs": [],
   "source": [
    "data = data[data['Open'] == 1]\n",
    "data = data.drop(columns=['Open'])"
   ]
  },
  {
   "cell_type": "code",
   "execution_count": 21,
   "id": "e6f93a41-c088-4fd5-9cab-36d8b819128d",
   "metadata": {},
   "outputs": [
    {
     "data": {
      "text/html": [
       "<div>\n",
       "<style scoped>\n",
       "    .dataframe tbody tr th:only-of-type {\n",
       "        vertical-align: middle;\n",
       "    }\n",
       "\n",
       "    .dataframe tbody tr th {\n",
       "        vertical-align: top;\n",
       "    }\n",
       "\n",
       "    .dataframe thead th {\n",
       "        text-align: right;\n",
       "    }\n",
       "</style>\n",
       "<table border=\"1\" class=\"dataframe\">\n",
       "  <thead>\n",
       "    <tr style=\"text-align: right;\">\n",
       "      <th></th>\n",
       "      <th>Store</th>\n",
       "      <th>DayOfWeek</th>\n",
       "      <th>Sales</th>\n",
       "      <th>Customers</th>\n",
       "      <th>Promo</th>\n",
       "      <th>StateHoliday</th>\n",
       "      <th>SchoolHoliday</th>\n",
       "      <th>Month</th>\n",
       "      <th>year</th>\n",
       "    </tr>\n",
       "    <tr>\n",
       "      <th>Date</th>\n",
       "      <th></th>\n",
       "      <th></th>\n",
       "      <th></th>\n",
       "      <th></th>\n",
       "      <th></th>\n",
       "      <th></th>\n",
       "      <th></th>\n",
       "      <th></th>\n",
       "      <th></th>\n",
       "    </tr>\n",
       "  </thead>\n",
       "  <tbody>\n",
       "    <tr>\n",
       "      <th>2015-07-31</th>\n",
       "      <td>1</td>\n",
       "      <td>5</td>\n",
       "      <td>5263</td>\n",
       "      <td>555</td>\n",
       "      <td>1</td>\n",
       "      <td>0</td>\n",
       "      <td>1</td>\n",
       "      <td>7</td>\n",
       "      <td>2015</td>\n",
       "    </tr>\n",
       "    <tr>\n",
       "      <th>2015-07-31</th>\n",
       "      <td>2</td>\n",
       "      <td>5</td>\n",
       "      <td>6064</td>\n",
       "      <td>625</td>\n",
       "      <td>1</td>\n",
       "      <td>0</td>\n",
       "      <td>1</td>\n",
       "      <td>7</td>\n",
       "      <td>2015</td>\n",
       "    </tr>\n",
       "    <tr>\n",
       "      <th>2015-07-31</th>\n",
       "      <td>3</td>\n",
       "      <td>5</td>\n",
       "      <td>8314</td>\n",
       "      <td>821</td>\n",
       "      <td>1</td>\n",
       "      <td>0</td>\n",
       "      <td>1</td>\n",
       "      <td>7</td>\n",
       "      <td>2015</td>\n",
       "    </tr>\n",
       "    <tr>\n",
       "      <th>2015-07-31</th>\n",
       "      <td>4</td>\n",
       "      <td>5</td>\n",
       "      <td>13995</td>\n",
       "      <td>1498</td>\n",
       "      <td>1</td>\n",
       "      <td>0</td>\n",
       "      <td>1</td>\n",
       "      <td>7</td>\n",
       "      <td>2015</td>\n",
       "    </tr>\n",
       "    <tr>\n",
       "      <th>2015-07-31</th>\n",
       "      <td>5</td>\n",
       "      <td>5</td>\n",
       "      <td>4822</td>\n",
       "      <td>559</td>\n",
       "      <td>1</td>\n",
       "      <td>0</td>\n",
       "      <td>1</td>\n",
       "      <td>7</td>\n",
       "      <td>2015</td>\n",
       "    </tr>\n",
       "  </tbody>\n",
       "</table>\n",
       "</div>"
      ],
      "text/plain": [
       "            Store  DayOfWeek  Sales  Customers  Promo  StateHoliday  \\\n",
       "Date                                                                  \n",
       "2015-07-31      1          5   5263        555      1             0   \n",
       "2015-07-31      2          5   6064        625      1             0   \n",
       "2015-07-31      3          5   8314        821      1             0   \n",
       "2015-07-31      4          5  13995       1498      1             0   \n",
       "2015-07-31      5          5   4822        559      1             0   \n",
       "\n",
       "            SchoolHoliday  Month  year  \n",
       "Date                                    \n",
       "2015-07-31              1      7  2015  \n",
       "2015-07-31              1      7  2015  \n",
       "2015-07-31              1      7  2015  \n",
       "2015-07-31              1      7  2015  \n",
       "2015-07-31              1      7  2015  "
      ]
     },
     "execution_count": 21,
     "metadata": {},
     "output_type": "execute_result"
    }
   ],
   "source": [
    "data.head()"
   ]
  },
  {
   "cell_type": "code",
   "execution_count": 22,
   "id": "d4560864-5e24-4528-9f01-3ff3ee50a65e",
   "metadata": {},
   "outputs": [],
   "source": [
    "data = pd.get_dummies(data, columns=['StateHoliday'], prefix='Holiday_')\n",
    "holiday_cols = [col for col in data.columns if col.startswith('Holiday_')]\n",
    "data[holiday_cols] = data[holiday_cols].astype(int)\n"
   ]
  },
  {
   "cell_type": "code",
   "execution_count": 23,
   "id": "f6693244-28aa-45c8-8d28-3eca46ca63fe",
   "metadata": {},
   "outputs": [
    {
     "data": {
      "text/html": [
       "<div>\n",
       "<style scoped>\n",
       "    .dataframe tbody tr th:only-of-type {\n",
       "        vertical-align: middle;\n",
       "    }\n",
       "\n",
       "    .dataframe tbody tr th {\n",
       "        vertical-align: top;\n",
       "    }\n",
       "\n",
       "    .dataframe thead th {\n",
       "        text-align: right;\n",
       "    }\n",
       "</style>\n",
       "<table border=\"1\" class=\"dataframe\">\n",
       "  <thead>\n",
       "    <tr style=\"text-align: right;\">\n",
       "      <th></th>\n",
       "      <th>Store</th>\n",
       "      <th>DayOfWeek</th>\n",
       "      <th>Sales</th>\n",
       "      <th>Customers</th>\n",
       "      <th>Promo</th>\n",
       "      <th>SchoolHoliday</th>\n",
       "      <th>Month</th>\n",
       "      <th>year</th>\n",
       "      <th>Holiday__0</th>\n",
       "      <th>Holiday__1</th>\n",
       "      <th>Holiday__2</th>\n",
       "      <th>Holiday__3</th>\n",
       "    </tr>\n",
       "    <tr>\n",
       "      <th>Date</th>\n",
       "      <th></th>\n",
       "      <th></th>\n",
       "      <th></th>\n",
       "      <th></th>\n",
       "      <th></th>\n",
       "      <th></th>\n",
       "      <th></th>\n",
       "      <th></th>\n",
       "      <th></th>\n",
       "      <th></th>\n",
       "      <th></th>\n",
       "      <th></th>\n",
       "    </tr>\n",
       "  </thead>\n",
       "  <tbody>\n",
       "    <tr>\n",
       "      <th>2015-07-31</th>\n",
       "      <td>1</td>\n",
       "      <td>5</td>\n",
       "      <td>5263</td>\n",
       "      <td>555</td>\n",
       "      <td>1</td>\n",
       "      <td>1</td>\n",
       "      <td>7</td>\n",
       "      <td>2015</td>\n",
       "      <td>1</td>\n",
       "      <td>0</td>\n",
       "      <td>0</td>\n",
       "      <td>0</td>\n",
       "    </tr>\n",
       "    <tr>\n",
       "      <th>2015-07-31</th>\n",
       "      <td>2</td>\n",
       "      <td>5</td>\n",
       "      <td>6064</td>\n",
       "      <td>625</td>\n",
       "      <td>1</td>\n",
       "      <td>1</td>\n",
       "      <td>7</td>\n",
       "      <td>2015</td>\n",
       "      <td>1</td>\n",
       "      <td>0</td>\n",
       "      <td>0</td>\n",
       "      <td>0</td>\n",
       "    </tr>\n",
       "    <tr>\n",
       "      <th>2015-07-31</th>\n",
       "      <td>3</td>\n",
       "      <td>5</td>\n",
       "      <td>8314</td>\n",
       "      <td>821</td>\n",
       "      <td>1</td>\n",
       "      <td>1</td>\n",
       "      <td>7</td>\n",
       "      <td>2015</td>\n",
       "      <td>1</td>\n",
       "      <td>0</td>\n",
       "      <td>0</td>\n",
       "      <td>0</td>\n",
       "    </tr>\n",
       "    <tr>\n",
       "      <th>2015-07-31</th>\n",
       "      <td>4</td>\n",
       "      <td>5</td>\n",
       "      <td>13995</td>\n",
       "      <td>1498</td>\n",
       "      <td>1</td>\n",
       "      <td>1</td>\n",
       "      <td>7</td>\n",
       "      <td>2015</td>\n",
       "      <td>1</td>\n",
       "      <td>0</td>\n",
       "      <td>0</td>\n",
       "      <td>0</td>\n",
       "    </tr>\n",
       "    <tr>\n",
       "      <th>2015-07-31</th>\n",
       "      <td>5</td>\n",
       "      <td>5</td>\n",
       "      <td>4822</td>\n",
       "      <td>559</td>\n",
       "      <td>1</td>\n",
       "      <td>1</td>\n",
       "      <td>7</td>\n",
       "      <td>2015</td>\n",
       "      <td>1</td>\n",
       "      <td>0</td>\n",
       "      <td>0</td>\n",
       "      <td>0</td>\n",
       "    </tr>\n",
       "  </tbody>\n",
       "</table>\n",
       "</div>"
      ],
      "text/plain": [
       "            Store  DayOfWeek  Sales  Customers  Promo  SchoolHoliday  Month  \\\n",
       "Date                                                                          \n",
       "2015-07-31      1          5   5263        555      1              1      7   \n",
       "2015-07-31      2          5   6064        625      1              1      7   \n",
       "2015-07-31      3          5   8314        821      1              1      7   \n",
       "2015-07-31      4          5  13995       1498      1              1      7   \n",
       "2015-07-31      5          5   4822        559      1              1      7   \n",
       "\n",
       "            year  Holiday__0  Holiday__1  Holiday__2  Holiday__3  \n",
       "Date                                                              \n",
       "2015-07-31  2015           1           0           0           0  \n",
       "2015-07-31  2015           1           0           0           0  \n",
       "2015-07-31  2015           1           0           0           0  \n",
       "2015-07-31  2015           1           0           0           0  \n",
       "2015-07-31  2015           1           0           0           0  "
      ]
     },
     "execution_count": 23,
     "metadata": {},
     "output_type": "execute_result"
    }
   ],
   "source": [
    "data.head()"
   ]
  },
  {
   "cell_type": "code",
   "execution_count": 24,
   "id": "03f50cb5-2268-4584-a63b-237a92dc299a",
   "metadata": {},
   "outputs": [
    {
     "data": {
      "image/png": "[encoded data removed]",
      "text/plain": [
       "<Figure size 1000x600 with 1 Axes>"
      ]
     },
     "metadata": {},
     "output_type": "display_data"
    }
   ],
   "source": [
    "plt.figure(figsize=(10,6))\n",
    "sns.boxplot(data['Sales'])\n",
    "plt.show()"
   ]
  },
  {
   "cell_type": "code",
   "execution_count": 25,
   "id": "6c369b0c-1523-486e-9514-8aba0f52749c",
   "metadata": {},
   "outputs": [
    {
     "data": {
      "image/png": "[encoded data removed]",
      "text/plain": [
       "<Figure size 640x480 with 1 Axes>"
      ]
     },
     "metadata": {},
     "output_type": "display_data"
    }
   ],
   "source": [
    "plt.hist(data['Sales'], bins=50)\n",
    "plt.title('Sales Disturbation')\n",
    "plt.xlabel('Sales')\n",
    "plt.ylabel('Frequency')\n",
    "plt.show()"
   ]
  },
  {
   "cell_type": "code",
   "execution_count": 26,
   "id": "c3e5c482-23ca-4ce4-9ab5-dfcd599ba2ff",
   "metadata": {},
   "outputs": [
    {
     "name": "stdout",
     "output_type": "stream",
     "text": [
      "Skewness: 1.59\n"
     ]
    }
   ],
   "source": [
    "from scipy.stats import skew\n",
    "\n",
    "skewness = skew(data['Sales'])\n",
    "print(f'Skewness: {skewness:.2f}')\n"
   ]
  },
  {
   "cell_type": "code",
   "execution_count": 27,
   "id": "e39131f5-48aa-4364-af48-648fe04795d8",
   "metadata": {},
   "outputs": [],
   "source": [
    "q1 = data['Sales'].quantile(0.01)\n",
    "q99 = data['Sales'].quantile(0.99)\n",
    "data['Sales'] = data['Sales'].clip(lower=q1, upper=q99)"
   ]
  },
  {
   "cell_type": "code",
   "execution_count": 28,
   "id": "d10fedf7-f2ca-4d81-a51e-76db952bd3bf",
   "metadata": {},
   "outputs": [
    {
     "data": {
      "image/png": "[encoded data removed]",
      "text/plain": [
       "<Figure size 1000x600 with 1 Axes>"
      ]
     },
     "metadata": {},
     "output_type": "display_data"
    }
   ],
   "source": [
    "plt.figure(figsize=(10,6))\n",
    "sns.boxplot(data['Sales'])\n",
    "plt.show()"
   ]
  },
  {
   "cell_type": "code",
   "execution_count": 29,
   "id": "f78ade7b-2933-412f-9a4f-297f7d24545c",
   "metadata": {},
   "outputs": [],
   "source": [
    "data['Sales'] = np.log1p(data['Sales'])"
   ]
  },
  {
   "cell_type": "code",
   "execution_count": 30,
   "id": "1da3c15f-7a30-4356-9bea-f03de0846542",
   "metadata": {},
   "outputs": [
    {
     "data": {
      "image/png": "[encoded data removed]",
      "text/plain": [
       "<Figure size 640x480 with 1 Axes>"
      ]
     },
     "metadata": {},
     "output_type": "display_data"
    }
   ],
   "source": [
    "plt.hist(data['Sales'], bins=50)\n",
    "plt.title('sales distrubiton')\n",
    "plt.show()"
   ]
  },
  {
   "cell_type": "code",
   "execution_count": 31,
   "id": "98cd3e88-a152-4158-95ea-a0f5f74c15d5",
   "metadata": {},
   "outputs": [],
   "source": [
    "data['Dayofmonth'] = data.index.day\n",
    "data['IsWeekend'] = data['DayOfWeek'].isin([6, 7]).astype(int)\n",
    "## isko pahele hi kar lena chaiye tha lekin jane do der hai durast aaye"
   ]
  },
  {
   "cell_type": "code",
   "execution_count": 32,
   "id": "a4356e7b-81ab-4174-ba07-4393cc1164dc",
   "metadata": {},
   "outputs": [
    {
     "name": "stdout",
     "output_type": "stream",
     "text": [
      "(52, 14)\n"
     ]
    }
   ],
   "source": [
    "print(data[data['Customers'] == 0].shape)  # Check if any open days have zero customers"
   ]
  },
  {
   "cell_type": "code",
   "execution_count": 33,
   "id": "46bb4774-38d0-43ec-90a3-a8497885811f",
   "metadata": {},
   "outputs": [],
   "source": [
    "df = data.copy()\n"
   ]
  },
  {
   "cell_type": "code",
   "execution_count": 34,
   "id": "06e81904-261b-4898-b68c-f16a325805a0",
   "metadata": {},
   "outputs": [],
   "source": [
    "df = df.reset_index('Date')\n",
    "df = df.drop(columns=['Customers'])  \n",
    "df = df.sort_values(by=['Store', 'Date'])"
   ]
  },
  {
   "cell_type": "code",
   "execution_count": 35,
   "id": "847174be-d60d-49a0-b301-353d1dd58a02",
   "metadata": {},
   "outputs": [],
   "source": [
    "df['Sales_Lag7'] = df.groupby('Store')['Sales'].shift(7)\n",
    "\n",
    "store_avg = df.groupby('Store')['Sales'].transform('mean')\n",
    "df['Sales_Lag7'] = df['Sales_Lag7'].fillna(store_avg)\n",
    "\n",
    "df['Sales_RollingMean7'] = (\n",
    "    df.groupby('Store')['Sales']\n",
    "    .transform(lambda x: x.rolling(7, min_periods=3).mean()) \n",
    ")\n",
    "\n",
    "df['Sales_RollingMean7'] = df.groupby('Store')['Sales_RollingMean7'].ffill()"
   ]
  },
  {
   "cell_type": "code",
   "execution_count": 36,
   "id": "cf9c19e7-1b39-4904-96f8-680c986ef3c1",
   "metadata": {},
   "outputs": [
    {
     "data": {
      "text/html": [
       "<div>\n",
       "<style scoped>\n",
       "    .dataframe tbody tr th:only-of-type {\n",
       "        vertical-align: middle;\n",
       "    }\n",
       "\n",
       "    .dataframe tbody tr th {\n",
       "        vertical-align: top;\n",
       "    }\n",
       "\n",
       "    .dataframe thead th {\n",
       "        text-align: right;\n",
       "    }\n",
       "</style>\n",
       "<table border=\"1\" class=\"dataframe\">\n",
       "  <thead>\n",
       "    <tr style=\"text-align: right;\">\n",
       "      <th></th>\n",
       "      <th>Date</th>\n",
       "      <th>Store</th>\n",
       "      <th>DayOfWeek</th>\n",
       "      <th>Sales</th>\n",
       "      <th>Promo</th>\n",
       "      <th>SchoolHoliday</th>\n",
       "      <th>Month</th>\n",
       "      <th>year</th>\n",
       "      <th>Holiday__0</th>\n",
       "      <th>Holiday__1</th>\n",
       "      <th>Holiday__2</th>\n",
       "      <th>Holiday__3</th>\n",
       "      <th>Dayofmonth</th>\n",
       "      <th>IsWeekend</th>\n",
       "      <th>Sales_Lag7</th>\n",
       "      <th>Sales_RollingMean7</th>\n",
       "    </tr>\n",
       "  </thead>\n",
       "  <tbody>\n",
       "    <tr>\n",
       "      <th>843264</th>\n",
       "      <td>2013-01-02</td>\n",
       "      <td>1</td>\n",
       "      <td>3</td>\n",
       "      <td>8.618124</td>\n",
       "      <td>0</td>\n",
       "      <td>1</td>\n",
       "      <td>1</td>\n",
       "      <td>2013</td>\n",
       "      <td>1</td>\n",
       "      <td>0</td>\n",
       "      <td>0</td>\n",
       "      <td>0</td>\n",
       "      <td>2</td>\n",
       "      <td>0</td>\n",
       "      <td>8.446708</td>\n",
       "      <td>NaN</td>\n",
       "    </tr>\n",
       "    <tr>\n",
       "      <th>842155</th>\n",
       "      <td>2013-01-03</td>\n",
       "      <td>1</td>\n",
       "      <td>4</td>\n",
       "      <td>8.372861</td>\n",
       "      <td>0</td>\n",
       "      <td>1</td>\n",
       "      <td>1</td>\n",
       "      <td>2013</td>\n",
       "      <td>1</td>\n",
       "      <td>0</td>\n",
       "      <td>0</td>\n",
       "      <td>0</td>\n",
       "      <td>3</td>\n",
       "      <td>0</td>\n",
       "      <td>8.446708</td>\n",
       "      <td>NaN</td>\n",
       "    </tr>\n",
       "    <tr>\n",
       "      <th>841047</th>\n",
       "      <td>2013-01-04</td>\n",
       "      <td>1</td>\n",
       "      <td>5</td>\n",
       "      <td>8.408940</td>\n",
       "      <td>0</td>\n",
       "      <td>1</td>\n",
       "      <td>1</td>\n",
       "      <td>2013</td>\n",
       "      <td>1</td>\n",
       "      <td>0</td>\n",
       "      <td>0</td>\n",
       "      <td>0</td>\n",
       "      <td>4</td>\n",
       "      <td>0</td>\n",
       "      <td>8.446708</td>\n",
       "      <td>8.466641</td>\n",
       "    </tr>\n",
       "    <tr>\n",
       "      <th>839940</th>\n",
       "      <td>2013-01-05</td>\n",
       "      <td>1</td>\n",
       "      <td>6</td>\n",
       "      <td>8.516793</td>\n",
       "      <td>0</td>\n",
       "      <td>1</td>\n",
       "      <td>1</td>\n",
       "      <td>2013</td>\n",
       "      <td>1</td>\n",
       "      <td>0</td>\n",
       "      <td>0</td>\n",
       "      <td>0</td>\n",
       "      <td>5</td>\n",
       "      <td>1</td>\n",
       "      <td>8.446708</td>\n",
       "      <td>8.479179</td>\n",
       "    </tr>\n",
       "    <tr>\n",
       "      <th>838815</th>\n",
       "      <td>2013-01-07</td>\n",
       "      <td>1</td>\n",
       "      <td>1</td>\n",
       "      <td>8.878637</td>\n",
       "      <td>1</td>\n",
       "      <td>1</td>\n",
       "      <td>1</td>\n",
       "      <td>2013</td>\n",
       "      <td>1</td>\n",
       "      <td>0</td>\n",
       "      <td>0</td>\n",
       "      <td>0</td>\n",
       "      <td>7</td>\n",
       "      <td>0</td>\n",
       "      <td>8.446708</td>\n",
       "      <td>8.559071</td>\n",
       "    </tr>\n",
       "    <tr>\n",
       "      <th>837710</th>\n",
       "      <td>2013-01-08</td>\n",
       "      <td>1</td>\n",
       "      <td>2</td>\n",
       "      <td>8.627123</td>\n",
       "      <td>1</td>\n",
       "      <td>1</td>\n",
       "      <td>1</td>\n",
       "      <td>2013</td>\n",
       "      <td>1</td>\n",
       "      <td>0</td>\n",
       "      <td>0</td>\n",
       "      <td>0</td>\n",
       "      <td>8</td>\n",
       "      <td>0</td>\n",
       "      <td>8.446708</td>\n",
       "      <td>8.570413</td>\n",
       "    </tr>\n",
       "    <tr>\n",
       "      <th>836605</th>\n",
       "      <td>2013-01-09</td>\n",
       "      <td>1</td>\n",
       "      <td>3</td>\n",
       "      <td>8.607399</td>\n",
       "      <td>1</td>\n",
       "      <td>1</td>\n",
       "      <td>1</td>\n",
       "      <td>2013</td>\n",
       "      <td>1</td>\n",
       "      <td>0</td>\n",
       "      <td>0</td>\n",
       "      <td>0</td>\n",
       "      <td>9</td>\n",
       "      <td>0</td>\n",
       "      <td>8.446708</td>\n",
       "      <td>8.575697</td>\n",
       "    </tr>\n",
       "    <tr>\n",
       "      <th>835500</th>\n",
       "      <td>2013-01-10</td>\n",
       "      <td>1</td>\n",
       "      <td>4</td>\n",
       "      <td>8.495561</td>\n",
       "      <td>1</td>\n",
       "      <td>1</td>\n",
       "      <td>1</td>\n",
       "      <td>2013</td>\n",
       "      <td>1</td>\n",
       "      <td>0</td>\n",
       "      <td>0</td>\n",
       "      <td>0</td>\n",
       "      <td>10</td>\n",
       "      <td>0</td>\n",
       "      <td>8.618124</td>\n",
       "      <td>8.558188</td>\n",
       "    </tr>\n",
       "  </tbody>\n",
       "</table>\n",
       "</div>"
      ],
      "text/plain": [
       "             Date  Store  DayOfWeek     Sales  Promo  SchoolHoliday  Month  \\\n",
       "843264 2013-01-02      1          3  8.618124      0              1      1   \n",
       "842155 2013-01-03      1          4  8.372861      0              1      1   \n",
       "841047 2013-01-04      1          5  8.408940      0              1      1   \n",
       "839940 2013-01-05      1          6  8.516793      0              1      1   \n",
       "838815 2013-01-07      1          1  8.878637      1              1      1   \n",
       "837710 2013-01-08      1          2  8.627123      1              1      1   \n",
       "836605 2013-01-09      1          3  8.607399      1              1      1   \n",
       "835500 2013-01-10      1          4  8.495561      1              1      1   \n",
       "\n",
       "        year  Holiday__0  Holiday__1  Holiday__2  Holiday__3  Dayofmonth  \\\n",
       "843264  2013           1           0           0           0           2   \n",
       "842155  2013           1           0           0           0           3   \n",
       "841047  2013           1           0           0           0           4   \n",
       "839940  2013           1           0           0           0           5   \n",
       "838815  2013           1           0           0           0           7   \n",
       "837710  2013           1           0           0           0           8   \n",
       "836605  2013           1           0           0           0           9   \n",
       "835500  2013           1           0           0           0          10   \n",
       "\n",
       "        IsWeekend  Sales_Lag7  Sales_RollingMean7  \n",
       "843264          0    8.446708                 NaN  \n",
       "842155          0    8.446708                 NaN  \n",
       "841047          0    8.446708            8.466641  \n",
       "839940          1    8.446708            8.479179  \n",
       "838815          0    8.446708            8.559071  \n",
       "837710          0    8.446708            8.570413  \n",
       "836605          0    8.446708            8.575697  \n",
       "835500          0    8.618124            8.558188  "
      ]
     },
     "execution_count": 36,
     "metadata": {},
     "output_type": "execute_result"
    }
   ],
   "source": [
    "df.head(8)"
   ]
  },
  {
   "cell_type": "code",
   "execution_count": 37,
   "id": "726ed8ee-1879-4a09-b158-aa681bd09a81",
   "metadata": {},
   "outputs": [
    {
     "name": "stdout",
     "output_type": "stream",
     "text": [
      "Requirement already satisfied: lightgbm in c:\\users\\abhishek maurya\\anaconda3\\lib\\site-packages (4.6.0)\n",
      "Requirement already satisfied: numpy>=1.17.0 in c:\\users\\abhishek maurya\\anaconda3\\lib\\site-packages (from lightgbm) (1.26.4)\n",
      "Requirement already satisfied: scipy in c:\\users\\abhishek maurya\\anaconda3\\lib\\site-packages (from lightgbm) (1.13.1)\n"
     ]
    }
   ],
   "source": [
    "!pip install lightgbm"
   ]
  },
  {
   "cell_type": "code",
   "execution_count": 38,
   "id": "fcfb048d-baa4-4737-80e1-bafc503841e2",
   "metadata": {},
   "outputs": [],
   "source": [
    "df1 = df.copy()"
   ]
  },
  {
   "cell_type": "code",
   "execution_count": 39,
   "id": "b0bdd9f9-f85d-458f-b208-c8c879c6b0e0",
   "metadata": {},
   "outputs": [
    {
     "name": "stderr",
     "output_type": "stream",
     "text": [
      "C:\\Users\\abhishek maurya\\AppData\\Local\\Temp\\ipykernel_19128\\1787589031.py:2: DeprecationWarning: DataFrameGroupBy.apply operated on the grouping columns. This behavior is deprecated, and in a future version of pandas the grouping columns will be excluded from the operation. Either pass `include_groups=False` to exclude the groupings or explicitly select the grouping columns after groupby to silence this warning.\n",
      "  test = df.groupby('Store').apply(lambda x: x.nlargest(30, 'Date')).reset_index(drop=True)\n"
     ]
    },
    {
     "name": "stdout",
     "output_type": "stream",
     "text": [
      "[LightGBM] [Warning] Categorical features with more bins than the configured maximum bin number found.\n",
      "[LightGBM] [Warning] For categorical features, max_bin and max_bin_by_feature may be ignored with a large number of categories.\n",
      "[LightGBM] [Info] Auto-choosing row-wise multi-threading, the overhead of testing was 0.153076 seconds.\n",
      "You can set `force_row_wise=true` to remove the overhead.\n",
      "And if memory is not enough, you can set `force_col_wise=true`.\n",
      "[LightGBM] [Info] Total Bins 1682\n",
      "[LightGBM] [Info] Number of data points in the train set: 810942, number of used features: 14\n",
      "[LightGBM] [Info] Start training from score 8.756742\n",
      "Training until validation scores don't improve for 50 rounds\n",
      "[100]\tvalid_0's rmse: 0.134939\tvalid_0's l2: 0.0182085\n",
      "[200]\tvalid_0's rmse: 0.124542\tvalid_0's l2: 0.0155106\n",
      "[300]\tvalid_0's rmse: 0.120314\tvalid_0's l2: 0.0144754\n",
      "[400]\tvalid_0's rmse: 0.117996\tvalid_0's l2: 0.0139232\n",
      "[500]\tvalid_0's rmse: 0.115186\tvalid_0's l2: 0.0132678\n",
      "[600]\tvalid_0's rmse: 0.112536\tvalid_0's l2: 0.0126643\n",
      "[700]\tvalid_0's rmse: 0.11159\tvalid_0's l2: 0.0124522\n",
      "Early stopping, best iteration is:\n",
      "[661]\tvalid_0's rmse: 0.111277\tvalid_0's l2: 0.0123825\n",
      "Validation MSE: 710469.35\n"
     ]
    },
    {
     "data": {
      "image/png": "[encoded data removed]",
      "text/plain": [
       "<Figure size 1400x600 with 1 Axes>"
      ]
     },
     "metadata": {},
     "output_type": "display_data"
    }
   ],
   "source": [
    "# Each Store ka Last 30 Days -> Test\n",
    "test = df.groupby('Store').apply(lambda x: x.nlargest(30, 'Date')).reset_index(drop=True)\n",
    "train = df[~df.index.isin(test.index)]\n",
    "\n",
    "\n",
    "# Features and Target\n",
    "X_train = train.drop(columns=['Sales', 'Date'])\n",
    "y_train = train['Sales']\n",
    "\n",
    "X_test = test.drop(columns=['Sales', 'Date'])\n",
    "y_test = test['Sales']\n",
    "\n",
    "import lightgbm as lgb\n",
    "from sklearn.metrics import mean_squared_error\n",
    "import numpy as np\n",
    "\n",
    "from lightgbm import early_stopping, log_evaluation\n",
    "\n",
    "model = lgb.LGBMRegressor(\n",
    "    n_estimators=1000,\n",
    "    learning_rate=0.03,\n",
    "    max_depth=8,\n",
    "    random_state=42,\n",
    "    subsample=0.8,\n",
    "    colsample_bytree=0.8,\n",
    "    reg_alpha=0.1,\n",
    "    reg_lambda=0.1\n",
    ")\n",
    "\n",
    "model.fit(\n",
    "    X_train, y_train,\n",
    "    eval_set=[(X_test, y_test)],\n",
    "    eval_metric='rmse',\n",
    "     categorical_feature=['Store'],\n",
    "    callbacks=[\n",
    "        early_stopping(stopping_rounds=50),\n",
    "        log_evaluation(period=100)\n",
    "    ]\n",
    ")\n",
    "\n",
    "\n",
    "# Predict\n",
    "y_pred = model.predict(X_test)\n",
    "\n",
    "# If you did log1p on Sales earlier, do expm1 here\n",
    "y_test_actual = np.expm1(y_test)\n",
    "y_pred_actual = np.expm1(y_pred)\n",
    "\n",
    "# Evaluation\n",
    "mse = mean_squared_error(y_test_actual, y_pred_actual)\n",
    "print(f'Validation MSE: {mse:.2f}')\n",
    "\n",
    "import matplotlib.pyplot as plt\n",
    "\n",
    "plt.figure(figsize=(14,6))\n",
    "plt.plot(y_test_actual.values[:200], label='Actual Sales')\n",
    "plt.plot(y_pred_actual[:200], label='Predicted Sales', linestyle='--')\n",
    "plt.title('Actual vs Predicted Sales (First 200 points)')\n",
    "plt.legend()\n",
    "plt.show()\n"
   ]
  },
  {
   "cell_type": "code",
   "execution_count": 40,
   "id": "a8d60fc9-1b7e-4fa8-9f26-9585af6763fc",
   "metadata": {},
   "outputs": [
    {
     "name": "stdout",
     "output_type": "stream",
     "text": [
      "             Date  Store  DayOfWeek     Sales  Promo  SchoolHoliday  Month  \\\n",
      "843264 2013-01-02      1          3  8.618124      0              1      1   \n",
      "842155 2013-01-03      1          4  8.372861      0              1      1   \n",
      "841047 2013-01-04      1          5  8.408940      0              1      1   \n",
      "839940 2013-01-05      1          6  8.516793      0              1      1   \n",
      "838815 2013-01-07      1          1  8.878637      1              1      1   \n",
      "\n",
      "        year  Holiday__0  Holiday__1  Holiday__2  Holiday__3  Dayofmonth  \\\n",
      "843264  2013           1           0           0           0           2   \n",
      "842155  2013           1           0           0           0           3   \n",
      "841047  2013           1           0           0           0           4   \n",
      "839940  2013           1           0           0           0           5   \n",
      "838815  2013           1           0           0           0           7   \n",
      "\n",
      "        IsWeekend  Sales_Lag7  Sales_RollingMean7  Sales_Lag14  Sales_Lag30  \\\n",
      "843264          0    8.446708                 NaN     8.446708     8.446708   \n",
      "842155          0    8.446708                 NaN     8.446708     8.446708   \n",
      "841047          0    8.446708            8.466641     8.446708     8.446708   \n",
      "839940          1    8.446708            8.479179     8.446708     8.446708   \n",
      "838815          0    8.446708            8.559071     8.446708     8.446708   \n",
      "\n",
      "        Sales_RollingMean14  Sales_RollingMean30  \n",
      "843264             8.618124             8.618124  \n",
      "842155             8.495492             8.495492  \n",
      "841047             8.466641             8.466641  \n",
      "839940             8.479179             8.479179  \n",
      "838815             8.559071             8.559071  \n"
     ]
    }
   ],
   "source": [
    "# Lag Features (14, 30 days)\n",
    "df1['Sales_Lag14'] = df1.groupby('Store')['Sales'].shift(14)\n",
    "df1['Sales_Lag30'] = df1.groupby('Store')['Sales'].shift(30)\n",
    "\n",
    "# Fill missing lag values with store's average sales\n",
    "store_avg = df1.groupby('Store')['Sales'].transform('mean')\n",
    "df1['Sales_Lag14'] = df1['Sales_Lag14'].fillna(store_avg)\n",
    "df1['Sales_Lag30'] = df1['Sales_Lag30'].fillna(store_avg)\n",
    "\n",
    "# Rolling Mean Features (14, 30 days)\n",
    "df1['Sales_RollingMean14'] = (\n",
    "    df.groupby('Store')['Sales']\n",
    "    .transform(lambda x: x.rolling(14, min_periods=1).mean())  \n",
    ")\n",
    "df1['Sales_RollingMean30'] = (\n",
    "    df.groupby('Store')['Sales']\n",
    "    .transform(lambda x: x.rolling(30, min_periods=1).mean())  \n",
    ")\n",
    "\n",
    "# Forward fill missing rolling mean values\n",
    "df1['Sales_RollingMean14'] = df1.groupby('Store')['Sales_RollingMean14'].ffill()\n",
    "df1['Sales_RollingMean30'] = df1.groupby('Store')['Sales_RollingMean30'].ffill()\n",
    "\n",
    "\n",
    "print(df1.head())\n"
   ]
  },
  {
   "cell_type": "code",
   "execution_count": 41,
   "id": "9977d002-1ba7-4587-a58a-b70c826e3c53",
   "metadata": {},
   "outputs": [
    {
     "name": "stdout",
     "output_type": "stream",
     "text": [
      "Requirement already satisfied: optuna in c:\\users\\abhishek maurya\\anaconda3\\lib\\site-packages (4.3.0)\n",
      "Requirement already satisfied: alembic>=1.5.0 in c:\\users\\abhishek maurya\\anaconda3\\lib\\site-packages (from optuna) (1.15.2)\n",
      "Requirement already satisfied: colorlog in c:\\users\\abhishek maurya\\anaconda3\\lib\\site-packages (from optuna) (6.9.0)\n",
      "Requirement already satisfied: numpy in c:\\users\\abhishek maurya\\anaconda3\\lib\\site-packages (from optuna) (1.26.4)\n",
      "Requirement already satisfied: packaging>=20.0 in c:\\users\\abhishek maurya\\appdata\\roaming\\python\\python312\\site-packages (from optuna) (24.1)\n",
      "Requirement already satisfied: sqlalchemy>=1.4.2 in c:\\users\\abhishek maurya\\anaconda3\\lib\\site-packages (from optuna) (2.0.34)\n",
      "Requirement already satisfied: tqdm in c:\\users\\abhishek maurya\\anaconda3\\lib\\site-packages (from optuna) (4.66.5)\n",
      "Requirement already satisfied: PyYAML in c:\\users\\abhishek maurya\\anaconda3\\lib\\site-packages (from optuna) (6.0.1)\n",
      "Requirement already satisfied: Mako in c:\\users\\abhishek maurya\\anaconda3\\lib\\site-packages (from alembic>=1.5.0->optuna) (1.3.10)\n",
      "Requirement already satisfied: typing-extensions>=4.12 in c:\\users\\abhishek maurya\\anaconda3\\lib\\site-packages (from alembic>=1.5.0->optuna) (4.13.2)\n",
      "Requirement already satisfied: greenlet!=0.4.17 in c:\\users\\abhishek maurya\\anaconda3\\lib\\site-packages (from sqlalchemy>=1.4.2->optuna) (3.0.1)\n",
      "Requirement already satisfied: colorama in c:\\users\\abhishek maurya\\anaconda3\\lib\\site-packages (from colorlog->optuna) (0.4.6)\n",
      "Requirement already satisfied: MarkupSafe>=0.9.2 in c:\\users\\abhishek maurya\\anaconda3\\lib\\site-packages (from Mako->alembic>=1.5.0->optuna) (2.1.3)\n"
     ]
    }
   ],
   "source": [
    "!pip install optuna\n"
   ]
  },
  {
   "cell_type": "code",
   "execution_count": 42,
   "id": "55ed4fb2-552d-472e-8433-7c0df4ef016d",
   "metadata": {},
   "outputs": [
    {
     "name": "stderr",
     "output_type": "stream",
     "text": [
      "[I 2025-04-27 23:09:08,603] A new study created in memory with name: no-name-b8a017be-5ac2-4673-8c00-8b5ce37f9e98\n"
     ]
    },
    {
     "name": "stdout",
     "output_type": "stream",
     "text": [
      "[LightGBM] [Info] Auto-choosing row-wise multi-threading, the overhead of testing was 0.147501 seconds.\n",
      "You can set `force_row_wise=true` to remove the overhead.\n",
      "And if memory is not enough, you can set `force_col_wise=true`.\n",
      "[LightGBM] [Info] Total Bins 836\n",
      "[LightGBM] [Info] Number of data points in the train set: 810942, number of used features: 14\n",
      "[LightGBM] [Info] Start training from score 8.756742\n"
     ]
    },
    {
     "name": "stderr",
     "output_type": "stream",
     "text": [
      "[I 2025-04-27 23:09:31,852] Trial 0 finished with value: 0.1466175536195676 and parameters: {'n_estimators': 249, 'learning_rate': 0.0342790377687476, 'max_depth': 8, 'subsample': 0.7236094797796374, 'colsample_bytree': 0.7378189211898308, 'reg_alpha': 0.09905497964280974, 'reg_lambda': 0.010896762785680534}. Best is trial 0 with value: 0.1466175536195676.\n"
     ]
    },
    {
     "name": "stdout",
     "output_type": "stream",
     "text": [
      "[LightGBM] [Info] Auto-choosing row-wise multi-threading, the overhead of testing was 0.108560 seconds.\n",
      "You can set `force_row_wise=true` to remove the overhead.\n",
      "And if memory is not enough, you can set `force_col_wise=true`.\n",
      "[LightGBM] [Info] Total Bins 836\n",
      "[LightGBM] [Info] Number of data points in the train set: 810942, number of used features: 14\n",
      "[LightGBM] [Info] Start training from score 8.756742\n"
     ]
    },
    {
     "name": "stderr",
     "output_type": "stream",
     "text": [
      "[I 2025-04-27 23:09:42,815] Trial 1 finished with value: 0.14536843327215065 and parameters: {'n_estimators': 197, 'learning_rate': 0.044273151192290014, 'max_depth': 12, 'subsample': 0.78511245445268, 'colsample_bytree': 0.8678269831812958, 'reg_alpha': 0.02406354616477568, 'reg_lambda': 0.08550669981260499}. Best is trial 1 with value: 0.14536843327215065.\n"
     ]
    },
    {
     "name": "stdout",
     "output_type": "stream",
     "text": [
      "[LightGBM] [Info] Auto-choosing row-wise multi-threading, the overhead of testing was 0.110326 seconds.\n",
      "You can set `force_row_wise=true` to remove the overhead.\n",
      "And if memory is not enough, you can set `force_col_wise=true`.\n",
      "[LightGBM] [Info] Total Bins 836\n",
      "[LightGBM] [Info] Number of data points in the train set: 810942, number of used features: 14\n",
      "[LightGBM] [Info] Start training from score 8.756742\n"
     ]
    },
    {
     "name": "stderr",
     "output_type": "stream",
     "text": [
      "[I 2025-04-27 23:10:07,381] Trial 2 finished with value: 0.14546495354532982 and parameters: {'n_estimators': 269, 'learning_rate': 0.02539881632806057, 'max_depth': 12, 'subsample': 0.8241182172508461, 'colsample_bytree': 0.8687185539428062, 'reg_alpha': 0.07974590539773435, 'reg_lambda': 0.08955893567018879}. Best is trial 1 with value: 0.14536843327215065.\n"
     ]
    },
    {
     "name": "stdout",
     "output_type": "stream",
     "text": [
      "[LightGBM] [Info] Auto-choosing row-wise multi-threading, the overhead of testing was 0.100142 seconds.\n",
      "You can set `force_row_wise=true` to remove the overhead.\n",
      "And if memory is not enough, you can set `force_col_wise=true`.\n",
      "[LightGBM] [Info] Total Bins 836\n",
      "[LightGBM] [Info] Number of data points in the train set: 810942, number of used features: 14\n",
      "[LightGBM] [Info] Start training from score 8.756742\n"
     ]
    },
    {
     "name": "stderr",
     "output_type": "stream",
     "text": [
      "[I 2025-04-27 23:10:37,978] Trial 3 finished with value: 0.13925196666712863 and parameters: {'n_estimators': 517, 'learning_rate': 0.04577000468390908, 'max_depth': 11, 'subsample': 0.9717427863569592, 'colsample_bytree': 0.8580461977946193, 'reg_alpha': 0.03107027598939096, 'reg_lambda': 0.020755596772337973}. Best is trial 3 with value: 0.13925196666712863.\n"
     ]
    },
    {
     "name": "stdout",
     "output_type": "stream",
     "text": [
      "[LightGBM] [Info] Auto-choosing row-wise multi-threading, the overhead of testing was 0.084259 seconds.\n",
      "You can set `force_row_wise=true` to remove the overhead.\n",
      "And if memory is not enough, you can set `force_col_wise=true`.\n",
      "[LightGBM] [Info] Total Bins 836\n",
      "[LightGBM] [Info] Number of data points in the train set: 810942, number of used features: 14\n",
      "[LightGBM] [Info] Start training from score 8.756742\n",
      "[LightGBM] [Warning] No further splits with positive gain, best gain: -inf\n",
      "[LightGBM] [Warning] No further splits with positive gain, best gain: -inf\n",
      "[LightGBM] [Warning] No further splits with positive gain, best gain: -inf\n",
      "[LightGBM] [Warning] No further splits with positive gain, best gain: -inf\n",
      "[LightGBM] [Warning] No further splits with positive gain, best gain: -inf\n",
      "[LightGBM] [Warning] No further splits with positive gain, best gain: -inf\n",
      "[LightGBM] [Warning] No further splits with positive gain, best gain: -inf\n",
      "[LightGBM] [Warning] No further splits with positive gain, best gain: -inf\n",
      "[LightGBM] [Warning] No further splits with positive gain, best gain: -inf\n",
      "[LightGBM] [Warning] No further splits with positive gain, best gain: -inf\n",
      "[LightGBM] [Warning] No further splits with positive gain, best gain: -inf\n",
      "[LightGBM] [Warning] No further splits with positive gain, best gain: -inf\n",
      "[LightGBM] [Warning] No further splits with positive gain, best gain: -inf\n",
      "[LightGBM] [Warning] No further splits with positive gain, best gain: -inf\n",
      "[LightGBM] [Warning] No further splits with positive gain, best gain: -inf\n",
      "[LightGBM] [Warning] No further splits with positive gain, best gain: -inf\n",
      "[LightGBM] [Warning] No further splits with positive gain, best gain: -inf\n",
      "[LightGBM] [Warning] No further splits with positive gain, best gain: -inf\n",
      "[LightGBM] [Warning] No further splits with positive gain, best gain: -inf\n",
      "[LightGBM] [Warning] No further splits with positive gain, best gain: -inf\n",
      "[LightGBM] [Warning] No further splits with positive gain, best gain: -inf\n",
      "[LightGBM] [Warning] No further splits with positive gain, best gain: -inf\n",
      "[LightGBM] [Warning] No further splits with positive gain, best gain: -inf\n",
      "[LightGBM] [Warning] No further splits with positive gain, best gain: -inf\n",
      "[LightGBM] [Warning] No further splits with positive gain, best gain: -inf\n",
      "[LightGBM] [Warning] No further splits with positive gain, best gain: -inf\n",
      "[LightGBM] [Warning] No further splits with positive gain, best gain: -inf\n",
      "[LightGBM] [Warning] No further splits with positive gain, best gain: -inf\n",
      "[LightGBM] [Warning] No further splits with positive gain, best gain: -inf\n",
      "[LightGBM] [Warning] No further splits with positive gain, best gain: -inf\n",
      "[LightGBM] [Warning] No further splits with positive gain, best gain: -inf\n",
      "[LightGBM] [Warning] No further splits with positive gain, best gain: -inf\n",
      "[LightGBM] [Warning] No further splits with positive gain, best gain: -inf\n",
      "[LightGBM] [Warning] No further splits with positive gain, best gain: -inf\n",
      "[LightGBM] [Warning] No further splits with positive gain, best gain: -inf\n",
      "[LightGBM] [Warning] No further splits with positive gain, best gain: -inf\n",
      "[LightGBM] [Warning] No further splits with positive gain, best gain: -inf\n",
      "[LightGBM] [Warning] No further splits with positive gain, best gain: -inf\n",
      "[LightGBM] [Warning] No further splits with positive gain, best gain: -inf\n",
      "[LightGBM] [Warning] No further splits with positive gain, best gain: -inf\n",
      "[LightGBM] [Warning] No further splits with positive gain, best gain: -inf\n",
      "[LightGBM] [Warning] No further splits with positive gain, best gain: -inf\n",
      "[LightGBM] [Warning] No further splits with positive gain, best gain: -inf\n",
      "[LightGBM] [Warning] No further splits with positive gain, best gain: -inf\n",
      "[LightGBM] [Warning] No further splits with positive gain, best gain: -inf\n",
      "[LightGBM] [Warning] No further splits with positive gain, best gain: -inf\n",
      "[LightGBM] [Warning] No further splits with positive gain, best gain: -inf\n",
      "[LightGBM] [Warning] No further splits with positive gain, best gain: -inf\n",
      "[LightGBM] [Warning] No further splits with positive gain, best gain: -inf\n",
      "[LightGBM] [Warning] No further splits with positive gain, best gain: -inf\n",
      "[LightGBM] [Warning] No further splits with positive gain, best gain: -inf\n",
      "[LightGBM] [Warning] No further splits with positive gain, best gain: -inf\n",
      "[LightGBM] [Warning] No further splits with positive gain, best gain: -inf\n",
      "[LightGBM] [Warning] No further splits with positive gain, best gain: -inf\n",
      "[LightGBM] [Warning] No further splits with positive gain, best gain: -inf\n",
      "[LightGBM] [Warning] No further splits with positive gain, best gain: -inf\n",
      "[LightGBM] [Warning] No further splits with positive gain, best gain: -inf\n",
      "[LightGBM] [Warning] No further splits with positive gain, best gain: -inf\n",
      "[LightGBM] [Warning] No further splits with positive gain, best gain: -inf\n",
      "[LightGBM] [Warning] No further splits with positive gain, best gain: -inf\n",
      "[LightGBM] [Warning] No further splits with positive gain, best gain: -inf\n",
      "[LightGBM] [Warning] No further splits with positive gain, best gain: -inf\n",
      "[LightGBM] [Warning] No further splits with positive gain, best gain: -inf\n",
      "[LightGBM] [Warning] No further splits with positive gain, best gain: -inf\n",
      "[LightGBM] [Warning] No further splits with positive gain, best gain: -inf\n",
      "[LightGBM] [Warning] No further splits with positive gain, best gain: -inf\n",
      "[LightGBM] [Warning] No further splits with positive gain, best gain: -inf\n",
      "[LightGBM] [Warning] No further splits with positive gain, best gain: -inf\n",
      "[LightGBM] [Warning] No further splits with positive gain, best gain: -inf\n",
      "[LightGBM] [Warning] No further splits with positive gain, best gain: -inf\n",
      "[LightGBM] [Warning] No further splits with positive gain, best gain: -inf\n",
      "[LightGBM] [Warning] No further splits with positive gain, best gain: -inf\n",
      "[LightGBM] [Warning] No further splits with positive gain, best gain: -inf\n",
      "[LightGBM] [Warning] No further splits with positive gain, best gain: -inf\n",
      "[LightGBM] [Warning] No further splits with positive gain, best gain: -inf\n",
      "[LightGBM] [Warning] No further splits with positive gain, best gain: -inf\n",
      "[LightGBM] [Warning] No further splits with positive gain, best gain: -inf\n",
      "[LightGBM] [Warning] No further splits with positive gain, best gain: -inf\n",
      "[LightGBM] [Warning] No further splits with positive gain, best gain: -inf\n",
      "[LightGBM] [Warning] No further splits with positive gain, best gain: -inf\n",
      "[LightGBM] [Warning] No further splits with positive gain, best gain: -inf\n",
      "[LightGBM] [Warning] No further splits with positive gain, best gain: -inf\n",
      "[LightGBM] [Warning] No further splits with positive gain, best gain: -inf\n",
      "[LightGBM] [Warning] No further splits with positive gain, best gain: -inf\n",
      "[LightGBM] [Warning] No further splits with positive gain, best gain: -inf\n",
      "[LightGBM] [Warning] No further splits with positive gain, best gain: -inf\n",
      "[LightGBM] [Warning] No further splits with positive gain, best gain: -inf\n",
      "[LightGBM] [Warning] No further splits with positive gain, best gain: -inf\n",
      "[LightGBM] [Warning] No further splits with positive gain, best gain: -inf\n",
      "[LightGBM] [Warning] No further splits with positive gain, best gain: -inf\n",
      "[LightGBM] [Warning] No further splits with positive gain, best gain: -inf\n",
      "[LightGBM] [Warning] No further splits with positive gain, best gain: -inf\n",
      "[LightGBM] [Warning] No further splits with positive gain, best gain: -inf\n",
      "[LightGBM] [Warning] No further splits with positive gain, best gain: -inf\n",
      "[LightGBM] [Warning] No further splits with positive gain, best gain: -inf\n",
      "[LightGBM] [Warning] No further splits with positive gain, best gain: -inf\n",
      "[LightGBM] [Warning] No further splits with positive gain, best gain: -inf\n",
      "[LightGBM] [Warning] No further splits with positive gain, best gain: -inf\n",
      "[LightGBM] [Warning] No further splits with positive gain, best gain: -inf\n",
      "[LightGBM] [Warning] No further splits with positive gain, best gain: -inf\n",
      "[LightGBM] [Warning] No further splits with positive gain, best gain: -inf\n",
      "[LightGBM] [Warning] No further splits with positive gain, best gain: -inf\n",
      "[LightGBM] [Warning] No further splits with positive gain, best gain: -inf\n",
      "[LightGBM] [Warning] No further splits with positive gain, best gain: -inf\n",
      "[LightGBM] [Warning] No further splits with positive gain, best gain: -inf\n",
      "[LightGBM] [Warning] No further splits with positive gain, best gain: -inf\n",
      "[LightGBM] [Warning] No further splits with positive gain, best gain: -inf\n",
      "[LightGBM] [Warning] No further splits with positive gain, best gain: -inf\n",
      "[LightGBM] [Warning] No further splits with positive gain, best gain: -inf\n",
      "[LightGBM] [Warning] No further splits with positive gain, best gain: -inf\n",
      "[LightGBM] [Warning] No further splits with positive gain, best gain: -inf\n",
      "[LightGBM] [Warning] No further splits with positive gain, best gain: -inf\n",
      "[LightGBM] [Warning] No further splits with positive gain, best gain: -inf\n",
      "[LightGBM] [Warning] No further splits with positive gain, best gain: -inf\n",
      "[LightGBM] [Warning] No further splits with positive gain, best gain: -inf\n",
      "[LightGBM] [Warning] No further splits with positive gain, best gain: -inf\n",
      "[LightGBM] [Warning] No further splits with positive gain, best gain: -inf\n",
      "[LightGBM] [Warning] No further splits with positive gain, best gain: -inf\n",
      "[LightGBM] [Warning] No further splits with positive gain, best gain: -inf\n",
      "[LightGBM] [Warning] No further splits with positive gain, best gain: -inf\n",
      "[LightGBM] [Warning] No further splits with positive gain, best gain: -inf\n",
      "[LightGBM] [Warning] No further splits with positive gain, best gain: -inf\n",
      "[LightGBM] [Warning] No further splits with positive gain, best gain: -inf\n",
      "[LightGBM] [Warning] No further splits with positive gain, best gain: -inf\n",
      "[LightGBM] [Warning] No further splits with positive gain, best gain: -inf\n",
      "[LightGBM] [Warning] No further splits with positive gain, best gain: -inf\n",
      "[LightGBM] [Warning] No further splits with positive gain, best gain: -inf\n",
      "[LightGBM] [Warning] No further splits with positive gain, best gain: -inf\n",
      "[LightGBM] [Warning] No further splits with positive gain, best gain: -inf\n",
      "[LightGBM] [Warning] No further splits with positive gain, best gain: -inf\n",
      "[LightGBM] [Warning] No further splits with positive gain, best gain: -inf\n",
      "[LightGBM] [Warning] No further splits with positive gain, best gain: -inf\n",
      "[LightGBM] [Warning] No further splits with positive gain, best gain: -inf\n",
      "[LightGBM] [Warning] No further splits with positive gain, best gain: -inf\n",
      "[LightGBM] [Warning] No further splits with positive gain, best gain: -inf\n",
      "[LightGBM] [Warning] No further splits with positive gain, best gain: -inf\n",
      "[LightGBM] [Warning] No further splits with positive gain, best gain: -inf\n",
      "[LightGBM] [Warning] No further splits with positive gain, best gain: -inf\n",
      "[LightGBM] [Warning] No further splits with positive gain, best gain: -inf\n",
      "[LightGBM] [Warning] No further splits with positive gain, best gain: -inf\n",
      "[LightGBM] [Warning] No further splits with positive gain, best gain: -inf\n",
      "[LightGBM] [Warning] No further splits with positive gain, best gain: -inf\n",
      "[LightGBM] [Warning] No further splits with positive gain, best gain: -inf\n",
      "[LightGBM] [Warning] No further splits with positive gain, best gain: -inf\n",
      "[LightGBM] [Warning] No further splits with positive gain, best gain: -inf\n",
      "[LightGBM] [Warning] No further splits with positive gain, best gain: -inf\n",
      "[LightGBM] [Warning] No further splits with positive gain, best gain: -inf\n",
      "[LightGBM] [Warning] No further splits with positive gain, best gain: -inf\n",
      "[LightGBM] [Warning] No further splits with positive gain, best gain: -inf\n",
      "[LightGBM] [Warning] No further splits with positive gain, best gain: -inf\n",
      "[LightGBM] [Warning] No further splits with positive gain, best gain: -inf\n",
      "[LightGBM] [Warning] No further splits with positive gain, best gain: -inf\n",
      "[LightGBM] [Warning] No further splits with positive gain, best gain: -inf\n",
      "[LightGBM] [Warning] No further splits with positive gain, best gain: -inf\n",
      "[LightGBM] [Warning] No further splits with positive gain, best gain: -inf\n",
      "[LightGBM] [Warning] No further splits with positive gain, best gain: -inf\n",
      "[LightGBM] [Warning] No further splits with positive gain, best gain: -inf\n",
      "[LightGBM] [Warning] No further splits with positive gain, best gain: -inf\n",
      "[LightGBM] [Warning] No further splits with positive gain, best gain: -inf\n",
      "[LightGBM] [Warning] No further splits with positive gain, best gain: -inf\n",
      "[LightGBM] [Warning] No further splits with positive gain, best gain: -inf\n",
      "[LightGBM] [Warning] No further splits with positive gain, best gain: -inf\n",
      "[LightGBM] [Warning] No further splits with positive gain, best gain: -inf\n",
      "[LightGBM] [Warning] No further splits with positive gain, best gain: -inf\n"
     ]
    },
    {
     "name": "stderr",
     "output_type": "stream",
     "text": [
      "[I 2025-04-27 23:11:29,610] Trial 4 finished with value: 0.14470023451723385 and parameters: {'n_estimators': 779, 'learning_rate': 0.016343222543085567, 'max_depth': 5, 'subsample': 0.858075728361638, 'colsample_bytree': 0.7280790845312934, 'reg_alpha': 0.024732535970234115, 'reg_lambda': 0.09042522127721843}. Best is trial 3 with value: 0.13925196666712863.\n"
     ]
    },
    {
     "name": "stdout",
     "output_type": "stream",
     "text": [
      "[LightGBM] [Info] Auto-choosing row-wise multi-threading, the overhead of testing was 0.092001 seconds.\n",
      "You can set `force_row_wise=true` to remove the overhead.\n",
      "And if memory is not enough, you can set `force_col_wise=true`.\n",
      "[LightGBM] [Info] Total Bins 836\n",
      "[LightGBM] [Info] Number of data points in the train set: 810942, number of used features: 14\n",
      "[LightGBM] [Info] Start training from score 8.756742\n"
     ]
    },
    {
     "name": "stderr",
     "output_type": "stream",
     "text": [
      "[I 2025-04-27 23:12:04,204] Trial 5 finished with value: 0.13443431834512537 and parameters: {'n_estimators': 664, 'learning_rate': 0.05922125451892785, 'max_depth': 12, 'subsample': 0.8329067257895548, 'colsample_bytree': 0.95211581391292, 'reg_alpha': 0.046169838318071074, 'reg_lambda': 0.01018050855937665}. Best is trial 5 with value: 0.13443431834512537.\n"
     ]
    },
    {
     "name": "stdout",
     "output_type": "stream",
     "text": [
      "[LightGBM] [Info] Auto-choosing row-wise multi-threading, the overhead of testing was 0.089064 seconds.\n",
      "You can set `force_row_wise=true` to remove the overhead.\n",
      "And if memory is not enough, you can set `force_col_wise=true`.\n",
      "[LightGBM] [Info] Total Bins 836\n",
      "[LightGBM] [Info] Number of data points in the train set: 810942, number of used features: 14\n",
      "[LightGBM] [Info] Start training from score 8.756742\n",
      "[LightGBM] [Warning] No further splits with positive gain, best gain: -inf\n",
      "[LightGBM] [Warning] No further splits with positive gain, best gain: -inf\n",
      "[LightGBM] [Warning] No further splits with positive gain, best gain: -inf\n",
      "[LightGBM] [Warning] No further splits with positive gain, best gain: -inf\n",
      "[LightGBM] [Warning] No further splits with positive gain, best gain: -inf\n",
      "[LightGBM] [Warning] No further splits with positive gain, best gain: -inf\n",
      "[LightGBM] [Warning] No further splits with positive gain, best gain: -inf\n",
      "[LightGBM] [Warning] No further splits with positive gain, best gain: -inf\n",
      "[LightGBM] [Warning] No further splits with positive gain, best gain: -inf\n",
      "[LightGBM] [Warning] No further splits with positive gain, best gain: -inf\n",
      "[LightGBM] [Warning] No further splits with positive gain, best gain: -inf\n",
      "[LightGBM] [Warning] No further splits with positive gain, best gain: -inf\n",
      "[LightGBM] [Warning] No further splits with positive gain, best gain: -inf\n",
      "[LightGBM] [Warning] No further splits with positive gain, best gain: -inf\n",
      "[LightGBM] [Warning] No further splits with positive gain, best gain: -inf\n",
      "[LightGBM] [Warning] No further splits with positive gain, best gain: -inf\n",
      "[LightGBM] [Warning] No further splits with positive gain, best gain: -inf\n",
      "[LightGBM] [Warning] No further splits with positive gain, best gain: -inf\n",
      "[LightGBM] [Warning] No further splits with positive gain, best gain: -inf\n",
      "[LightGBM] [Warning] No further splits with positive gain, best gain: -inf\n",
      "[LightGBM] [Warning] No further splits with positive gain, best gain: -inf\n",
      "[LightGBM] [Warning] No further splits with positive gain, best gain: -inf\n",
      "[LightGBM] [Warning] No further splits with positive gain, best gain: -inf\n",
      "[LightGBM] [Warning] No further splits with positive gain, best gain: -inf\n",
      "[LightGBM] [Warning] No further splits with positive gain, best gain: -inf\n",
      "[LightGBM] [Warning] No further splits with positive gain, best gain: -inf\n",
      "[LightGBM] [Warning] No further splits with positive gain, best gain: -inf\n",
      "[LightGBM] [Warning] No further splits with positive gain, best gain: -inf\n",
      "[LightGBM] [Warning] No further splits with positive gain, best gain: -inf\n",
      "[LightGBM] [Warning] No further splits with positive gain, best gain: -inf\n",
      "[LightGBM] [Warning] No further splits with positive gain, best gain: -inf\n",
      "[LightGBM] [Warning] No further splits with positive gain, best gain: -inf\n",
      "[LightGBM] [Warning] No further splits with positive gain, best gain: -inf\n",
      "[LightGBM] [Warning] No further splits with positive gain, best gain: -inf\n",
      "[LightGBM] [Warning] No further splits with positive gain, best gain: -inf\n",
      "[LightGBM] [Warning] No further splits with positive gain, best gain: -inf\n",
      "[LightGBM] [Warning] No further splits with positive gain, best gain: -inf\n",
      "[LightGBM] [Warning] No further splits with positive gain, best gain: -inf\n",
      "[LightGBM] [Warning] No further splits with positive gain, best gain: -inf\n",
      "[LightGBM] [Warning] No further splits with positive gain, best gain: -inf\n",
      "[LightGBM] [Warning] No further splits with positive gain, best gain: -inf\n",
      "[LightGBM] [Warning] No further splits with positive gain, best gain: -inf\n",
      "[LightGBM] [Warning] No further splits with positive gain, best gain: -inf\n",
      "[LightGBM] [Warning] No further splits with positive gain, best gain: -inf\n",
      "[LightGBM] [Warning] No further splits with positive gain, best gain: -inf\n",
      "[LightGBM] [Warning] No further splits with positive gain, best gain: -inf\n",
      "[LightGBM] [Warning] No further splits with positive gain, best gain: -inf\n",
      "[LightGBM] [Warning] No further splits with positive gain, best gain: -inf\n",
      "[LightGBM] [Warning] No further splits with positive gain, best gain: -inf\n",
      "[LightGBM] [Warning] No further splits with positive gain, best gain: -inf\n",
      "[LightGBM] [Warning] No further splits with positive gain, best gain: -inf\n",
      "[LightGBM] [Warning] No further splits with positive gain, best gain: -inf\n",
      "[LightGBM] [Warning] No further splits with positive gain, best gain: -inf\n",
      "[LightGBM] [Warning] No further splits with positive gain, best gain: -inf\n",
      "[LightGBM] [Warning] No further splits with positive gain, best gain: -inf\n",
      "[LightGBM] [Warning] No further splits with positive gain, best gain: -inf\n",
      "[LightGBM] [Warning] No further splits with positive gain, best gain: -inf\n",
      "[LightGBM] [Warning] No further splits with positive gain, best gain: -inf\n",
      "[LightGBM] [Warning] No further splits with positive gain, best gain: -inf\n",
      "[LightGBM] [Warning] No further splits with positive gain, best gain: -inf\n",
      "[LightGBM] [Warning] No further splits with positive gain, best gain: -inf\n",
      "[LightGBM] [Warning] No further splits with positive gain, best gain: -inf\n",
      "[LightGBM] [Warning] No further splits with positive gain, best gain: -inf\n",
      "[LightGBM] [Warning] No further splits with positive gain, best gain: -inf\n",
      "[LightGBM] [Warning] No further splits with positive gain, best gain: -inf\n",
      "[LightGBM] [Warning] No further splits with positive gain, best gain: -inf\n",
      "[LightGBM] [Warning] No further splits with positive gain, best gain: -inf\n",
      "[LightGBM] [Warning] No further splits with positive gain, best gain: -inf\n",
      "[LightGBM] [Warning] No further splits with positive gain, best gain: -inf\n",
      "[LightGBM] [Warning] No further splits with positive gain, best gain: -inf\n",
      "[LightGBM] [Warning] No further splits with positive gain, best gain: -inf\n",
      "[LightGBM] [Warning] No further splits with positive gain, best gain: -inf\n",
      "[LightGBM] [Warning] No further splits with positive gain, best gain: -inf\n",
      "[LightGBM] [Warning] No further splits with positive gain, best gain: -inf\n",
      "[LightGBM] [Warning] No further splits with positive gain, best gain: -inf\n",
      "[LightGBM] [Warning] No further splits with positive gain, best gain: -inf\n",
      "[LightGBM] [Warning] No further splits with positive gain, best gain: -inf\n",
      "[LightGBM] [Warning] No further splits with positive gain, best gain: -inf\n",
      "[LightGBM] [Warning] No further splits with positive gain, best gain: -inf\n",
      "[LightGBM] [Warning] No further splits with positive gain, best gain: -inf\n",
      "[LightGBM] [Warning] No further splits with positive gain, best gain: -inf\n",
      "[LightGBM] [Warning] No further splits with positive gain, best gain: -inf\n",
      "[LightGBM] [Warning] No further splits with positive gain, best gain: -inf\n",
      "[LightGBM] [Warning] No further splits with positive gain, best gain: -inf\n",
      "[LightGBM] [Warning] No further splits with positive gain, best gain: -inf\n",
      "[LightGBM] [Warning] No further splits with positive gain, best gain: -inf\n",
      "[LightGBM] [Warning] No further splits with positive gain, best gain: -inf\n",
      "[LightGBM] [Warning] No further splits with positive gain, best gain: -inf\n",
      "[LightGBM] [Warning] No further splits with positive gain, best gain: -inf\n",
      "[LightGBM] [Warning] No further splits with positive gain, best gain: -inf\n",
      "[LightGBM] [Warning] No further splits with positive gain, best gain: -inf\n",
      "[LightGBM] [Warning] No further splits with positive gain, best gain: -inf\n",
      "[LightGBM] [Warning] No further splits with positive gain, best gain: -inf\n",
      "[LightGBM] [Warning] No further splits with positive gain, best gain: -inf\n",
      "[LightGBM] [Warning] No further splits with positive gain, best gain: -inf\n",
      "[LightGBM] [Warning] No further splits with positive gain, best gain: -inf\n",
      "[LightGBM] [Warning] No further splits with positive gain, best gain: -inf\n",
      "[LightGBM] [Warning] No further splits with positive gain, best gain: -inf\n",
      "[LightGBM] [Warning] No further splits with positive gain, best gain: -inf\n",
      "[LightGBM] [Warning] No further splits with positive gain, best gain: -inf\n",
      "[LightGBM] [Warning] No further splits with positive gain, best gain: -inf\n",
      "[LightGBM] [Warning] No further splits with positive gain, best gain: -inf\n",
      "[LightGBM] [Warning] No further splits with positive gain, best gain: -inf\n",
      "[LightGBM] [Warning] No further splits with positive gain, best gain: -inf\n",
      "[LightGBM] [Warning] No further splits with positive gain, best gain: -inf\n",
      "[LightGBM] [Warning] No further splits with positive gain, best gain: -inf\n",
      "[LightGBM] [Warning] No further splits with positive gain, best gain: -inf\n",
      "[LightGBM] [Warning] No further splits with positive gain, best gain: -inf\n",
      "[LightGBM] [Warning] No further splits with positive gain, best gain: -inf\n",
      "[LightGBM] [Warning] No further splits with positive gain, best gain: -inf\n",
      "[LightGBM] [Warning] No further splits with positive gain, best gain: -inf\n",
      "[LightGBM] [Warning] No further splits with positive gain, best gain: -inf\n",
      "[LightGBM] [Warning] No further splits with positive gain, best gain: -inf\n",
      "[LightGBM] [Warning] No further splits with positive gain, best gain: -inf\n",
      "[LightGBM] [Warning] No further splits with positive gain, best gain: -inf\n",
      "[LightGBM] [Warning] No further splits with positive gain, best gain: -inf\n",
      "[LightGBM] [Warning] No further splits with positive gain, best gain: -inf\n",
      "[LightGBM] [Warning] No further splits with positive gain, best gain: -inf\n",
      "[LightGBM] [Warning] No further splits with positive gain, best gain: -inf\n",
      "[LightGBM] [Warning] No further splits with positive gain, best gain: -inf\n",
      "[LightGBM] [Warning] No further splits with positive gain, best gain: -inf\n",
      "[LightGBM] [Warning] No further splits with positive gain, best gain: -inf\n",
      "[LightGBM] [Warning] No further splits with positive gain, best gain: -inf\n",
      "[LightGBM] [Warning] No further splits with positive gain, best gain: -inf\n",
      "[LightGBM] [Warning] No further splits with positive gain, best gain: -inf\n",
      "[LightGBM] [Warning] No further splits with positive gain, best gain: -inf\n",
      "[LightGBM] [Warning] No further splits with positive gain, best gain: -inf\n",
      "[LightGBM] [Warning] No further splits with positive gain, best gain: -inf\n",
      "[LightGBM] [Warning] No further splits with positive gain, best gain: -inf\n",
      "[LightGBM] [Warning] No further splits with positive gain, best gain: -inf\n",
      "[LightGBM] [Warning] No further splits with positive gain, best gain: -inf\n",
      "[LightGBM] [Warning] No further splits with positive gain, best gain: -inf\n",
      "[LightGBM] [Warning] No further splits with positive gain, best gain: -inf\n",
      "[LightGBM] [Warning] No further splits with positive gain, best gain: -inf\n",
      "[LightGBM] [Warning] No further splits with positive gain, best gain: -inf\n",
      "[LightGBM] [Warning] No further splits with positive gain, best gain: -inf\n",
      "[LightGBM] [Warning] No further splits with positive gain, best gain: -inf\n",
      "[LightGBM] [Warning] No further splits with positive gain, best gain: -inf\n",
      "[LightGBM] [Warning] No further splits with positive gain, best gain: -inf\n",
      "[LightGBM] [Warning] No further splits with positive gain, best gain: -inf\n",
      "[LightGBM] [Warning] No further splits with positive gain, best gain: -inf\n",
      "[LightGBM] [Warning] No further splits with positive gain, best gain: -inf\n",
      "[LightGBM] [Warning] No further splits with positive gain, best gain: -inf\n",
      "[LightGBM] [Warning] No further splits with positive gain, best gain: -inf\n",
      "[LightGBM] [Warning] No further splits with positive gain, best gain: -inf\n",
      "[LightGBM] [Warning] No further splits with positive gain, best gain: -inf\n",
      "[LightGBM] [Warning] No further splits with positive gain, best gain: -inf\n",
      "[LightGBM] [Warning] No further splits with positive gain, best gain: -inf\n",
      "[LightGBM] [Warning] No further splits with positive gain, best gain: -inf\n",
      "[LightGBM] [Warning] No further splits with positive gain, best gain: -inf\n",
      "[LightGBM] [Warning] No further splits with positive gain, best gain: -inf\n",
      "[LightGBM] [Warning] No further splits with positive gain, best gain: -inf\n",
      "[LightGBM] [Warning] No further splits with positive gain, best gain: -inf\n",
      "[LightGBM] [Warning] No further splits with positive gain, best gain: -inf\n",
      "[LightGBM] [Warning] No further splits with positive gain, best gain: -inf\n",
      "[LightGBM] [Warning] No further splits with positive gain, best gain: -inf\n",
      "[LightGBM] [Warning] No further splits with positive gain, best gain: -inf\n",
      "[LightGBM] [Warning] No further splits with positive gain, best gain: -inf\n",
      "[LightGBM] [Warning] No further splits with positive gain, best gain: -inf\n",
      "[LightGBM] [Warning] No further splits with positive gain, best gain: -inf\n",
      "[LightGBM] [Warning] No further splits with positive gain, best gain: -inf\n",
      "[LightGBM] [Warning] No further splits with positive gain, best gain: -inf\n",
      "[LightGBM] [Warning] No further splits with positive gain, best gain: -inf\n",
      "[LightGBM] [Warning] No further splits with positive gain, best gain: -inf\n",
      "[LightGBM] [Warning] No further splits with positive gain, best gain: -inf\n",
      "[LightGBM] [Warning] No further splits with positive gain, best gain: -inf\n",
      "[LightGBM] [Warning] No further splits with positive gain, best gain: -inf\n",
      "[LightGBM] [Warning] No further splits with positive gain, best gain: -inf\n",
      "[LightGBM] [Warning] No further splits with positive gain, best gain: -inf\n",
      "[LightGBM] [Warning] No further splits with positive gain, best gain: -inf\n",
      "[LightGBM] [Warning] No further splits with positive gain, best gain: -inf\n",
      "[LightGBM] [Warning] No further splits with positive gain, best gain: -inf\n",
      "[LightGBM] [Warning] No further splits with positive gain, best gain: -inf\n",
      "[LightGBM] [Warning] No further splits with positive gain, best gain: -inf\n",
      "[LightGBM] [Warning] No further splits with positive gain, best gain: -inf\n",
      "[LightGBM] [Warning] No further splits with positive gain, best gain: -inf\n",
      "[LightGBM] [Warning] No further splits with positive gain, best gain: -inf\n",
      "[LightGBM] [Warning] No further splits with positive gain, best gain: -inf\n",
      "[LightGBM] [Warning] No further splits with positive gain, best gain: -inf\n",
      "[LightGBM] [Warning] No further splits with positive gain, best gain: -inf\n",
      "[LightGBM] [Warning] No further splits with positive gain, best gain: -inf\n",
      "[LightGBM] [Warning] No further splits with positive gain, best gain: -inf\n",
      "[LightGBM] [Warning] No further splits with positive gain, best gain: -inf\n",
      "[LightGBM] [Warning] No further splits with positive gain, best gain: -inf\n",
      "[LightGBM] [Warning] No further splits with positive gain, best gain: -inf\n",
      "[LightGBM] [Warning] No further splits with positive gain, best gain: -inf\n",
      "[LightGBM] [Warning] No further splits with positive gain, best gain: -inf\n",
      "[LightGBM] [Warning] No further splits with positive gain, best gain: -inf\n",
      "[LightGBM] [Warning] No further splits with positive gain, best gain: -inf\n",
      "[LightGBM] [Warning] No further splits with positive gain, best gain: -inf\n",
      "[LightGBM] [Warning] No further splits with positive gain, best gain: -inf\n",
      "[LightGBM] [Warning] No further splits with positive gain, best gain: -inf\n",
      "[LightGBM] [Warning] No further splits with positive gain, best gain: -inf\n",
      "[LightGBM] [Warning] No further splits with positive gain, best gain: -inf\n",
      "[LightGBM] [Warning] No further splits with positive gain, best gain: -inf\n",
      "[LightGBM] [Warning] No further splits with positive gain, best gain: -inf\n",
      "[LightGBM] [Warning] No further splits with positive gain, best gain: -inf\n",
      "[LightGBM] [Warning] No further splits with positive gain, best gain: -inf\n",
      "[LightGBM] [Warning] No further splits with positive gain, best gain: -inf\n",
      "[LightGBM] [Warning] No further splits with positive gain, best gain: -inf\n",
      "[LightGBM] [Warning] No further splits with positive gain, best gain: -inf\n",
      "[LightGBM] [Warning] No further splits with positive gain, best gain: -inf\n",
      "[LightGBM] [Warning] No further splits with positive gain, best gain: -inf\n",
      "[LightGBM] [Warning] No further splits with positive gain, best gain: -inf\n",
      "[LightGBM] [Warning] No further splits with positive gain, best gain: -inf\n",
      "[LightGBM] [Warning] No further splits with positive gain, best gain: -inf\n",
      "[LightGBM] [Warning] No further splits with positive gain, best gain: -inf\n",
      "[LightGBM] [Warning] No further splits with positive gain, best gain: -inf\n",
      "[LightGBM] [Warning] No further splits with positive gain, best gain: -inf\n",
      "[LightGBM] [Warning] No further splits with positive gain, best gain: -inf\n",
      "[LightGBM] [Warning] No further splits with positive gain, best gain: -inf\n",
      "[LightGBM] [Warning] No further splits with positive gain, best gain: -inf\n",
      "[LightGBM] [Warning] No further splits with positive gain, best gain: -inf\n",
      "[LightGBM] [Warning] No further splits with positive gain, best gain: -inf\n",
      "[LightGBM] [Warning] No further splits with positive gain, best gain: -inf\n",
      "[LightGBM] [Warning] No further splits with positive gain, best gain: -inf\n",
      "[LightGBM] [Warning] No further splits with positive gain, best gain: -inf\n",
      "[LightGBM] [Warning] No further splits with positive gain, best gain: -inf\n",
      "[LightGBM] [Warning] No further splits with positive gain, best gain: -inf\n",
      "[LightGBM] [Warning] No further splits with positive gain, best gain: -inf\n",
      "[LightGBM] [Warning] No further splits with positive gain, best gain: -inf\n",
      "[LightGBM] [Warning] No further splits with positive gain, best gain: -inf\n",
      "[LightGBM] [Warning] No further splits with positive gain, best gain: -inf\n",
      "[LightGBM] [Warning] No further splits with positive gain, best gain: -inf\n",
      "[LightGBM] [Warning] No further splits with positive gain, best gain: -inf\n",
      "[LightGBM] [Warning] No further splits with positive gain, best gain: -inf\n",
      "[LightGBM] [Warning] No further splits with positive gain, best gain: -inf\n",
      "[LightGBM] [Warning] No further splits with positive gain, best gain: -inf\n",
      "[LightGBM] [Warning] No further splits with positive gain, best gain: -inf\n",
      "[LightGBM] [Warning] No further splits with positive gain, best gain: -inf\n",
      "[LightGBM] [Warning] No further splits with positive gain, best gain: -inf\n",
      "[LightGBM] [Warning] No further splits with positive gain, best gain: -inf\n",
      "[LightGBM] [Warning] No further splits with positive gain, best gain: -inf\n",
      "[LightGBM] [Warning] No further splits with positive gain, best gain: -inf\n",
      "[LightGBM] [Warning] No further splits with positive gain, best gain: -inf\n",
      "[LightGBM] [Warning] No further splits with positive gain, best gain: -inf\n",
      "[LightGBM] [Warning] No further splits with positive gain, best gain: -inf\n",
      "[LightGBM] [Warning] No further splits with positive gain, best gain: -inf\n",
      "[LightGBM] [Warning] No further splits with positive gain, best gain: -inf\n",
      "[LightGBM] [Warning] No further splits with positive gain, best gain: -inf\n",
      "[LightGBM] [Warning] No further splits with positive gain, best gain: -inf\n",
      "[LightGBM] [Warning] No further splits with positive gain, best gain: -inf\n",
      "[LightGBM] [Warning] No further splits with positive gain, best gain: -inf\n",
      "[LightGBM] [Warning] No further splits with positive gain, best gain: -inf\n",
      "[LightGBM] [Warning] No further splits with positive gain, best gain: -inf\n",
      "[LightGBM] [Warning] No further splits with positive gain, best gain: -inf\n",
      "[LightGBM] [Warning] No further splits with positive gain, best gain: -inf\n",
      "[LightGBM] [Warning] No further splits with positive gain, best gain: -inf\n",
      "[LightGBM] [Warning] No further splits with positive gain, best gain: -inf\n",
      "[LightGBM] [Warning] No further splits with positive gain, best gain: -inf\n",
      "[LightGBM] [Warning] No further splits with positive gain, best gain: -inf\n",
      "[LightGBM] [Warning] No further splits with positive gain, best gain: -inf\n",
      "[LightGBM] [Warning] No further splits with positive gain, best gain: -inf\n",
      "[LightGBM] [Warning] No further splits with positive gain, best gain: -inf\n",
      "[LightGBM] [Warning] No further splits with positive gain, best gain: -inf\n",
      "[LightGBM] [Warning] No further splits with positive gain, best gain: -inf\n",
      "[LightGBM] [Warning] No further splits with positive gain, best gain: -inf\n",
      "[LightGBM] [Warning] No further splits with positive gain, best gain: -inf\n",
      "[LightGBM] [Warning] No further splits with positive gain, best gain: -inf\n",
      "[LightGBM] [Warning] No further splits with positive gain, best gain: -inf\n",
      "[LightGBM] [Warning] No further splits with positive gain, best gain: -inf\n",
      "[LightGBM] [Warning] No further splits with positive gain, best gain: -inf\n",
      "[LightGBM] [Warning] No further splits with positive gain, best gain: -inf\n",
      "[LightGBM] [Warning] No further splits with positive gain, best gain: -inf\n",
      "[LightGBM] [Warning] No further splits with positive gain, best gain: -inf\n",
      "[LightGBM] [Warning] No further splits with positive gain, best gain: -inf\n",
      "[LightGBM] [Warning] No further splits with positive gain, best gain: -inf\n",
      "[LightGBM] [Warning] No further splits with positive gain, best gain: -inf\n",
      "[LightGBM] [Warning] No further splits with positive gain, best gain: -inf\n",
      "[LightGBM] [Warning] No further splits with positive gain, best gain: -inf\n",
      "[LightGBM] [Warning] No further splits with positive gain, best gain: -inf\n",
      "[LightGBM] [Warning] No further splits with positive gain, best gain: -inf\n",
      "[LightGBM] [Warning] No further splits with positive gain, best gain: -inf\n",
      "[LightGBM] [Warning] No further splits with positive gain, best gain: -inf\n",
      "[LightGBM] [Warning] No further splits with positive gain, best gain: -inf\n",
      "[LightGBM] [Warning] No further splits with positive gain, best gain: -inf\n",
      "[LightGBM] [Warning] No further splits with positive gain, best gain: -inf\n",
      "[LightGBM] [Warning] No further splits with positive gain, best gain: -inf\n",
      "[LightGBM] [Warning] No further splits with positive gain, best gain: -inf\n",
      "[LightGBM] [Warning] No further splits with positive gain, best gain: -inf\n",
      "[LightGBM] [Warning] No further splits with positive gain, best gain: -inf\n",
      "[LightGBM] [Warning] No further splits with positive gain, best gain: -inf\n",
      "[LightGBM] [Warning] No further splits with positive gain, best gain: -inf\n",
      "[LightGBM] [Warning] No further splits with positive gain, best gain: -inf\n",
      "[LightGBM] [Warning] No further splits with positive gain, best gain: -inf\n",
      "[LightGBM] [Warning] No further splits with positive gain, best gain: -inf\n",
      "[LightGBM] [Warning] No further splits with positive gain, best gain: -inf\n",
      "[LightGBM] [Warning] No further splits with positive gain, best gain: -inf\n",
      "[LightGBM] [Warning] No further splits with positive gain, best gain: -inf\n",
      "[LightGBM] [Warning] No further splits with positive gain, best gain: -inf\n",
      "[LightGBM] [Warning] No further splits with positive gain, best gain: -inf\n",
      "[LightGBM] [Warning] No further splits with positive gain, best gain: -inf\n",
      "[LightGBM] [Warning] No further splits with positive gain, best gain: -inf\n",
      "[LightGBM] [Warning] No further splits with positive gain, best gain: -inf\n",
      "[LightGBM] [Warning] No further splits with positive gain, best gain: -inf\n",
      "[LightGBM] [Warning] No further splits with positive gain, best gain: -inf\n",
      "[LightGBM] [Warning] No further splits with positive gain, best gain: -inf\n",
      "[LightGBM] [Warning] No further splits with positive gain, best gain: -inf\n",
      "[LightGBM] [Warning] No further splits with positive gain, best gain: -inf\n",
      "[LightGBM] [Warning] No further splits with positive gain, best gain: -inf\n",
      "[LightGBM] [Warning] No further splits with positive gain, best gain: -inf\n",
      "[LightGBM] [Warning] No further splits with positive gain, best gain: -inf\n",
      "[LightGBM] [Warning] No further splits with positive gain, best gain: -inf\n",
      "[LightGBM] [Warning] No further splits with positive gain, best gain: -inf\n",
      "[LightGBM] [Warning] No further splits with positive gain, best gain: -inf\n",
      "[LightGBM] [Warning] No further splits with positive gain, best gain: -inf\n",
      "[LightGBM] [Warning] No further splits with positive gain, best gain: -inf\n",
      "[LightGBM] [Warning] No further splits with positive gain, best gain: -inf\n",
      "[LightGBM] [Warning] No further splits with positive gain, best gain: -inf\n",
      "[LightGBM] [Warning] No further splits with positive gain, best gain: -inf\n",
      "[LightGBM] [Warning] No further splits with positive gain, best gain: -inf\n",
      "[LightGBM] [Warning] No further splits with positive gain, best gain: -inf\n",
      "[LightGBM] [Warning] No further splits with positive gain, best gain: -inf\n",
      "[LightGBM] [Warning] No further splits with positive gain, best gain: -inf\n",
      "[LightGBM] [Warning] No further splits with positive gain, best gain: -inf\n",
      "[LightGBM] [Warning] No further splits with positive gain, best gain: -inf\n",
      "[LightGBM] [Warning] No further splits with positive gain, best gain: -inf\n",
      "[LightGBM] [Warning] No further splits with positive gain, best gain: -inf\n",
      "[LightGBM] [Warning] No further splits with positive gain, best gain: -inf\n",
      "[LightGBM] [Warning] No further splits with positive gain, best gain: -inf\n",
      "[LightGBM] [Warning] No further splits with positive gain, best gain: -inf\n",
      "[LightGBM] [Warning] No further splits with positive gain, best gain: -inf\n",
      "[LightGBM] [Warning] No further splits with positive gain, best gain: -inf\n",
      "[LightGBM] [Warning] No further splits with positive gain, best gain: -inf\n",
      "[LightGBM] [Warning] No further splits with positive gain, best gain: -inf\n",
      "[LightGBM] [Warning] No further splits with positive gain, best gain: -inf\n",
      "[LightGBM] [Warning] No further splits with positive gain, best gain: -inf\n",
      "[LightGBM] [Warning] No further splits with positive gain, best gain: -inf\n",
      "[LightGBM] [Warning] No further splits with positive gain, best gain: -inf\n",
      "[LightGBM] [Warning] No further splits with positive gain, best gain: -inf\n",
      "[LightGBM] [Warning] No further splits with positive gain, best gain: -inf\n",
      "[LightGBM] [Warning] No further splits with positive gain, best gain: -inf\n",
      "[LightGBM] [Warning] No further splits with positive gain, best gain: -inf\n",
      "[LightGBM] [Warning] No further splits with positive gain, best gain: -inf\n",
      "[LightGBM] [Warning] No further splits with positive gain, best gain: -inf\n",
      "[LightGBM] [Warning] No further splits with positive gain, best gain: -inf\n",
      "[LightGBM] [Warning] No further splits with positive gain, best gain: -inf\n",
      "[LightGBM] [Warning] No further splits with positive gain, best gain: -inf\n",
      "[LightGBM] [Warning] No further splits with positive gain, best gain: -inf\n",
      "[LightGBM] [Warning] No further splits with positive gain, best gain: -inf\n",
      "[LightGBM] [Warning] No further splits with positive gain, best gain: -inf\n",
      "[LightGBM] [Warning] No further splits with positive gain, best gain: -inf\n",
      "[LightGBM] [Warning] No further splits with positive gain, best gain: -inf\n",
      "[LightGBM] [Warning] No further splits with positive gain, best gain: -inf\n",
      "[LightGBM] [Warning] No further splits with positive gain, best gain: -inf\n",
      "[LightGBM] [Warning] No further splits with positive gain, best gain: -inf\n",
      "[LightGBM] [Warning] No further splits with positive gain, best gain: -inf\n",
      "[LightGBM] [Warning] No further splits with positive gain, best gain: -inf\n",
      "[LightGBM] [Warning] No further splits with positive gain, best gain: -inf\n",
      "[LightGBM] [Warning] No further splits with positive gain, best gain: -inf\n",
      "[LightGBM] [Warning] No further splits with positive gain, best gain: -inf\n",
      "[LightGBM] [Warning] No further splits with positive gain, best gain: -inf\n",
      "[LightGBM] [Warning] No further splits with positive gain, best gain: -inf\n",
      "[LightGBM] [Warning] No further splits with positive gain, best gain: -inf\n",
      "[LightGBM] [Warning] No further splits with positive gain, best gain: -inf\n",
      "[LightGBM] [Warning] No further splits with positive gain, best gain: -inf\n",
      "[LightGBM] [Warning] No further splits with positive gain, best gain: -inf\n",
      "[LightGBM] [Warning] No further splits with positive gain, best gain: -inf\n",
      "[LightGBM] [Warning] No further splits with positive gain, best gain: -inf\n",
      "[LightGBM] [Warning] No further splits with positive gain, best gain: -inf\n",
      "[LightGBM] [Warning] No further splits with positive gain, best gain: -inf\n",
      "[LightGBM] [Warning] No further splits with positive gain, best gain: -inf\n",
      "[LightGBM] [Warning] No further splits with positive gain, best gain: -inf\n",
      "[LightGBM] [Warning] No further splits with positive gain, best gain: -inf\n",
      "[LightGBM] [Warning] No further splits with positive gain, best gain: -inf\n",
      "[LightGBM] [Warning] No further splits with positive gain, best gain: -inf\n",
      "[LightGBM] [Warning] No further splits with positive gain, best gain: -inf\n",
      "[LightGBM] [Warning] No further splits with positive gain, best gain: -inf\n",
      "[LightGBM] [Warning] No further splits with positive gain, best gain: -inf\n",
      "[LightGBM] [Warning] No further splits with positive gain, best gain: -inf\n",
      "[LightGBM] [Warning] No further splits with positive gain, best gain: -inf\n",
      "[LightGBM] [Warning] No further splits with positive gain, best gain: -inf\n",
      "[LightGBM] [Warning] No further splits with positive gain, best gain: -inf\n",
      "[LightGBM] [Warning] No further splits with positive gain, best gain: -inf\n",
      "[LightGBM] [Warning] No further splits with positive gain, best gain: -inf\n",
      "[LightGBM] [Warning] No further splits with positive gain, best gain: -inf\n",
      "[LightGBM] [Warning] No further splits with positive gain, best gain: -inf\n",
      "[LightGBM] [Warning] No further splits with positive gain, best gain: -inf\n",
      "[LightGBM] [Warning] No further splits with positive gain, best gain: -inf\n",
      "[LightGBM] [Warning] No further splits with positive gain, best gain: -inf\n",
      "[LightGBM] [Warning] No further splits with positive gain, best gain: -inf\n",
      "[LightGBM] [Warning] No further splits with positive gain, best gain: -inf\n",
      "[LightGBM] [Warning] No further splits with positive gain, best gain: -inf\n",
      "[LightGBM] [Warning] No further splits with positive gain, best gain: -inf\n",
      "[LightGBM] [Warning] No further splits with positive gain, best gain: -inf\n",
      "[LightGBM] [Warning] No further splits with positive gain, best gain: -inf\n",
      "[LightGBM] [Warning] No further splits with positive gain, best gain: -inf\n",
      "[LightGBM] [Warning] No further splits with positive gain, best gain: -inf\n",
      "[LightGBM] [Warning] No further splits with positive gain, best gain: -inf\n",
      "[LightGBM] [Warning] No further splits with positive gain, best gain: -inf\n",
      "[LightGBM] [Warning] No further splits with positive gain, best gain: -inf\n",
      "[LightGBM] [Warning] No further splits with positive gain, best gain: -inf\n",
      "[LightGBM] [Warning] No further splits with positive gain, best gain: -inf\n",
      "[LightGBM] [Warning] No further splits with positive gain, best gain: -inf\n",
      "[LightGBM] [Warning] No further splits with positive gain, best gain: -inf\n",
      "[LightGBM] [Warning] No further splits with positive gain, best gain: -inf\n",
      "[LightGBM] [Warning] No further splits with positive gain, best gain: -inf\n",
      "[LightGBM] [Warning] No further splits with positive gain, best gain: -inf\n",
      "[LightGBM] [Warning] No further splits with positive gain, best gain: -inf\n",
      "[LightGBM] [Warning] No further splits with positive gain, best gain: -inf\n",
      "[LightGBM] [Warning] No further splits with positive gain, best gain: -inf\n",
      "[LightGBM] [Warning] No further splits with positive gain, best gain: -inf\n",
      "[LightGBM] [Warning] No further splits with positive gain, best gain: -inf\n",
      "[LightGBM] [Warning] No further splits with positive gain, best gain: -inf\n",
      "[LightGBM] [Warning] No further splits with positive gain, best gain: -inf\n",
      "[LightGBM] [Warning] No further splits with positive gain, best gain: -inf\n",
      "[LightGBM] [Warning] No further splits with positive gain, best gain: -inf\n",
      "[LightGBM] [Warning] No further splits with positive gain, best gain: -inf\n",
      "[LightGBM] [Warning] No further splits with positive gain, best gain: -inf\n",
      "[LightGBM] [Warning] No further splits with positive gain, best gain: -inf\n",
      "[LightGBM] [Warning] No further splits with positive gain, best gain: -inf\n",
      "[LightGBM] [Warning] No further splits with positive gain, best gain: -inf\n",
      "[LightGBM] [Warning] No further splits with positive gain, best gain: -inf\n",
      "[LightGBM] [Warning] No further splits with positive gain, best gain: -inf\n",
      "[LightGBM] [Warning] No further splits with positive gain, best gain: -inf\n",
      "[LightGBM] [Warning] No further splits with positive gain, best gain: -inf\n",
      "[LightGBM] [Warning] No further splits with positive gain, best gain: -inf\n",
      "[LightGBM] [Warning] No further splits with positive gain, best gain: -inf\n",
      "[LightGBM] [Warning] No further splits with positive gain, best gain: -inf\n",
      "[LightGBM] [Warning] No further splits with positive gain, best gain: -inf\n",
      "[LightGBM] [Warning] No further splits with positive gain, best gain: -inf\n",
      "[LightGBM] [Warning] No further splits with positive gain, best gain: -inf\n",
      "[LightGBM] [Warning] No further splits with positive gain, best gain: -inf\n",
      "[LightGBM] [Warning] No further splits with positive gain, best gain: -inf\n",
      "[LightGBM] [Warning] No further splits with positive gain, best gain: -inf\n",
      "[LightGBM] [Warning] No further splits with positive gain, best gain: -inf\n",
      "[LightGBM] [Warning] No further splits with positive gain, best gain: -inf\n",
      "[LightGBM] [Warning] No further splits with positive gain, best gain: -inf\n",
      "[LightGBM] [Warning] No further splits with positive gain, best gain: -inf\n",
      "[LightGBM] [Warning] No further splits with positive gain, best gain: -inf\n",
      "[LightGBM] [Warning] No further splits with positive gain, best gain: -inf\n",
      "[LightGBM] [Warning] No further splits with positive gain, best gain: -inf\n",
      "[LightGBM] [Warning] No further splits with positive gain, best gain: -inf\n",
      "[LightGBM] [Warning] No further splits with positive gain, best gain: -inf\n",
      "[LightGBM] [Warning] No further splits with positive gain, best gain: -inf\n",
      "[LightGBM] [Warning] No further splits with positive gain, best gain: -inf\n",
      "[LightGBM] [Warning] No further splits with positive gain, best gain: -inf\n",
      "[LightGBM] [Warning] No further splits with positive gain, best gain: -inf\n",
      "[LightGBM] [Warning] No further splits with positive gain, best gain: -inf\n",
      "[LightGBM] [Warning] No further splits with positive gain, best gain: -inf\n",
      "[LightGBM] [Warning] No further splits with positive gain, best gain: -inf\n",
      "[LightGBM] [Warning] No further splits with positive gain, best gain: -inf\n",
      "[LightGBM] [Warning] No further splits with positive gain, best gain: -inf\n",
      "[LightGBM] [Warning] No further splits with positive gain, best gain: -inf\n",
      "[LightGBM] [Warning] No further splits with positive gain, best gain: -inf\n",
      "[LightGBM] [Warning] No further splits with positive gain, best gain: -inf\n",
      "[LightGBM] [Warning] No further splits with positive gain, best gain: -inf\n",
      "[LightGBM] [Warning] No further splits with positive gain, best gain: -inf\n",
      "[LightGBM] [Warning] No further splits with positive gain, best gain: -inf\n",
      "[LightGBM] [Warning] No further splits with positive gain, best gain: -inf\n",
      "[LightGBM] [Warning] No further splits with positive gain, best gain: -inf\n",
      "[LightGBM] [Warning] No further splits with positive gain, best gain: -inf\n",
      "[LightGBM] [Warning] No further splits with positive gain, best gain: -inf\n",
      "[LightGBM] [Warning] No further splits with positive gain, best gain: -inf\n",
      "[LightGBM] [Warning] No further splits with positive gain, best gain: -inf\n",
      "[LightGBM] [Warning] No further splits with positive gain, best gain: -inf\n",
      "[LightGBM] [Warning] No further splits with positive gain, best gain: -inf\n",
      "[LightGBM] [Warning] No further splits with positive gain, best gain: -inf\n",
      "[LightGBM] [Warning] No further splits with positive gain, best gain: -inf\n",
      "[LightGBM] [Warning] No further splits with positive gain, best gain: -inf\n",
      "[LightGBM] [Warning] No further splits with positive gain, best gain: -inf\n",
      "[LightGBM] [Warning] No further splits with positive gain, best gain: -inf\n",
      "[LightGBM] [Warning] No further splits with positive gain, best gain: -inf\n",
      "[LightGBM] [Warning] No further splits with positive gain, best gain: -inf\n",
      "[LightGBM] [Warning] No further splits with positive gain, best gain: -inf\n",
      "[LightGBM] [Warning] No further splits with positive gain, best gain: -inf\n",
      "[LightGBM] [Warning] No further splits with positive gain, best gain: -inf\n",
      "[LightGBM] [Warning] No further splits with positive gain, best gain: -inf\n",
      "[LightGBM] [Warning] No further splits with positive gain, best gain: -inf\n",
      "[LightGBM] [Warning] No further splits with positive gain, best gain: -inf\n",
      "[LightGBM] [Warning] No further splits with positive gain, best gain: -inf\n",
      "[LightGBM] [Warning] No further splits with positive gain, best gain: -inf\n",
      "[LightGBM] [Warning] No further splits with positive gain, best gain: -inf\n",
      "[LightGBM] [Warning] No further splits with positive gain, best gain: -inf\n",
      "[LightGBM] [Warning] No further splits with positive gain, best gain: -inf\n",
      "[LightGBM] [Warning] No further splits with positive gain, best gain: -inf\n",
      "[LightGBM] [Warning] No further splits with positive gain, best gain: -inf\n",
      "[LightGBM] [Warning] No further splits with positive gain, best gain: -inf\n",
      "[LightGBM] [Warning] No further splits with positive gain, best gain: -inf\n",
      "[LightGBM] [Warning] No further splits with positive gain, best gain: -inf\n",
      "[LightGBM] [Warning] No further splits with positive gain, best gain: -inf\n",
      "[LightGBM] [Warning] No further splits with positive gain, best gain: -inf\n",
      "[LightGBM] [Warning] No further splits with positive gain, best gain: -inf\n",
      "[LightGBM] [Warning] No further splits with positive gain, best gain: -inf\n",
      "[LightGBM] [Warning] No further splits with positive gain, best gain: -inf\n",
      "[LightGBM] [Warning] No further splits with positive gain, best gain: -inf\n",
      "[LightGBM] [Warning] No further splits with positive gain, best gain: -inf\n",
      "[LightGBM] [Warning] No further splits with positive gain, best gain: -inf\n",
      "[LightGBM] [Warning] No further splits with positive gain, best gain: -inf\n",
      "[LightGBM] [Warning] No further splits with positive gain, best gain: -inf\n",
      "[LightGBM] [Warning] No further splits with positive gain, best gain: -inf\n",
      "[LightGBM] [Warning] No further splits with positive gain, best gain: -inf\n",
      "[LightGBM] [Warning] No further splits with positive gain, best gain: -inf\n",
      "[LightGBM] [Warning] No further splits with positive gain, best gain: -inf\n",
      "[LightGBM] [Warning] No further splits with positive gain, best gain: -inf\n",
      "[LightGBM] [Warning] No further splits with positive gain, best gain: -inf\n",
      "[LightGBM] [Warning] No further splits with positive gain, best gain: -inf\n",
      "[LightGBM] [Warning] No further splits with positive gain, best gain: -inf\n",
      "[LightGBM] [Warning] No further splits with positive gain, best gain: -inf\n",
      "[LightGBM] [Warning] No further splits with positive gain, best gain: -inf\n",
      "[LightGBM] [Warning] No further splits with positive gain, best gain: -inf\n",
      "[LightGBM] [Warning] No further splits with positive gain, best gain: -inf\n",
      "[LightGBM] [Warning] No further splits with positive gain, best gain: -inf\n",
      "[LightGBM] [Warning] No further splits with positive gain, best gain: -inf\n",
      "[LightGBM] [Warning] No further splits with positive gain, best gain: -inf\n",
      "[LightGBM] [Warning] No further splits with positive gain, best gain: -inf\n",
      "[LightGBM] [Warning] No further splits with positive gain, best gain: -inf\n",
      "[LightGBM] [Warning] No further splits with positive gain, best gain: -inf\n",
      "[LightGBM] [Warning] No further splits with positive gain, best gain: -inf\n",
      "[LightGBM] [Warning] No further splits with positive gain, best gain: -inf\n",
      "[LightGBM] [Warning] No further splits with positive gain, best gain: -inf\n",
      "[LightGBM] [Warning] No further splits with positive gain, best gain: -inf\n",
      "[LightGBM] [Warning] No further splits with positive gain, best gain: -inf\n",
      "[LightGBM] [Warning] No further splits with positive gain, best gain: -inf\n",
      "[LightGBM] [Warning] No further splits with positive gain, best gain: -inf\n",
      "[LightGBM] [Warning] No further splits with positive gain, best gain: -inf\n",
      "[LightGBM] [Warning] No further splits with positive gain, best gain: -inf\n",
      "[LightGBM] [Warning] No further splits with positive gain, best gain: -inf\n",
      "[LightGBM] [Warning] No further splits with positive gain, best gain: -inf\n",
      "[LightGBM] [Warning] No further splits with positive gain, best gain: -inf\n",
      "[LightGBM] [Warning] No further splits with positive gain, best gain: -inf\n",
      "[LightGBM] [Warning] No further splits with positive gain, best gain: -inf\n",
      "[LightGBM] [Warning] No further splits with positive gain, best gain: -inf\n",
      "[LightGBM] [Warning] No further splits with positive gain, best gain: -inf\n",
      "[LightGBM] [Warning] No further splits with positive gain, best gain: -inf\n",
      "[LightGBM] [Warning] No further splits with positive gain, best gain: -inf\n",
      "[LightGBM] [Warning] No further splits with positive gain, best gain: -inf\n",
      "[LightGBM] [Warning] No further splits with positive gain, best gain: -inf\n",
      "[LightGBM] [Warning] No further splits with positive gain, best gain: -inf\n",
      "[LightGBM] [Warning] No further splits with positive gain, best gain: -inf\n",
      "[LightGBM] [Warning] No further splits with positive gain, best gain: -inf\n",
      "[LightGBM] [Warning] No further splits with positive gain, best gain: -inf\n",
      "[LightGBM] [Warning] No further splits with positive gain, best gain: -inf\n",
      "[LightGBM] [Warning] No further splits with positive gain, best gain: -inf\n",
      "[LightGBM] [Warning] No further splits with positive gain, best gain: -inf\n",
      "[LightGBM] [Warning] No further splits with positive gain, best gain: -inf\n",
      "[LightGBM] [Warning] No further splits with positive gain, best gain: -inf\n",
      "[LightGBM] [Warning] No further splits with positive gain, best gain: -inf\n",
      "[LightGBM] [Warning] No further splits with positive gain, best gain: -inf\n",
      "[LightGBM] [Warning] No further splits with positive gain, best gain: -inf\n",
      "[LightGBM] [Warning] No further splits with positive gain, best gain: -inf\n",
      "[LightGBM] [Warning] No further splits with positive gain, best gain: -inf\n",
      "[LightGBM] [Warning] No further splits with positive gain, best gain: -inf\n",
      "[LightGBM] [Warning] No further splits with positive gain, best gain: -inf\n",
      "[LightGBM] [Warning] No further splits with positive gain, best gain: -inf\n",
      "[LightGBM] [Warning] No further splits with positive gain, best gain: -inf\n",
      "[LightGBM] [Warning] No further splits with positive gain, best gain: -inf\n",
      "[LightGBM] [Warning] No further splits with positive gain, best gain: -inf\n",
      "[LightGBM] [Warning] No further splits with positive gain, best gain: -inf\n",
      "[LightGBM] [Warning] No further splits with positive gain, best gain: -inf\n",
      "[LightGBM] [Warning] No further splits with positive gain, best gain: -inf\n",
      "[LightGBM] [Warning] No further splits with positive gain, best gain: -inf\n",
      "[LightGBM] [Warning] No further splits with positive gain, best gain: -inf\n",
      "[LightGBM] [Warning] No further splits with positive gain, best gain: -inf\n",
      "[LightGBM] [Warning] No further splits with positive gain, best gain: -inf\n",
      "[LightGBM] [Warning] No further splits with positive gain, best gain: -inf\n",
      "[LightGBM] [Warning] No further splits with positive gain, best gain: -inf\n",
      "[LightGBM] [Warning] No further splits with positive gain, best gain: -inf\n",
      "[LightGBM] [Warning] No further splits with positive gain, best gain: -inf\n",
      "[LightGBM] [Warning] No further splits with positive gain, best gain: -inf\n",
      "[LightGBM] [Warning] No further splits with positive gain, best gain: -inf\n",
      "[LightGBM] [Warning] No further splits with positive gain, best gain: -inf\n",
      "[LightGBM] [Warning] No further splits with positive gain, best gain: -inf\n",
      "[LightGBM] [Warning] No further splits with positive gain, best gain: -inf\n",
      "[LightGBM] [Warning] No further splits with positive gain, best gain: -inf\n",
      "[LightGBM] [Warning] No further splits with positive gain, best gain: -inf\n",
      "[LightGBM] [Warning] No further splits with positive gain, best gain: -inf\n",
      "[LightGBM] [Warning] No further splits with positive gain, best gain: -inf\n",
      "[LightGBM] [Warning] No further splits with positive gain, best gain: -inf\n",
      "[LightGBM] [Warning] No further splits with positive gain, best gain: -inf\n",
      "[LightGBM] [Warning] No further splits with positive gain, best gain: -inf\n",
      "[LightGBM] [Warning] No further splits with positive gain, best gain: -inf\n",
      "[LightGBM] [Warning] No further splits with positive gain, best gain: -inf\n",
      "[LightGBM] [Warning] No further splits with positive gain, best gain: -inf\n",
      "[LightGBM] [Warning] No further splits with positive gain, best gain: -inf\n",
      "[LightGBM] [Warning] No further splits with positive gain, best gain: -inf\n",
      "[LightGBM] [Warning] No further splits with positive gain, best gain: -inf\n",
      "[LightGBM] [Warning] No further splits with positive gain, best gain: -inf\n",
      "[LightGBM] [Warning] No further splits with positive gain, best gain: -inf\n",
      "[LightGBM] [Warning] No further splits with positive gain, best gain: -inf\n"
     ]
    },
    {
     "name": "stderr",
     "output_type": "stream",
     "text": [
      "[I 2025-04-27 23:12:42,475] Trial 6 finished with value: 0.15023672489610715 and parameters: {'n_estimators': 813, 'learning_rate': 0.012879898072606828, 'max_depth': 4, 'subsample': 0.8395977416921865, 'colsample_bytree': 0.7221336568771751, 'reg_alpha': 0.014160368862809983, 'reg_lambda': 0.05040561828915005}. Best is trial 5 with value: 0.13443431834512537.\n"
     ]
    },
    {
     "name": "stdout",
     "output_type": "stream",
     "text": [
      "[LightGBM] [Info] Auto-choosing row-wise multi-threading, the overhead of testing was 0.136431 seconds.\n",
      "You can set `force_row_wise=true` to remove the overhead.\n",
      "And if memory is not enough, you can set `force_col_wise=true`.\n",
      "[LightGBM] [Info] Total Bins 836\n",
      "[LightGBM] [Info] Number of data points in the train set: 810942, number of used features: 14\n",
      "[LightGBM] [Info] Start training from score 8.756742\n"
     ]
    },
    {
     "name": "stderr",
     "output_type": "stream",
     "text": [
      "[I 2025-04-27 23:13:13,411] Trial 7 finished with value: 0.13618945017575304 and parameters: {'n_estimators': 581, 'learning_rate': 0.08436865858044444, 'max_depth': 7, 'subsample': 0.7877369280870341, 'colsample_bytree': 0.8963378525402957, 'reg_alpha': 0.04077668753311177, 'reg_lambda': 0.04264055610853683}. Best is trial 5 with value: 0.13443431834512537.\n"
     ]
    },
    {
     "name": "stdout",
     "output_type": "stream",
     "text": [
      "[LightGBM] [Info] Auto-choosing row-wise multi-threading, the overhead of testing was 0.108942 seconds.\n",
      "You can set `force_row_wise=true` to remove the overhead.\n",
      "And if memory is not enough, you can set `force_col_wise=true`.\n",
      "[LightGBM] [Info] Total Bins 836\n",
      "[LightGBM] [Info] Number of data points in the train set: 810942, number of used features: 14\n",
      "[LightGBM] [Info] Start training from score 8.756742\n"
     ]
    },
    {
     "name": "stderr",
     "output_type": "stream",
     "text": [
      "[I 2025-04-27 23:13:47,475] Trial 8 finished with value: 0.1424295670929576 and parameters: {'n_estimators': 437, 'learning_rate': 0.04962695638882243, 'max_depth': 8, 'subsample': 0.9373349912424567, 'colsample_bytree': 0.7389874968016783, 'reg_alpha': 0.09070855172643004, 'reg_lambda': 0.05022617310229049}. Best is trial 5 with value: 0.13443431834512537.\n"
     ]
    },
    {
     "name": "stdout",
     "output_type": "stream",
     "text": [
      "[LightGBM] [Info] Auto-choosing row-wise multi-threading, the overhead of testing was 0.108431 seconds.\n",
      "You can set `force_row_wise=true` to remove the overhead.\n",
      "And if memory is not enough, you can set `force_col_wise=true`.\n",
      "[LightGBM] [Info] Total Bins 836\n",
      "[LightGBM] [Info] Number of data points in the train set: 810942, number of used features: 14\n",
      "[LightGBM] [Info] Start training from score 8.756742\n"
     ]
    },
    {
     "name": "stderr",
     "output_type": "stream",
     "text": [
      "[I 2025-04-27 23:14:37,490] Trial 9 finished with value: 0.12872670769523564 and parameters: {'n_estimators': 912, 'learning_rate': 0.09152775175207041, 'max_depth': 12, 'subsample': 0.7162382980855135, 'colsample_bytree': 0.8452941625377381, 'reg_alpha': 0.060372934288133166, 'reg_lambda': 0.010628399939463734}. Best is trial 9 with value: 0.12872670769523564.\n"
     ]
    },
    {
     "name": "stdout",
     "output_type": "stream",
     "text": [
      "[LightGBM] [Info] Auto-choosing row-wise multi-threading, the overhead of testing was 0.094094 seconds.\n",
      "You can set `force_row_wise=true` to remove the overhead.\n",
      "And if memory is not enough, you can set `force_col_wise=true`.\n",
      "[LightGBM] [Info] Total Bins 836\n",
      "[LightGBM] [Info] Number of data points in the train set: 810942, number of used features: 14\n",
      "[LightGBM] [Info] Start training from score 8.756742\n"
     ]
    },
    {
     "name": "stderr",
     "output_type": "stream",
     "text": [
      "[I 2025-04-27 23:15:11,328] Trial 10 finished with value: 0.13384019933228453 and parameters: {'n_estimators': 987, 'learning_rate': 0.0970866818192236, 'max_depth': 10, 'subsample': 0.7086377141581389, 'colsample_bytree': 0.8025659348304807, 'reg_alpha': 0.06619233784536419, 'reg_lambda': 0.06899711495252593}. Best is trial 9 with value: 0.12872670769523564.\n"
     ]
    },
    {
     "name": "stdout",
     "output_type": "stream",
     "text": [
      "[LightGBM] [Info] Auto-choosing row-wise multi-threading, the overhead of testing was 0.052917 seconds.\n",
      "You can set `force_row_wise=true` to remove the overhead.\n",
      "And if memory is not enough, you can set `force_col_wise=true`.\n",
      "[LightGBM] [Info] Total Bins 836\n",
      "[LightGBM] [Info] Number of data points in the train set: 810942, number of used features: 14\n",
      "[LightGBM] [Info] Start training from score 8.756742\n"
     ]
    },
    {
     "name": "stderr",
     "output_type": "stream",
     "text": [
      "[I 2025-04-27 23:16:01,341] Trial 11 finished with value: 0.1322103106689845 and parameters: {'n_estimators': 973, 'learning_rate': 0.09474229536587005, 'max_depth': 10, 'subsample': 0.702917607990693, 'colsample_bytree': 0.8066174944569321, 'reg_alpha': 0.06504551574047478, 'reg_lambda': 0.0701676904156166}. Best is trial 9 with value: 0.12872670769523564.\n"
     ]
    },
    {
     "name": "stdout",
     "output_type": "stream",
     "text": [
      "[LightGBM] [Info] Auto-choosing row-wise multi-threading, the overhead of testing was 0.086999 seconds.\n",
      "You can set `force_row_wise=true` to remove the overhead.\n",
      "And if memory is not enough, you can set `force_col_wise=true`.\n",
      "[LightGBM] [Info] Total Bins 836\n",
      "[LightGBM] [Info] Number of data points in the train set: 810942, number of used features: 14\n",
      "[LightGBM] [Info] Start training from score 8.756742\n"
     ]
    },
    {
     "name": "stderr",
     "output_type": "stream",
     "text": [
      "[I 2025-04-27 23:16:57,562] Trial 12 finished with value: 0.1364887356350785 and parameters: {'n_estimators': 992, 'learning_rate': 0.07559962803345908, 'max_depth': 10, 'subsample': 0.7460901250358056, 'colsample_bytree': 0.7982217776913348, 'reg_alpha': 0.06347627556347298, 'reg_lambda': 0.0693232306229588}. Best is trial 9 with value: 0.12872670769523564.\n"
     ]
    },
    {
     "name": "stdout",
     "output_type": "stream",
     "text": [
      "[LightGBM] [Info] Auto-choosing row-wise multi-threading, the overhead of testing was 0.129585 seconds.\n",
      "You can set `force_row_wise=true` to remove the overhead.\n",
      "And if memory is not enough, you can set `force_col_wise=true`.\n",
      "[LightGBM] [Info] Total Bins 836\n",
      "[LightGBM] [Info] Number of data points in the train set: 810942, number of used features: 14\n",
      "[LightGBM] [Info] Start training from score 8.756742\n"
     ]
    },
    {
     "name": "stderr",
     "output_type": "stream",
     "text": [
      "[I 2025-04-27 23:17:40,267] Trial 13 finished with value: 0.12981958699627127 and parameters: {'n_estimators': 847, 'learning_rate': 0.0976900164170581, 'max_depth': 10, 'subsample': 0.7600308445672656, 'colsample_bytree': 0.8045275592433205, 'reg_alpha': 0.05795172671530583, 'reg_lambda': 0.03271044847701004}. Best is trial 9 with value: 0.12872670769523564.\n"
     ]
    },
    {
     "name": "stdout",
     "output_type": "stream",
     "text": [
      "[LightGBM] [Info] Auto-choosing row-wise multi-threading, the overhead of testing was 0.080416 seconds.\n",
      "You can set `force_row_wise=true` to remove the overhead.\n",
      "And if memory is not enough, you can set `force_col_wise=true`.\n",
      "[LightGBM] [Info] Total Bins 836\n",
      "[LightGBM] [Info] Number of data points in the train set: 810942, number of used features: 14\n",
      "[LightGBM] [Info] Start training from score 8.756742\n"
     ]
    },
    {
     "name": "stderr",
     "output_type": "stream",
     "text": [
      "[I 2025-04-27 23:18:12,079] Trial 14 finished with value: 0.13538415634682816 and parameters: {'n_estimators': 809, 'learning_rate': 0.07022046793088912, 'max_depth': 9, 'subsample': 0.7648209230464444, 'colsample_bytree': 0.9187871917181695, 'reg_alpha': 0.05283560740865452, 'reg_lambda': 0.03213929087318077}. Best is trial 9 with value: 0.12872670769523564.\n"
     ]
    },
    {
     "name": "stdout",
     "output_type": "stream",
     "text": [
      "[LightGBM] [Info] Auto-choosing row-wise multi-threading, the overhead of testing was 0.086435 seconds.\n",
      "You can set `force_row_wise=true` to remove the overhead.\n",
      "And if memory is not enough, you can set `force_col_wise=true`.\n",
      "[LightGBM] [Info] Total Bins 836\n",
      "[LightGBM] [Info] Number of data points in the train set: 810942, number of used features: 14\n",
      "[LightGBM] [Info] Start training from score 8.756742\n",
      "[LightGBM] [Warning] No further splits with positive gain, best gain: -inf\n"
     ]
    },
    {
     "name": "stderr",
     "output_type": "stream",
     "text": [
      "[I 2025-04-27 23:18:28,909] Trial 15 finished with value: 0.1412446277538153 and parameters: {'n_estimators': 734, 'learning_rate': 0.08647228959687393, 'max_depth': 6, 'subsample': 0.8902086900737316, 'colsample_bytree': 0.9884856797544901, 'reg_alpha': 0.07686519427957317, 'reg_lambda': 0.02929625915463677}. Best is trial 9 with value: 0.12872670769523564.\n"
     ]
    },
    {
     "name": "stdout",
     "output_type": "stream",
     "text": [
      "[LightGBM] [Info] Auto-choosing row-wise multi-threading, the overhead of testing was 0.063552 seconds.\n",
      "You can set `force_row_wise=true` to remove the overhead.\n",
      "And if memory is not enough, you can set `force_col_wise=true`.\n",
      "[LightGBM] [Info] Total Bins 836\n",
      "[LightGBM] [Info] Number of data points in the train set: 810942, number of used features: 14\n",
      "[LightGBM] [Info] Start training from score 8.756742\n"
     ]
    },
    {
     "name": "stderr",
     "output_type": "stream",
     "text": [
      "[I 2025-04-27 23:18:55,104] Trial 16 finished with value: 0.1386893635688563 and parameters: {'n_estimators': 888, 'learning_rate': 0.06497316648518059, 'max_depth': 11, 'subsample': 0.7546030675921788, 'colsample_bytree': 0.7807543276075484, 'reg_alpha': 0.0555049593849995, 'reg_lambda': 0.024722766361608854}. Best is trial 9 with value: 0.12872670769523564.\n"
     ]
    },
    {
     "name": "stdout",
     "output_type": "stream",
     "text": [
      "[LightGBM] [Info] Auto-choosing row-wise multi-threading, the overhead of testing was 0.106128 seconds.\n",
      "You can set `force_row_wise=true` to remove the overhead.\n",
      "And if memory is not enough, you can set `force_col_wise=true`.\n",
      "[LightGBM] [Info] Total Bins 836\n",
      "[LightGBM] [Info] Number of data points in the train set: 810942, number of used features: 14\n",
      "[LightGBM] [Info] Start training from score 8.756742\n"
     ]
    },
    {
     "name": "stderr",
     "output_type": "stream",
     "text": [
      "[I 2025-04-27 23:19:33,750] Trial 17 finished with value: 0.135923170266024 and parameters: {'n_estimators': 657, 'learning_rate': 0.08426186495348119, 'max_depth': 9, 'subsample': 0.7843491104167943, 'colsample_bytree': 0.8320788778716444, 'reg_alpha': 0.0764145333338583, 'reg_lambda': 0.038557485015383}. Best is trial 9 with value: 0.12872670769523564.\n"
     ]
    },
    {
     "name": "stdout",
     "output_type": "stream",
     "text": [
      "[LightGBM] [Info] Auto-choosing row-wise multi-threading, the overhead of testing was 0.077768 seconds.\n",
      "You can set `force_row_wise=true` to remove the overhead.\n",
      "And if memory is not enough, you can set `force_col_wise=true`.\n",
      "[LightGBM] [Info] Total Bins 836\n",
      "[LightGBM] [Info] Number of data points in the train set: 810942, number of used features: 14\n",
      "[LightGBM] [Info] Start training from score 8.756742\n"
     ]
    },
    {
     "name": "stderr",
     "output_type": "stream",
     "text": [
      "[I 2025-04-27 23:20:01,839] Trial 18 finished with value: 0.13436813657077923 and parameters: {'n_estimators': 877, 'learning_rate': 0.0986964348222948, 'max_depth': 11, 'subsample': 0.7384579937808065, 'colsample_bytree': 0.7638194586978082, 'reg_alpha': 0.040385540622376495, 'reg_lambda': 0.018818435055100793}. Best is trial 9 with value: 0.12872670769523564.\n"
     ]
    },
    {
     "name": "stdout",
     "output_type": "stream",
     "text": [
      "[LightGBM] [Info] Auto-choosing row-wise multi-threading, the overhead of testing was 0.083114 seconds.\n",
      "You can set `force_row_wise=true` to remove the overhead.\n",
      "And if memory is not enough, you can set `force_col_wise=true`.\n",
      "[LightGBM] [Info] Total Bins 836\n",
      "[LightGBM] [Info] Number of data points in the train set: 810942, number of used features: 14\n",
      "[LightGBM] [Info] Start training from score 8.756742\n"
     ]
    },
    {
     "name": "stderr",
     "output_type": "stream",
     "text": [
      "[I 2025-04-27 23:20:26,170] Trial 19 finished with value: 0.13470757655380852 and parameters: {'n_estimators': 406, 'learning_rate': 0.0767930875974748, 'max_depth': 9, 'subsample': 0.8055217020773835, 'colsample_bytree': 0.8366226937222249, 'reg_alpha': 0.05305093189653515, 'reg_lambda': 0.03673586171489518}. Best is trial 9 with value: 0.12872670769523564.\n"
     ]
    },
    {
     "name": "stdout",
     "output_type": "stream",
     "text": [
      "[LightGBM] [Info] Auto-choosing row-wise multi-threading, the overhead of testing was 0.100181 seconds.\n",
      "You can set `force_row_wise=true` to remove the overhead.\n",
      "And if memory is not enough, you can set `force_col_wise=true`.\n",
      "[LightGBM] [Info] Total Bins 836\n",
      "[LightGBM] [Info] Number of data points in the train set: 810942, number of used features: 14\n",
      "[LightGBM] [Info] Start training from score 8.756742\n"
     ]
    },
    {
     "name": "stderr",
     "output_type": "stream",
     "text": [
      "[I 2025-04-27 23:21:07,686] Trial 20 finished with value: 0.1320483085110724 and parameters: {'n_estimators': 882, 'learning_rate': 0.08731711756543373, 'max_depth': 11, 'subsample': 0.871506424110985, 'colsample_bytree': 0.8987604450540151, 'reg_alpha': 0.07156031674157004, 'reg_lambda': 0.017718032973710093}. Best is trial 9 with value: 0.12872670769523564.\n"
     ]
    },
    {
     "name": "stdout",
     "output_type": "stream",
     "text": [
      "[LightGBM] [Info] Auto-choosing row-wise multi-threading, the overhead of testing was 0.108739 seconds.\n",
      "You can set `force_row_wise=true` to remove the overhead.\n",
      "And if memory is not enough, you can set `force_col_wise=true`.\n",
      "[LightGBM] [Info] Total Bins 836\n",
      "[LightGBM] [Info] Number of data points in the train set: 810942, number of used features: 14\n",
      "[LightGBM] [Info] Start training from score 8.756742\n"
     ]
    },
    {
     "name": "stderr",
     "output_type": "stream",
     "text": [
      "[I 2025-04-27 23:21:34,715] Trial 21 finished with value: 0.13517757257854005 and parameters: {'n_estimators': 900, 'learning_rate': 0.08908100220248757, 'max_depth': 11, 'subsample': 0.8915553940006125, 'colsample_bytree': 0.9107415282812548, 'reg_alpha': 0.06966400223079068, 'reg_lambda': 0.017851870895020678}. Best is trial 9 with value: 0.12872670769523564.\n"
     ]
    },
    {
     "name": "stdout",
     "output_type": "stream",
     "text": [
      "[LightGBM] [Info] Auto-choosing row-wise multi-threading, the overhead of testing was 0.053165 seconds.\n",
      "You can set `force_row_wise=true` to remove the overhead.\n",
      "And if memory is not enough, you can set `force_col_wise=true`.\n",
      "[LightGBM] [Info] Total Bins 836\n",
      "[LightGBM] [Info] Number of data points in the train set: 810942, number of used features: 14\n",
      "[LightGBM] [Info] Start training from score 8.756742\n"
     ]
    },
    {
     "name": "stderr",
     "output_type": "stream",
     "text": [
      "[I 2025-04-27 23:22:01,057] Trial 22 finished with value: 0.1329547301490872 and parameters: {'n_estimators': 674, 'learning_rate': 0.07698332290281591, 'max_depth': 12, 'subsample': 0.8724335119762878, 'colsample_bytree': 0.9372391972982193, 'reg_alpha': 0.08684082986037568, 'reg_lambda': 0.026687309008532008}. Best is trial 9 with value: 0.12872670769523564.\n"
     ]
    },
    {
     "name": "stdout",
     "output_type": "stream",
     "text": [
      "[LightGBM] [Info] Auto-choosing row-wise multi-threading, the overhead of testing was 0.029355 seconds.\n",
      "You can set `force_row_wise=true` to remove the overhead.\n",
      "And if memory is not enough, you can set `force_col_wise=true`.\n",
      "[LightGBM] [Info] Total Bins 836\n",
      "[LightGBM] [Info] Number of data points in the train set: 810942, number of used features: 14\n",
      "[LightGBM] [Info] Start training from score 8.756742\n"
     ]
    },
    {
     "name": "stderr",
     "output_type": "stream",
     "text": [
      "[I 2025-04-27 23:22:14,482] Trial 23 finished with value: 0.1298963634767826 and parameters: {'n_estimators': 883, 'learning_rate': 0.09332694034412435, 'max_depth': 10, 'subsample': 0.9287724387025281, 'colsample_bytree': 0.8916997396154517, 'reg_alpha': 0.05672290861318391, 'reg_lambda': 0.016667212594962046}. Best is trial 9 with value: 0.12872670769523564.\n"
     ]
    },
    {
     "name": "stdout",
     "output_type": "stream",
     "text": [
      "[LightGBM] [Info] Auto-choosing row-wise multi-threading, the overhead of testing was 0.025199 seconds.\n",
      "You can set `force_row_wise=true` to remove the overhead.\n",
      "And if memory is not enough, you can set `force_col_wise=true`.\n",
      "[LightGBM] [Info] Total Bins 836\n",
      "[LightGBM] [Info] Number of data points in the train set: 810942, number of used features: 14\n",
      "[LightGBM] [Info] Start training from score 8.756742\n"
     ]
    },
    {
     "name": "stderr",
     "output_type": "stream",
     "text": [
      "[I 2025-04-27 23:22:25,988] Trial 24 finished with value: 0.13296022591609802 and parameters: {'n_estimators': 740, 'learning_rate': 0.09994342878211504, 'max_depth': 10, 'subsample': 0.9307641940666139, 'colsample_bytree': 0.8288285862039328, 'reg_alpha': 0.06076278839868497, 'reg_lambda': 0.012162794235835942}. Best is trial 9 with value: 0.12872670769523564.\n"
     ]
    },
    {
     "name": "stdout",
     "output_type": "stream",
     "text": [
      "[LightGBM] [Info] Auto-choosing row-wise multi-threading, the overhead of testing was 0.022619 seconds.\n",
      "You can set `force_row_wise=true` to remove the overhead.\n",
      "And if memory is not enough, you can set `force_col_wise=true`.\n",
      "[LightGBM] [Info] Total Bins 836\n",
      "[LightGBM] [Info] Number of data points in the train set: 810942, number of used features: 14\n",
      "[LightGBM] [Info] Start training from score 8.756742\n"
     ]
    },
    {
     "name": "stderr",
     "output_type": "stream",
     "text": [
      "[I 2025-04-27 23:22:33,922] Trial 25 finished with value: 0.13702096405502232 and parameters: {'n_estimators': 920, 'learning_rate': 0.08950760765309479, 'max_depth': 7, 'subsample': 0.9941774713293466, 'colsample_bytree': 0.8800137437982495, 'reg_alpha': 0.04199732647946893, 'reg_lambda': 0.03218255555451147}. Best is trial 9 with value: 0.12872670769523564.\n"
     ]
    },
    {
     "name": "stdout",
     "output_type": "stream",
     "text": [
      "[LightGBM] [Info] Auto-choosing row-wise multi-threading, the overhead of testing was 0.026587 seconds.\n",
      "You can set `force_row_wise=true` to remove the overhead.\n",
      "And if memory is not enough, you can set `force_col_wise=true`.\n",
      "[LightGBM] [Info] Total Bins 836\n",
      "[LightGBM] [Info] Number of data points in the train set: 810942, number of used features: 14\n",
      "[LightGBM] [Info] Start training from score 8.756742\n"
     ]
    },
    {
     "name": "stderr",
     "output_type": "stream",
     "text": [
      "[I 2025-04-27 23:22:46,658] Trial 26 finished with value: 0.13435025428989888 and parameters: {'n_estimators': 824, 'learning_rate': 0.06891057699525854, 'max_depth': 9, 'subsample': 0.9303557386915098, 'colsample_bytree': 0.7723692414971114, 'reg_alpha': 0.05717079399174052, 'reg_lambda': 0.05893005486233234}. Best is trial 9 with value: 0.12872670769523564.\n"
     ]
    },
    {
     "name": "stdout",
     "output_type": "stream",
     "text": [
      "[LightGBM] [Info] Auto-choosing row-wise multi-threading, the overhead of testing was 0.022001 seconds.\n",
      "You can set `force_row_wise=true` to remove the overhead.\n",
      "And if memory is not enough, you can set `force_col_wise=true`.\n",
      "[LightGBM] [Info] Total Bins 836\n",
      "[LightGBM] [Info] Number of data points in the train set: 810942, number of used features: 14\n",
      "[LightGBM] [Info] Start training from score 8.756742\n"
     ]
    },
    {
     "name": "stderr",
     "output_type": "stream",
     "text": [
      "[I 2025-04-27 23:22:55,703] Trial 27 finished with value: 0.1348645327502744 and parameters: {'n_estimators': 562, 'learning_rate': 0.0811662369854983, 'max_depth': 10, 'subsample': 0.7264030848056504, 'colsample_bytree': 0.8212758792744319, 'reg_alpha': 0.049501713544868695, 'reg_lambda': 0.04263355904114859}. Best is trial 9 with value: 0.12872670769523564.\n"
     ]
    },
    {
     "name": "stdout",
     "output_type": "stream",
     "text": [
      "[LightGBM] [Info] Auto-choosing row-wise multi-threading, the overhead of testing was 0.025119 seconds.\n",
      "You can set `force_row_wise=true` to remove the overhead.\n",
      "And if memory is not enough, you can set `force_col_wise=true`.\n",
      "[LightGBM] [Info] Total Bins 836\n",
      "[LightGBM] [Info] Number of data points in the train set: 810942, number of used features: 14\n",
      "[LightGBM] [Info] Start training from score 8.756742\n"
     ]
    },
    {
     "name": "stderr",
     "output_type": "stream",
     "text": [
      "[I 2025-04-27 23:23:02,406] Trial 28 finished with value: 0.13755837841661459 and parameters: {'n_estimators': 947, 'learning_rate': 0.09312293659935916, 'max_depth': 7, 'subsample': 0.9580377411495465, 'colsample_bytree': 0.8483738009554868, 'reg_alpha': 0.05861475103299512, 'reg_lambda': 0.09970928275462426}. Best is trial 9 with value: 0.12872670769523564.\n"
     ]
    },
    {
     "name": "stdout",
     "output_type": "stream",
     "text": [
      "[LightGBM] [Info] Auto-choosing row-wise multi-threading, the overhead of testing was 0.023293 seconds.\n",
      "You can set `force_row_wise=true` to remove the overhead.\n",
      "And if memory is not enough, you can set `force_col_wise=true`.\n",
      "[LightGBM] [Info] Total Bins 836\n",
      "[LightGBM] [Info] Number of data points in the train set: 810942, number of used features: 14\n",
      "[LightGBM] [Info] Start training from score 8.756742\n"
     ]
    },
    {
     "name": "stderr",
     "output_type": "stream",
     "text": [
      "[I 2025-04-27 23:23:14,716] Trial 29 finished with value: 0.13910485517956633 and parameters: {'n_estimators': 724, 'learning_rate': 0.03371210067528756, 'max_depth': 8, 'subsample': 0.7245234451584838, 'colsample_bytree': 0.7526581608219494, 'reg_alpha': 0.04712156521129606, 'reg_lambda': 0.013237333295995359}. Best is trial 9 with value: 0.12872670769523564.\n"
     ]
    },
    {
     "name": "stdout",
     "output_type": "stream",
     "text": [
      "[LightGBM] [Info] Auto-choosing row-wise multi-threading, the overhead of testing was 0.024094 seconds.\n",
      "You can set `force_row_wise=true` to remove the overhead.\n",
      "And if memory is not enough, you can set `force_col_wise=true`.\n",
      "[LightGBM] [Info] Total Bins 836\n",
      "[LightGBM] [Info] Number of data points in the train set: 810942, number of used features: 14\n",
      "[LightGBM] [Info] Start training from score 8.756742\n"
     ]
    },
    {
     "name": "stderr",
     "output_type": "stream",
     "text": [
      "[I 2025-04-27 23:23:28,803] Trial 30 finished with value: 0.1347894740239342 and parameters: {'n_estimators': 839, 'learning_rate': 0.05974207388011711, 'max_depth': 12, 'subsample': 0.7701771524415308, 'colsample_bytree': 0.7039109441416793, 'reg_alpha': 0.0355191816083819, 'reg_lambda': 0.022209578750011748}. Best is trial 9 with value: 0.12872670769523564.\n"
     ]
    },
    {
     "name": "stdout",
     "output_type": "stream",
     "text": [
      "[LightGBM] [Info] Auto-choosing row-wise multi-threading, the overhead of testing was 0.024328 seconds.\n",
      "You can set `force_row_wise=true` to remove the overhead.\n",
      "And if memory is not enough, you can set `force_col_wise=true`.\n",
      "[LightGBM] [Info] Total Bins 836\n",
      "[LightGBM] [Info] Number of data points in the train set: 810942, number of used features: 14\n",
      "[LightGBM] [Info] Start training from score 8.756742\n"
     ]
    },
    {
     "name": "stderr",
     "output_type": "stream",
     "text": [
      "[I 2025-04-27 23:23:42,697] Trial 31 finished with value: 0.13104605617829315 and parameters: {'n_estimators': 872, 'learning_rate': 0.09137579417779754, 'max_depth': 11, 'subsample': 0.9043556035917628, 'colsample_bytree': 0.8908234191717866, 'reg_alpha': 0.07183274975148372, 'reg_lambda': 0.016178794142442054}. Best is trial 9 with value: 0.12872670769523564.\n"
     ]
    },
    {
     "name": "stdout",
     "output_type": "stream",
     "text": [
      "[LightGBM] [Info] Auto-choosing row-wise multi-threading, the overhead of testing was 0.024145 seconds.\n",
      "You can set `force_row_wise=true` to remove the overhead.\n",
      "And if memory is not enough, you can set `force_col_wise=true`.\n",
      "[LightGBM] [Info] Total Bins 836\n",
      "[LightGBM] [Info] Number of data points in the train set: 810942, number of used features: 14\n",
      "[LightGBM] [Info] Start training from score 8.756742\n"
     ]
    },
    {
     "name": "stderr",
     "output_type": "stream",
     "text": [
      "[I 2025-04-27 23:23:55,853] Trial 32 finished with value: 0.13016013414335703 and parameters: {'n_estimators': 857, 'learning_rate': 0.09265137756992221, 'max_depth': 11, 'subsample': 0.9128221778810017, 'colsample_bytree': 0.8794517854757511, 'reg_alpha': 0.09997693633201424, 'reg_lambda': 0.010034870561342377}. Best is trial 9 with value: 0.12872670769523564.\n"
     ]
    },
    {
     "name": "stdout",
     "output_type": "stream",
     "text": [
      "[LightGBM] [Info] Auto-choosing row-wise multi-threading, the overhead of testing was 0.030558 seconds.\n",
      "You can set `force_row_wise=true` to remove the overhead.\n",
      "And if memory is not enough, you can set `force_col_wise=true`.\n",
      "[LightGBM] [Info] Total Bins 836\n",
      "[LightGBM] [Info] Number of data points in the train set: 810942, number of used features: 14\n",
      "[LightGBM] [Info] Start training from score 8.756742\n"
     ]
    },
    {
     "name": "stderr",
     "output_type": "stream",
     "text": [
      "[I 2025-04-27 23:24:10,001] Trial 33 finished with value: 0.13094108562975817 and parameters: {'n_estimators': 937, 'learning_rate': 0.07980818001646416, 'max_depth': 12, 'subsample': 0.910923801373273, 'colsample_bytree': 0.84882828147547, 'reg_alpha': 0.09886787891424273, 'reg_lambda': 0.010758621550984705}. Best is trial 9 with value: 0.12872670769523564.\n"
     ]
    },
    {
     "name": "stdout",
     "output_type": "stream",
     "text": [
      "[LightGBM] [Info] Auto-choosing row-wise multi-threading, the overhead of testing was 0.027175 seconds.\n",
      "You can set `force_row_wise=true` to remove the overhead.\n",
      "And if memory is not enough, you can set `force_col_wise=true`.\n",
      "[LightGBM] [Info] Total Bins 836\n",
      "[LightGBM] [Info] Number of data points in the train set: 810942, number of used features: 14\n",
      "[LightGBM] [Info] Start training from score 8.756742\n"
     ]
    },
    {
     "name": "stderr",
     "output_type": "stream",
     "text": [
      "[I 2025-04-27 23:24:14,409] Trial 34 finished with value: 0.13823069421303563 and parameters: {'n_estimators': 232, 'learning_rate': 0.09381190694972007, 'max_depth': 11, 'subsample': 0.9570384912648783, 'colsample_bytree': 0.8715102205685588, 'reg_alpha': 0.084390999338042, 'reg_lambda': 0.023810828023842698}. Best is trial 9 with value: 0.12872670769523564.\n"
     ]
    },
    {
     "name": "stdout",
     "output_type": "stream",
     "text": [
      "[LightGBM] [Info] Auto-choosing row-wise multi-threading, the overhead of testing was 0.029058 seconds.\n",
      "You can set `force_row_wise=true` to remove the overhead.\n",
      "And if memory is not enough, you can set `force_col_wise=true`.\n",
      "[LightGBM] [Info] Total Bins 836\n",
      "[LightGBM] [Info] Number of data points in the train set: 810942, number of used features: 14\n",
      "[LightGBM] [Info] Start training from score 8.756742\n"
     ]
    },
    {
     "name": "stderr",
     "output_type": "stream",
     "text": [
      "[I 2025-04-27 23:24:26,310] Trial 35 finished with value: 0.13298410651136702 and parameters: {'n_estimators': 773, 'learning_rate': 0.0707646469151252, 'max_depth': 12, 'subsample': 0.8057427673255265, 'colsample_bytree': 0.9336086604078077, 'reg_alpha': 0.09947265572635393, 'reg_lambda': 0.01583187412779385}. Best is trial 9 with value: 0.12872670769523564.\n"
     ]
    },
    {
     "name": "stdout",
     "output_type": "stream",
     "text": [
      "[LightGBM] [Info] Auto-choosing row-wise multi-threading, the overhead of testing was 0.026742 seconds.\n",
      "You can set `force_row_wise=true` to remove the overhead.\n",
      "And if memory is not enough, you can set `force_col_wise=true`.\n",
      "[LightGBM] [Info] Total Bins 836\n",
      "[LightGBM] [Info] Number of data points in the train set: 810942, number of used features: 14\n",
      "[LightGBM] [Info] Start training from score 8.756742\n"
     ]
    },
    {
     "name": "stderr",
     "output_type": "stream",
     "text": [
      "[I 2025-04-27 23:24:28,943] Trial 36 finished with value: 0.14233280597094417 and parameters: {'n_estimators': 114, 'learning_rate': 0.09924104250467655, 'max_depth': 10, 'subsample': 0.9987298936655395, 'colsample_bytree': 0.8619277939951405, 'reg_alpha': 0.09238280301913818, 'reg_lambda': 0.030344784664635374}. Best is trial 9 with value: 0.12872670769523564.\n"
     ]
    },
    {
     "name": "stdout",
     "output_type": "stream",
     "text": [
      "[LightGBM] [Info] Auto-choosing row-wise multi-threading, the overhead of testing was 0.024340 seconds.\n",
      "You can set `force_row_wise=true` to remove the overhead.\n",
      "And if memory is not enough, you can set `force_col_wise=true`.\n",
      "[LightGBM] [Info] Total Bins 836\n",
      "[LightGBM] [Info] Number of data points in the train set: 810942, number of used features: 14\n",
      "[LightGBM] [Info] Start training from score 8.756742\n"
     ]
    },
    {
     "name": "stderr",
     "output_type": "stream",
     "text": [
      "[I 2025-04-27 23:24:38,508] Trial 37 finished with value: 0.1325193715722515 and parameters: {'n_estimators': 629, 'learning_rate': 0.0811861442376827, 'max_depth': 9, 'subsample': 0.8523668252136002, 'colsample_bytree': 0.9539773901839013, 'reg_alpha': 0.024521912953333613, 'reg_lambda': 0.021906949618346126}. Best is trial 9 with value: 0.12872670769523564.\n"
     ]
    },
    {
     "name": "stdout",
     "output_type": "stream",
     "text": [
      "[LightGBM] [Info] Auto-choosing row-wise multi-threading, the overhead of testing was 0.027167 seconds.\n",
      "You can set `force_row_wise=true` to remove the overhead.\n",
      "And if memory is not enough, you can set `force_col_wise=true`.\n",
      "[LightGBM] [Info] Total Bins 836\n",
      "[LightGBM] [Info] Number of data points in the train set: 810942, number of used features: 14\n",
      "[LightGBM] [Info] Start training from score 8.756742\n"
     ]
    },
    {
     "name": "stderr",
     "output_type": "stream",
     "text": [
      "[I 2025-04-27 23:24:51,446] Trial 38 finished with value: 0.1361413340147343 and parameters: {'n_estimators': 773, 'learning_rate': 0.03558272310130367, 'max_depth': 11, 'subsample': 0.9751515953920968, 'colsample_bytree': 0.8796292314554758, 'reg_alpha': 0.03372002494724258, 'reg_lambda': 0.01111349675839197}. Best is trial 9 with value: 0.12872670769523564.\n"
     ]
    },
    {
     "name": "stdout",
     "output_type": "stream",
     "text": [
      "[LightGBM] [Info] Auto-choosing row-wise multi-threading, the overhead of testing was 0.022061 seconds.\n",
      "You can set `force_row_wise=true` to remove the overhead.\n",
      "And if memory is not enough, you can set `force_col_wise=true`.\n",
      "[LightGBM] [Info] Total Bins 836\n",
      "[LightGBM] [Info] Number of data points in the train set: 810942, number of used features: 14\n",
      "[LightGBM] [Info] Start training from score 8.756742\n"
     ]
    },
    {
     "name": "stderr",
     "output_type": "stream",
     "text": [
      "[I 2025-04-27 23:24:57,342] Trial 39 finished with value: 0.13784973254819688 and parameters: {'n_estimators': 333, 'learning_rate': 0.09110253060101949, 'max_depth': 12, 'subsample': 0.9196754675573787, 'colsample_bytree': 0.8144352805333261, 'reg_alpha': 0.08232327316765856, 'reg_lambda': 0.03685530578634276}. Best is trial 9 with value: 0.12872670769523564.\n"
     ]
    },
    {
     "name": "stdout",
     "output_type": "stream",
     "text": [
      "[LightGBM] [Info] Auto-choosing row-wise multi-threading, the overhead of testing was 0.023771 seconds.\n",
      "You can set `force_row_wise=true` to remove the overhead.\n",
      "And if memory is not enough, you can set `force_col_wise=true`.\n",
      "[LightGBM] [Info] Total Bins 836\n",
      "[LightGBM] [Info] Number of data points in the train set: 810942, number of used features: 14\n",
      "[LightGBM] [Info] Start training from score 8.756742\n"
     ]
    },
    {
     "name": "stderr",
     "output_type": "stream",
     "text": [
      "[I 2025-04-27 23:25:05,135] Trial 40 finished with value: 0.1348936003405128 and parameters: {'n_estimators': 481, 'learning_rate': 0.0840013368689779, 'max_depth': 10, 'subsample': 0.815635148794756, 'colsample_bytree': 0.8450443685634184, 'reg_alpha': 0.01496424864134057, 'reg_lambda': 0.026767862784256444}. Best is trial 9 with value: 0.12872670769523564.\n"
     ]
    },
    {
     "name": "stdout",
     "output_type": "stream",
     "text": [
      "[LightGBM] [Info] Auto-choosing row-wise multi-threading, the overhead of testing was 0.029011 seconds.\n",
      "You can set `force_row_wise=true` to remove the overhead.\n",
      "And if memory is not enough, you can set `force_col_wise=true`.\n",
      "[LightGBM] [Info] Total Bins 836\n",
      "[LightGBM] [Info] Number of data points in the train set: 810942, number of used features: 14\n",
      "[LightGBM] [Info] Start training from score 8.756742\n"
     ]
    },
    {
     "name": "stderr",
     "output_type": "stream",
     "text": [
      "[I 2025-04-27 23:25:18,701] Trial 41 finished with value: 0.131303824501785 and parameters: {'n_estimators': 928, 'learning_rate': 0.08024081915053886, 'max_depth': 12, 'subsample': 0.9063997321901209, 'colsample_bytree': 0.8589992685019193, 'reg_alpha': 0.09394696561611586, 'reg_lambda': 0.012422235106379957}. Best is trial 9 with value: 0.12872670769523564.\n"
     ]
    },
    {
     "name": "stdout",
     "output_type": "stream",
     "text": [
      "[LightGBM] [Info] Auto-choosing row-wise multi-threading, the overhead of testing was 0.026719 seconds.\n",
      "You can set `force_row_wise=true` to remove the overhead.\n",
      "And if memory is not enough, you can set `force_col_wise=true`.\n",
      "[LightGBM] [Info] Total Bins 836\n",
      "[LightGBM] [Info] Number of data points in the train set: 810942, number of used features: 14\n",
      "[LightGBM] [Info] Start training from score 8.756742\n"
     ]
    },
    {
     "name": "stderr",
     "output_type": "stream",
     "text": [
      "[I 2025-04-27 23:25:31,540] Trial 42 finished with value: 0.13175303873205865 and parameters: {'n_estimators': 946, 'learning_rate': 0.0929451915236007, 'max_depth': 12, 'subsample': 0.9519375063689461, 'colsample_bytree': 0.7893603482612064, 'reg_alpha': 0.09450823672357334, 'reg_lambda': 0.011019598774221696}. Best is trial 9 with value: 0.12872670769523564.\n"
     ]
    },
    {
     "name": "stdout",
     "output_type": "stream",
     "text": [
      "[LightGBM] [Info] Auto-choosing row-wise multi-threading, the overhead of testing was 0.022146 seconds.\n",
      "You can set `force_row_wise=true` to remove the overhead.\n",
      "And if memory is not enough, you can set `force_col_wise=true`.\n",
      "[LightGBM] [Info] Total Bins 836\n",
      "[LightGBM] [Info] Number of data points in the train set: 810942, number of used features: 14\n",
      "[LightGBM] [Info] Start training from score 8.756742\n"
     ]
    },
    {
     "name": "stderr",
     "output_type": "stream",
     "text": [
      "[I 2025-04-27 23:25:43,364] Trial 43 finished with value: 0.13163202058116272 and parameters: {'n_estimators': 839, 'learning_rate': 0.09598210587382303, 'max_depth': 11, 'subsample': 0.9167655818631264, 'colsample_bytree': 0.8473711178172332, 'reg_alpha': 0.09658844339518231, 'reg_lambda': 0.02029911643720014}. Best is trial 9 with value: 0.12872670769523564.\n"
     ]
    },
    {
     "name": "stdout",
     "output_type": "stream",
     "text": [
      "[LightGBM] [Info] Auto-choosing row-wise multi-threading, the overhead of testing was 0.028299 seconds.\n",
      "You can set `force_row_wise=true` to remove the overhead.\n",
      "And if memory is not enough, you can set `force_col_wise=true`.\n",
      "[LightGBM] [Info] Total Bins 836\n",
      "[LightGBM] [Info] Number of data points in the train set: 810942, number of used features: 14\n",
      "[LightGBM] [Info] Start training from score 8.756742\n"
     ]
    },
    {
     "name": "stderr",
     "output_type": "stream",
     "text": [
      "[I 2025-04-27 23:25:57,525] Trial 44 finished with value: 0.12914487998460844 and parameters: {'n_estimators': 998, 'learning_rate': 0.08819267819108707, 'max_depth': 12, 'subsample': 0.8797485265465094, 'colsample_bytree': 0.8839042171092009, 'reg_alpha': 0.08957787413191313, 'reg_lambda': 0.0154039260624486}. Best is trial 9 with value: 0.12872670769523564.\n"
     ]
    },
    {
     "name": "stdout",
     "output_type": "stream",
     "text": [
      "[LightGBM] [Info] Auto-choosing row-wise multi-threading, the overhead of testing was 0.026720 seconds.\n",
      "You can set `force_row_wise=true` to remove the overhead.\n",
      "And if memory is not enough, you can set `force_col_wise=true`.\n",
      "[LightGBM] [Info] Total Bins 836\n",
      "[LightGBM] [Info] Number of data points in the train set: 810942, number of used features: 14\n",
      "[LightGBM] [Info] Start training from score 8.756742\n",
      "[LightGBM] [Warning] No further splits with positive gain, best gain: -inf\n",
      "[LightGBM] [Warning] No further splits with positive gain, best gain: -inf\n",
      "[LightGBM] [Warning] No further splits with positive gain, best gain: -inf\n",
      "[LightGBM] [Warning] No further splits with positive gain, best gain: -inf\n",
      "[LightGBM] [Warning] No further splits with positive gain, best gain: -inf\n",
      "[LightGBM] [Warning] No further splits with positive gain, best gain: -inf\n",
      "[LightGBM] [Warning] No further splits with positive gain, best gain: -inf\n",
      "[LightGBM] [Warning] No further splits with positive gain, best gain: -inf\n",
      "[LightGBM] [Warning] No further splits with positive gain, best gain: -inf\n",
      "[LightGBM] [Warning] No further splits with positive gain, best gain: -inf\n",
      "[LightGBM] [Warning] No further splits with positive gain, best gain: -inf\n",
      "[LightGBM] [Warning] No further splits with positive gain, best gain: -inf\n",
      "[LightGBM] [Warning] No further splits with positive gain, best gain: -inf\n",
      "[LightGBM] [Warning] No further splits with positive gain, best gain: -inf\n",
      "[LightGBM] [Warning] No further splits with positive gain, best gain: -inf\n",
      "[LightGBM] [Warning] No further splits with positive gain, best gain: -inf\n",
      "[LightGBM] [Warning] No further splits with positive gain, best gain: -inf\n",
      "[LightGBM] [Warning] No further splits with positive gain, best gain: -inf\n",
      "[LightGBM] [Warning] No further splits with positive gain, best gain: -inf\n",
      "[LightGBM] [Warning] No further splits with positive gain, best gain: -inf\n",
      "[LightGBM] [Warning] No further splits with positive gain, best gain: -inf\n",
      "[LightGBM] [Warning] No further splits with positive gain, best gain: -inf\n",
      "[LightGBM] [Warning] No further splits with positive gain, best gain: -inf\n",
      "[LightGBM] [Warning] No further splits with positive gain, best gain: -inf\n",
      "[LightGBM] [Warning] No further splits with positive gain, best gain: -inf\n",
      "[LightGBM] [Warning] No further splits with positive gain, best gain: -inf\n",
      "[LightGBM] [Warning] No further splits with positive gain, best gain: -inf\n",
      "[LightGBM] [Warning] No further splits with positive gain, best gain: -inf\n",
      "[LightGBM] [Warning] No further splits with positive gain, best gain: -inf\n",
      "[LightGBM] [Warning] No further splits with positive gain, best gain: -inf\n",
      "[LightGBM] [Warning] No further splits with positive gain, best gain: -inf\n",
      "[LightGBM] [Warning] No further splits with positive gain, best gain: -inf\n",
      "[LightGBM] [Warning] No further splits with positive gain, best gain: -inf\n",
      "[LightGBM] [Warning] No further splits with positive gain, best gain: -inf\n",
      "[LightGBM] [Warning] No further splits with positive gain, best gain: -inf\n",
      "[LightGBM] [Warning] No further splits with positive gain, best gain: -inf\n",
      "[LightGBM] [Warning] No further splits with positive gain, best gain: -inf\n",
      "[LightGBM] [Warning] No further splits with positive gain, best gain: -inf\n",
      "[LightGBM] [Warning] No further splits with positive gain, best gain: -inf\n",
      "[LightGBM] [Warning] No further splits with positive gain, best gain: -inf\n",
      "[LightGBM] [Warning] No further splits with positive gain, best gain: -inf\n",
      "[LightGBM] [Warning] No further splits with positive gain, best gain: -inf\n",
      "[LightGBM] [Warning] No further splits with positive gain, best gain: -inf\n",
      "[LightGBM] [Warning] No further splits with positive gain, best gain: -inf\n",
      "[LightGBM] [Warning] No further splits with positive gain, best gain: -inf\n",
      "[LightGBM] [Warning] No further splits with positive gain, best gain: -inf\n",
      "[LightGBM] [Warning] No further splits with positive gain, best gain: -inf\n",
      "[LightGBM] [Warning] No further splits with positive gain, best gain: -inf\n",
      "[LightGBM] [Warning] No further splits with positive gain, best gain: -inf\n",
      "[LightGBM] [Warning] No further splits with positive gain, best gain: -inf\n",
      "[LightGBM] [Warning] No further splits with positive gain, best gain: -inf\n",
      "[LightGBM] [Warning] No further splits with positive gain, best gain: -inf\n",
      "[LightGBM] [Warning] No further splits with positive gain, best gain: -inf\n",
      "[LightGBM] [Warning] No further splits with positive gain, best gain: -inf\n",
      "[LightGBM] [Warning] No further splits with positive gain, best gain: -inf\n",
      "[LightGBM] [Warning] No further splits with positive gain, best gain: -inf\n",
      "[LightGBM] [Warning] No further splits with positive gain, best gain: -inf\n",
      "[LightGBM] [Warning] No further splits with positive gain, best gain: -inf\n",
      "[LightGBM] [Warning] No further splits with positive gain, best gain: -inf\n",
      "[LightGBM] [Warning] No further splits with positive gain, best gain: -inf\n",
      "[LightGBM] [Warning] No further splits with positive gain, best gain: -inf\n",
      "[LightGBM] [Warning] No further splits with positive gain, best gain: -inf\n",
      "[LightGBM] [Warning] No further splits with positive gain, best gain: -inf\n",
      "[LightGBM] [Warning] No further splits with positive gain, best gain: -inf\n",
      "[LightGBM] [Warning] No further splits with positive gain, best gain: -inf\n",
      "[LightGBM] [Warning] No further splits with positive gain, best gain: -inf\n",
      "[LightGBM] [Warning] No further splits with positive gain, best gain: -inf\n",
      "[LightGBM] [Warning] No further splits with positive gain, best gain: -inf\n",
      "[LightGBM] [Warning] No further splits with positive gain, best gain: -inf\n",
      "[LightGBM] [Warning] No further splits with positive gain, best gain: -inf\n",
      "[LightGBM] [Warning] No further splits with positive gain, best gain: -inf\n",
      "[LightGBM] [Warning] No further splits with positive gain, best gain: -inf\n",
      "[LightGBM] [Warning] No further splits with positive gain, best gain: -inf\n",
      "[LightGBM] [Warning] No further splits with positive gain, best gain: -inf\n",
      "[LightGBM] [Warning] No further splits with positive gain, best gain: -inf\n",
      "[LightGBM] [Warning] No further splits with positive gain, best gain: -inf\n",
      "[LightGBM] [Warning] No further splits with positive gain, best gain: -inf\n",
      "[LightGBM] [Warning] No further splits with positive gain, best gain: -inf\n",
      "[LightGBM] [Warning] No further splits with positive gain, best gain: -inf\n",
      "[LightGBM] [Warning] No further splits with positive gain, best gain: -inf\n",
      "[LightGBM] [Warning] No further splits with positive gain, best gain: -inf\n",
      "[LightGBM] [Warning] No further splits with positive gain, best gain: -inf\n",
      "[LightGBM] [Warning] No further splits with positive gain, best gain: -inf\n",
      "[LightGBM] [Warning] No further splits with positive gain, best gain: -inf\n",
      "[LightGBM] [Warning] No further splits with positive gain, best gain: -inf\n",
      "[LightGBM] [Warning] No further splits with positive gain, best gain: -inf\n",
      "[LightGBM] [Warning] No further splits with positive gain, best gain: -inf\n",
      "[LightGBM] [Warning] No further splits with positive gain, best gain: -inf\n",
      "[LightGBM] [Warning] No further splits with positive gain, best gain: -inf\n",
      "[LightGBM] [Warning] No further splits with positive gain, best gain: -inf\n",
      "[LightGBM] [Warning] No further splits with positive gain, best gain: -inf\n",
      "[LightGBM] [Warning] No further splits with positive gain, best gain: -inf\n",
      "[LightGBM] [Warning] No further splits with positive gain, best gain: -inf\n",
      "[LightGBM] [Warning] No further splits with positive gain, best gain: -inf\n",
      "[LightGBM] [Warning] No further splits with positive gain, best gain: -inf\n",
      "[LightGBM] [Warning] No further splits with positive gain, best gain: -inf\n",
      "[LightGBM] [Warning] No further splits with positive gain, best gain: -inf\n",
      "[LightGBM] [Warning] No further splits with positive gain, best gain: -inf\n",
      "[LightGBM] [Warning] No further splits with positive gain, best gain: -inf\n",
      "[LightGBM] [Warning] No further splits with positive gain, best gain: -inf\n",
      "[LightGBM] [Warning] No further splits with positive gain, best gain: -inf\n",
      "[LightGBM] [Warning] No further splits with positive gain, best gain: -inf\n",
      "[LightGBM] [Warning] No further splits with positive gain, best gain: -inf\n",
      "[LightGBM] [Warning] No further splits with positive gain, best gain: -inf\n",
      "[LightGBM] [Warning] No further splits with positive gain, best gain: -inf\n",
      "[LightGBM] [Warning] No further splits with positive gain, best gain: -inf\n",
      "[LightGBM] [Warning] No further splits with positive gain, best gain: -inf\n",
      "[LightGBM] [Warning] No further splits with positive gain, best gain: -inf\n",
      "[LightGBM] [Warning] No further splits with positive gain, best gain: -inf\n",
      "[LightGBM] [Warning] No further splits with positive gain, best gain: -inf\n",
      "[LightGBM] [Warning] No further splits with positive gain, best gain: -inf\n",
      "[LightGBM] [Warning] No further splits with positive gain, best gain: -inf\n",
      "[LightGBM] [Warning] No further splits with positive gain, best gain: -inf\n",
      "[LightGBM] [Warning] No further splits with positive gain, best gain: -inf\n",
      "[LightGBM] [Warning] No further splits with positive gain, best gain: -inf\n",
      "[LightGBM] [Warning] No further splits with positive gain, best gain: -inf\n",
      "[LightGBM] [Warning] No further splits with positive gain, best gain: -inf\n",
      "[LightGBM] [Warning] No further splits with positive gain, best gain: -inf\n",
      "[LightGBM] [Warning] No further splits with positive gain, best gain: -inf\n",
      "[LightGBM] [Warning] No further splits with positive gain, best gain: -inf\n",
      "[LightGBM] [Warning] No further splits with positive gain, best gain: -inf\n",
      "[LightGBM] [Warning] No further splits with positive gain, best gain: -inf\n",
      "[LightGBM] [Warning] No further splits with positive gain, best gain: -inf\n",
      "[LightGBM] [Warning] No further splits with positive gain, best gain: -inf\n",
      "[LightGBM] [Warning] No further splits with positive gain, best gain: -inf\n",
      "[LightGBM] [Warning] No further splits with positive gain, best gain: -inf\n",
      "[LightGBM] [Warning] No further splits with positive gain, best gain: -inf\n",
      "[LightGBM] [Warning] No further splits with positive gain, best gain: -inf\n",
      "[LightGBM] [Warning] No further splits with positive gain, best gain: -inf\n",
      "[LightGBM] [Warning] No further splits with positive gain, best gain: -inf\n",
      "[LightGBM] [Warning] No further splits with positive gain, best gain: -inf\n",
      "[LightGBM] [Warning] No further splits with positive gain, best gain: -inf\n",
      "[LightGBM] [Warning] No further splits with positive gain, best gain: -inf\n",
      "[LightGBM] [Warning] No further splits with positive gain, best gain: -inf\n",
      "[LightGBM] [Warning] No further splits with positive gain, best gain: -inf\n",
      "[LightGBM] [Warning] No further splits with positive gain, best gain: -inf\n",
      "[LightGBM] [Warning] No further splits with positive gain, best gain: -inf\n",
      "[LightGBM] [Warning] No further splits with positive gain, best gain: -inf\n",
      "[LightGBM] [Warning] No further splits with positive gain, best gain: -inf\n",
      "[LightGBM] [Warning] No further splits with positive gain, best gain: -inf\n",
      "[LightGBM] [Warning] No further splits with positive gain, best gain: -inf\n",
      "[LightGBM] [Warning] No further splits with positive gain, best gain: -inf\n",
      "[LightGBM] [Warning] No further splits with positive gain, best gain: -inf\n",
      "[LightGBM] [Warning] No further splits with positive gain, best gain: -inf\n",
      "[LightGBM] [Warning] No further splits with positive gain, best gain: -inf\n",
      "[LightGBM] [Warning] No further splits with positive gain, best gain: -inf\n",
      "[LightGBM] [Warning] No further splits with positive gain, best gain: -inf\n",
      "[LightGBM] [Warning] No further splits with positive gain, best gain: -inf\n",
      "[LightGBM] [Warning] No further splits with positive gain, best gain: -inf\n",
      "[LightGBM] [Warning] No further splits with positive gain, best gain: -inf\n",
      "[LightGBM] [Warning] No further splits with positive gain, best gain: -inf\n",
      "[LightGBM] [Warning] No further splits with positive gain, best gain: -inf\n",
      "[LightGBM] [Warning] No further splits with positive gain, best gain: -inf\n",
      "[LightGBM] [Warning] No further splits with positive gain, best gain: -inf\n",
      "[LightGBM] [Warning] No further splits with positive gain, best gain: -inf\n",
      "[LightGBM] [Warning] No further splits with positive gain, best gain: -inf\n",
      "[LightGBM] [Warning] No further splits with positive gain, best gain: -inf\n",
      "[LightGBM] [Warning] No further splits with positive gain, best gain: -inf\n",
      "[LightGBM] [Warning] No further splits with positive gain, best gain: -inf\n",
      "[LightGBM] [Warning] No further splits with positive gain, best gain: -inf\n",
      "[LightGBM] [Warning] No further splits with positive gain, best gain: -inf\n",
      "[LightGBM] [Warning] No further splits with positive gain, best gain: -inf\n",
      "[LightGBM] [Warning] No further splits with positive gain, best gain: -inf\n",
      "[LightGBM] [Warning] No further splits with positive gain, best gain: -inf\n",
      "[LightGBM] [Warning] No further splits with positive gain, best gain: -inf\n",
      "[LightGBM] [Warning] No further splits with positive gain, best gain: -inf\n",
      "[LightGBM] [Warning] No further splits with positive gain, best gain: -inf\n",
      "[LightGBM] [Warning] No further splits with positive gain, best gain: -inf\n",
      "[LightGBM] [Warning] No further splits with positive gain, best gain: -inf\n",
      "[LightGBM] [Warning] No further splits with positive gain, best gain: -inf\n",
      "[LightGBM] [Warning] No further splits with positive gain, best gain: -inf\n",
      "[LightGBM] [Warning] No further splits with positive gain, best gain: -inf\n",
      "[LightGBM] [Warning] No further splits with positive gain, best gain: -inf\n",
      "[LightGBM] [Warning] No further splits with positive gain, best gain: -inf\n",
      "[LightGBM] [Warning] No further splits with positive gain, best gain: -inf\n",
      "[LightGBM] [Warning] No further splits with positive gain, best gain: -inf\n",
      "[LightGBM] [Warning] No further splits with positive gain, best gain: -inf\n",
      "[LightGBM] [Warning] No further splits with positive gain, best gain: -inf\n",
      "[LightGBM] [Warning] No further splits with positive gain, best gain: -inf\n",
      "[LightGBM] [Warning] No further splits with positive gain, best gain: -inf\n",
      "[LightGBM] [Warning] No further splits with positive gain, best gain: -inf\n",
      "[LightGBM] [Warning] No further splits with positive gain, best gain: -inf\n",
      "[LightGBM] [Warning] No further splits with positive gain, best gain: -inf\n",
      "[LightGBM] [Warning] No further splits with positive gain, best gain: -inf\n",
      "[LightGBM] [Warning] No further splits with positive gain, best gain: -inf\n",
      "[LightGBM] [Warning] No further splits with positive gain, best gain: -inf\n",
      "[LightGBM] [Warning] No further splits with positive gain, best gain: -inf\n",
      "[LightGBM] [Warning] No further splits with positive gain, best gain: -inf\n",
      "[LightGBM] [Warning] No further splits with positive gain, best gain: -inf\n",
      "[LightGBM] [Warning] No further splits with positive gain, best gain: -inf\n",
      "[LightGBM] [Warning] No further splits with positive gain, best gain: -inf\n",
      "[LightGBM] [Warning] No further splits with positive gain, best gain: -inf\n",
      "[LightGBM] [Warning] No further splits with positive gain, best gain: -inf\n",
      "[LightGBM] [Warning] No further splits with positive gain, best gain: -inf\n",
      "[LightGBM] [Warning] No further splits with positive gain, best gain: -inf\n",
      "[LightGBM] [Warning] No further splits with positive gain, best gain: -inf\n",
      "[LightGBM] [Warning] No further splits with positive gain, best gain: -inf\n",
      "[LightGBM] [Warning] No further splits with positive gain, best gain: -inf\n",
      "[LightGBM] [Warning] No further splits with positive gain, best gain: -inf\n",
      "[LightGBM] [Warning] No further splits with positive gain, best gain: -inf\n",
      "[LightGBM] [Warning] No further splits with positive gain, best gain: -inf\n",
      "[LightGBM] [Warning] No further splits with positive gain, best gain: -inf\n",
      "[LightGBM] [Warning] No further splits with positive gain, best gain: -inf\n",
      "[LightGBM] [Warning] No further splits with positive gain, best gain: -inf\n",
      "[LightGBM] [Warning] No further splits with positive gain, best gain: -inf\n",
      "[LightGBM] [Warning] No further splits with positive gain, best gain: -inf\n",
      "[LightGBM] [Warning] No further splits with positive gain, best gain: -inf\n",
      "[LightGBM] [Warning] No further splits with positive gain, best gain: -inf\n",
      "[LightGBM] [Warning] No further splits with positive gain, best gain: -inf\n",
      "[LightGBM] [Warning] No further splits with positive gain, best gain: -inf\n",
      "[LightGBM] [Warning] No further splits with positive gain, best gain: -inf\n",
      "[LightGBM] [Warning] No further splits with positive gain, best gain: -inf\n",
      "[LightGBM] [Warning] No further splits with positive gain, best gain: -inf\n",
      "[LightGBM] [Warning] No further splits with positive gain, best gain: -inf\n",
      "[LightGBM] [Warning] No further splits with positive gain, best gain: -inf\n",
      "[LightGBM] [Warning] No further splits with positive gain, best gain: -inf\n",
      "[LightGBM] [Warning] No further splits with positive gain, best gain: -inf\n",
      "[LightGBM] [Warning] No further splits with positive gain, best gain: -inf\n",
      "[LightGBM] [Warning] No further splits with positive gain, best gain: -inf\n",
      "[LightGBM] [Warning] No further splits with positive gain, best gain: -inf\n",
      "[LightGBM] [Warning] No further splits with positive gain, best gain: -inf\n",
      "[LightGBM] [Warning] No further splits with positive gain, best gain: -inf\n",
      "[LightGBM] [Warning] No further splits with positive gain, best gain: -inf\n",
      "[LightGBM] [Warning] No further splits with positive gain, best gain: -inf\n",
      "[LightGBM] [Warning] No further splits with positive gain, best gain: -inf\n",
      "[LightGBM] [Warning] No further splits with positive gain, best gain: -inf\n",
      "[LightGBM] [Warning] No further splits with positive gain, best gain: -inf\n",
      "[LightGBM] [Warning] No further splits with positive gain, best gain: -inf\n",
      "[LightGBM] [Warning] No further splits with positive gain, best gain: -inf\n",
      "[LightGBM] [Warning] No further splits with positive gain, best gain: -inf\n",
      "[LightGBM] [Warning] No further splits with positive gain, best gain: -inf\n",
      "[LightGBM] [Warning] No further splits with positive gain, best gain: -inf\n",
      "[LightGBM] [Warning] No further splits with positive gain, best gain: -inf\n",
      "[LightGBM] [Warning] No further splits with positive gain, best gain: -inf\n",
      "[LightGBM] [Warning] No further splits with positive gain, best gain: -inf\n",
      "[LightGBM] [Warning] No further splits with positive gain, best gain: -inf\n",
      "[LightGBM] [Warning] No further splits with positive gain, best gain: -inf\n",
      "[LightGBM] [Warning] No further splits with positive gain, best gain: -inf\n",
      "[LightGBM] [Warning] No further splits with positive gain, best gain: -inf\n",
      "[LightGBM] [Warning] No further splits with positive gain, best gain: -inf\n",
      "[LightGBM] [Warning] No further splits with positive gain, best gain: -inf\n",
      "[LightGBM] [Warning] No further splits with positive gain, best gain: -inf\n",
      "[LightGBM] [Warning] No further splits with positive gain, best gain: -inf\n",
      "[LightGBM] [Warning] No further splits with positive gain, best gain: -inf\n",
      "[LightGBM] [Warning] No further splits with positive gain, best gain: -inf\n",
      "[LightGBM] [Warning] No further splits with positive gain, best gain: -inf\n",
      "[LightGBM] [Warning] No further splits with positive gain, best gain: -inf\n",
      "[LightGBM] [Warning] No further splits with positive gain, best gain: -inf\n",
      "[LightGBM] [Warning] No further splits with positive gain, best gain: -inf\n",
      "[LightGBM] [Warning] No further splits with positive gain, best gain: -inf\n",
      "[LightGBM] [Warning] No further splits with positive gain, best gain: -inf\n",
      "[LightGBM] [Warning] No further splits with positive gain, best gain: -inf\n",
      "[LightGBM] [Warning] No further splits with positive gain, best gain: -inf\n",
      "[LightGBM] [Warning] No further splits with positive gain, best gain: -inf\n",
      "[LightGBM] [Warning] No further splits with positive gain, best gain: -inf\n",
      "[LightGBM] [Warning] No further splits with positive gain, best gain: -inf\n",
      "[LightGBM] [Warning] No further splits with positive gain, best gain: -inf\n",
      "[LightGBM] [Warning] No further splits with positive gain, best gain: -inf\n",
      "[LightGBM] [Warning] No further splits with positive gain, best gain: -inf\n",
      "[LightGBM] [Warning] No further splits with positive gain, best gain: -inf\n",
      "[LightGBM] [Warning] No further splits with positive gain, best gain: -inf\n",
      "[LightGBM] [Warning] No further splits with positive gain, best gain: -inf\n",
      "[LightGBM] [Warning] No further splits with positive gain, best gain: -inf\n",
      "[LightGBM] [Warning] No further splits with positive gain, best gain: -inf\n",
      "[LightGBM] [Warning] No further splits with positive gain, best gain: -inf\n",
      "[LightGBM] [Warning] No further splits with positive gain, best gain: -inf\n"
     ]
    },
    {
     "name": "stderr",
     "output_type": "stream",
     "text": [
      "[I 2025-04-27 23:26:01,338] Trial 45 finished with value: 0.14326660395675792 and parameters: {'n_estimators': 989, 'learning_rate': 0.08687163677300992, 'max_depth': 4, 'subsample': 0.8764640488745488, 'colsample_bytree': 0.9123861999045573, 'reg_alpha': 0.0883396061775896, 'reg_lambda': 0.015880737726050413}. Best is trial 9 with value: 0.12872670769523564.\n"
     ]
    },
    {
     "name": "stdout",
     "output_type": "stream",
     "text": [
      "[LightGBM] [Warning] No further splits with positive gain, best gain: -inf\n",
      "[LightGBM] [Warning] No further splits with positive gain, best gain: -inf\n",
      "[LightGBM] [Warning] No further splits with positive gain, best gain: -inf\n",
      "[LightGBM] [Info] Auto-choosing row-wise multi-threading, the overhead of testing was 0.026382 seconds.\n",
      "You can set `force_row_wise=true` to remove the overhead.\n",
      "And if memory is not enough, you can set `force_col_wise=true`.\n",
      "[LightGBM] [Info] Total Bins 836\n",
      "[LightGBM] [Info] Number of data points in the train set: 810942, number of used features: 14\n",
      "[LightGBM] [Info] Start training from score 8.756742\n"
     ]
    },
    {
     "name": "stderr",
     "output_type": "stream",
     "text": [
      "[I 2025-04-27 23:26:13,529] Trial 46 finished with value: 0.13125980115626587 and parameters: {'n_estimators': 851, 'learning_rate': 0.09534744332686025, 'max_depth': 11, 'subsample': 0.8897782338980688, 'colsample_bytree': 0.8878827536701905, 'reg_alpha': 0.061480312099062184, 'reg_lambda': 0.0627448875805297}. Best is trial 9 with value: 0.12872670769523564.\n"
     ]
    },
    {
     "name": "stdout",
     "output_type": "stream",
     "text": [
      "[LightGBM] [Info] Auto-choosing row-wise multi-threading, the overhead of testing was 0.021408 seconds.\n",
      "You can set `force_row_wise=true` to remove the overhead.\n",
      "And if memory is not enough, you can set `force_col_wise=true`.\n",
      "[LightGBM] [Info] Total Bins 836\n",
      "[LightGBM] [Info] Number of data points in the train set: 810942, number of used features: 14\n",
      "[LightGBM] [Info] Start training from score 8.756742\n"
     ]
    },
    {
     "name": "stderr",
     "output_type": "stream",
     "text": [
      "[I 2025-04-27 23:26:25,360] Trial 47 finished with value: 0.13433356063551619 and parameters: {'n_estimators': 800, 'learning_rate': 0.0731179681347151, 'max_depth': 10, 'subsample': 0.7111384158349138, 'colsample_bytree': 0.8695402212017507, 'reg_alpha': 0.06719396055102476, 'reg_lambda': 0.07817747590055597}. Best is trial 9 with value: 0.12872670769523564.\n"
     ]
    },
    {
     "name": "stdout",
     "output_type": "stream",
     "text": [
      "[LightGBM] [Info] Auto-choosing row-wise multi-threading, the overhead of testing was 0.027528 seconds.\n",
      "You can set `force_row_wise=true` to remove the overhead.\n",
      "And if memory is not enough, you can set `force_col_wise=true`.\n",
      "[LightGBM] [Info] Total Bins 836\n",
      "[LightGBM] [Info] Number of data points in the train set: 810942, number of used features: 14\n",
      "[LightGBM] [Info] Start training from score 8.756742\n"
     ]
    },
    {
     "name": "stderr",
     "output_type": "stream",
     "text": [
      "[I 2025-04-27 23:26:32,373] Trial 48 finished with value: 0.14477281991525917 and parameters: {'n_estimators': 977, 'learning_rate': 0.021438979568632457, 'max_depth': 11, 'subsample': 0.9402600904834254, 'colsample_bytree': 0.9026559991009656, 'reg_alpha': 0.0766574785210187, 'reg_lambda': 0.052888263696469005}. Best is trial 9 with value: 0.12872670769523564.\n"
     ]
    },
    {
     "name": "stdout",
     "output_type": "stream",
     "text": [
      "[LightGBM] [Info] Auto-choosing row-wise multi-threading, the overhead of testing was 0.019480 seconds.\n",
      "You can set `force_row_wise=true` to remove the overhead.\n",
      "And if memory is not enough, you can set `force_col_wise=true`.\n",
      "[LightGBM] [Info] Total Bins 836\n",
      "[LightGBM] [Info] Number of data points in the train set: 810942, number of used features: 14\n",
      "[LightGBM] [Info] Start training from score 8.756742\n"
     ]
    },
    {
     "name": "stderr",
     "output_type": "stream",
     "text": [
      "[I 2025-04-27 23:26:42,763] Trial 49 finished with value: 0.1385790809670041 and parameters: {'n_estimators': 997, 'learning_rate': 0.06574437347082045, 'max_depth': 8, 'subsample': 0.7405356471305676, 'colsample_bytree': 0.8126540986138182, 'reg_alpha': 0.05060596990607055, 'reg_lambda': 0.027374696990780663}. Best is trial 9 with value: 0.12872670769523564.\n"
     ]
    }
   ],
   "source": [
    "import optuna\n",
    "from lightgbm import LGBMRegressor, early_stopping\n",
    "from sklearn.metrics import mean_squared_error\n",
    "from sklearn.model_selection import train_test_split\n",
    "\n",
    "def objective(trial):\n",
    "    # Hyperparameters to tune\n",
    "    param = {\n",
    "        'objective': 'regression',\n",
    "        'metric': 'rmse',\n",
    "        'n_estimators': trial.suggest_int('n_estimators', 100, 1000),\n",
    "        'learning_rate': trial.suggest_float('learning_rate', 0.01, 0.1),\n",
    "        'max_depth': trial.suggest_int('max_depth', 4, 12),\n",
    "        'subsample': trial.suggest_float('subsample', 0.7, 1.0),\n",
    "        'colsample_bytree': trial.suggest_float('colsample_bytree', 0.7, 1.0),\n",
    "        'reg_alpha': trial.suggest_float('reg_alpha', 0.01, 0.1),\n",
    "        'reg_lambda': trial.suggest_float('reg_lambda', 0.01, 0.1),\n",
    "    }\n",
    "\n",
    "    # Train the model\n",
    "    model = LGBMRegressor(**param)\n",
    "    model.fit(\n",
    "        X_train, y_train,\n",
    "        eval_set=[(X_test, y_test)],\n",
    "        callbacks=[early_stopping(stopping_rounds=50, verbose=False)]\n",
    "    )\n",
    "\n",
    "    # Predict and calculate RMSE\n",
    "    y_pred = model.predict(X_test)\n",
    "    mse = mean_squared_error(y_test, y_pred)\n",
    "    rmse = mse ** 0.5\n",
    "    return rmse\n",
    "\n",
    "study = optuna.create_study(direction='minimize')\n",
    "study.optimize(objective, n_trials=50)\n"
   ]
  },
  {
   "cell_type": "code",
   "execution_count": 43,
   "id": "b0562b2f-efbd-4842-9006-341e5752cbce",
   "metadata": {},
   "outputs": [
    {
     "name": "stdout",
     "output_type": "stream",
     "text": [
      "Requirement already satisfied: xgboost in c:\\users\\abhishek maurya\\anaconda3\\lib\\site-packages (3.0.0)\n",
      "Requirement already satisfied: numpy in c:\\users\\abhishek maurya\\anaconda3\\lib\\site-packages (from xgboost) (1.26.4)\n",
      "Requirement already satisfied: scipy in c:\\users\\abhishek maurya\\anaconda3\\lib\\site-packages (from xgboost) (1.13.1)\n"
     ]
    }
   ],
   "source": [
    "!pip install xgboost"
   ]
  },
  {
   "cell_type": "code",
   "execution_count": 44,
   "id": "ab2090d1-8c28-4558-98f3-3e153ef099cf",
   "metadata": {},
   "outputs": [
    {
     "name": "stdout",
     "output_type": "stream",
     "text": [
      "[0]\tvalidation_0-rmse:0.39755\n",
      "[1]\tvalidation_0-rmse:0.38795\n",
      "[2]\tvalidation_0-rmse:0.37856\n",
      "[3]\tvalidation_0-rmse:0.36960\n",
      "[4]\tvalidation_0-rmse:0.36077\n",
      "[5]\tvalidation_0-rmse:0.35242\n",
      "[6]\tvalidation_0-rmse:0.34420\n",
      "[7]\tvalidation_0-rmse:0.33644\n",
      "[8]\tvalidation_0-rmse:0.32873\n",
      "[9]\tvalidation_0-rmse:0.32141\n",
      "[10]\tvalidation_0-rmse:0.31442\n",
      "[11]\tvalidation_0-rmse:0.30742\n",
      "[12]\tvalidation_0-rmse:0.30081\n",
      "[13]\tvalidation_0-rmse:0.29444\n",
      "[14]\tvalidation_0-rmse:0.28829\n",
      "[15]\tvalidation_0-rmse:0.28229\n",
      "[16]\tvalidation_0-rmse:0.27649\n",
      "[17]\tvalidation_0-rmse:0.27097\n",
      "[18]\tvalidation_0-rmse:0.26566\n",
      "[19]\tvalidation_0-rmse:0.26049\n",
      "[20]\tvalidation_0-rmse:0.25558\n",
      "[21]\tvalidation_0-rmse:0.25080\n",
      "[22]\tvalidation_0-rmse:0.24626\n",
      "[23]\tvalidation_0-rmse:0.24181\n",
      "[24]\tvalidation_0-rmse:0.23755\n",
      "[25]\tvalidation_0-rmse:0.23349\n",
      "[26]\tvalidation_0-rmse:0.22956\n",
      "[27]\tvalidation_0-rmse:0.22578\n",
      "[28]\tvalidation_0-rmse:0.22222\n",
      "[29]\tvalidation_0-rmse:0.21864\n",
      "[30]\tvalidation_0-rmse:0.21533\n",
      "[31]\tvalidation_0-rmse:0.21206\n",
      "[32]\tvalidation_0-rmse:0.20895\n",
      "[33]\tvalidation_0-rmse:0.20606\n",
      "[34]\tvalidation_0-rmse:0.20325\n",
      "[35]\tvalidation_0-rmse:0.20054\n",
      "[36]\tvalidation_0-rmse:0.19789\n",
      "[37]\tvalidation_0-rmse:0.19543\n",
      "[38]\tvalidation_0-rmse:0.19309\n",
      "[39]\tvalidation_0-rmse:0.19081\n",
      "[40]\tvalidation_0-rmse:0.18860\n",
      "[41]\tvalidation_0-rmse:0.18652\n",
      "[42]\tvalidation_0-rmse:0.18450\n",
      "[43]\tvalidation_0-rmse:0.18259\n",
      "[44]\tvalidation_0-rmse:0.18073\n",
      "[45]\tvalidation_0-rmse:0.17900\n",
      "[46]\tvalidation_0-rmse:0.17729\n",
      "[47]\tvalidation_0-rmse:0.17567\n",
      "[48]\tvalidation_0-rmse:0.17415\n",
      "[49]\tvalidation_0-rmse:0.17267\n",
      "[50]\tvalidation_0-rmse:0.17119\n",
      "[51]\tvalidation_0-rmse:0.16983\n",
      "[52]\tvalidation_0-rmse:0.16854\n",
      "[53]\tvalidation_0-rmse:0.16734\n",
      "[54]\tvalidation_0-rmse:0.16627\n",
      "[55]\tvalidation_0-rmse:0.16509\n",
      "[56]\tvalidation_0-rmse:0.16400\n",
      "[57]\tvalidation_0-rmse:0.16306\n",
      "[58]\tvalidation_0-rmse:0.16212\n",
      "[59]\tvalidation_0-rmse:0.16130\n",
      "[60]\tvalidation_0-rmse:0.16040\n",
      "[61]\tvalidation_0-rmse:0.15958\n",
      "[62]\tvalidation_0-rmse:0.15879\n",
      "[63]\tvalidation_0-rmse:0.15804\n",
      "[64]\tvalidation_0-rmse:0.15730\n",
      "[65]\tvalidation_0-rmse:0.15665\n",
      "[66]\tvalidation_0-rmse:0.15603\n",
      "[67]\tvalidation_0-rmse:0.15536\n",
      "[68]\tvalidation_0-rmse:0.15479\n",
      "[69]\tvalidation_0-rmse:0.15424\n",
      "[70]\tvalidation_0-rmse:0.15377\n",
      "[71]\tvalidation_0-rmse:0.15326\n",
      "[72]\tvalidation_0-rmse:0.15278\n",
      "[73]\tvalidation_0-rmse:0.15229\n",
      "[74]\tvalidation_0-rmse:0.15197\n",
      "[75]\tvalidation_0-rmse:0.15154\n",
      "[76]\tvalidation_0-rmse:0.15117\n",
      "[77]\tvalidation_0-rmse:0.15085\n",
      "[78]\tvalidation_0-rmse:0.15052\n",
      "[79]\tvalidation_0-rmse:0.15021\n",
      "[80]\tvalidation_0-rmse:0.14992\n",
      "[81]\tvalidation_0-rmse:0.14962\n",
      "[82]\tvalidation_0-rmse:0.14938\n",
      "[83]\tvalidation_0-rmse:0.14916\n",
      "[84]\tvalidation_0-rmse:0.14897\n",
      "[85]\tvalidation_0-rmse:0.14879\n",
      "[86]\tvalidation_0-rmse:0.14857\n",
      "[87]\tvalidation_0-rmse:0.14843\n",
      "[88]\tvalidation_0-rmse:0.14824\n",
      "[89]\tvalidation_0-rmse:0.14800\n",
      "[90]\tvalidation_0-rmse:0.14791\n",
      "[91]\tvalidation_0-rmse:0.14773\n",
      "[92]\tvalidation_0-rmse:0.14765\n",
      "[93]\tvalidation_0-rmse:0.14759\n",
      "[94]\tvalidation_0-rmse:0.14750\n",
      "[95]\tvalidation_0-rmse:0.14733\n",
      "[96]\tvalidation_0-rmse:0.14730\n",
      "[97]\tvalidation_0-rmse:0.14718\n",
      "[98]\tvalidation_0-rmse:0.14707\n",
      "[99]\tvalidation_0-rmse:0.14708\n",
      "[100]\tvalidation_0-rmse:0.14698\n",
      "[101]\tvalidation_0-rmse:0.14699\n",
      "[102]\tvalidation_0-rmse:0.14694\n",
      "[103]\tvalidation_0-rmse:0.14680\n",
      "[104]\tvalidation_0-rmse:0.14666\n",
      "[105]\tvalidation_0-rmse:0.14656\n",
      "[106]\tvalidation_0-rmse:0.14653\n",
      "[107]\tvalidation_0-rmse:0.14648\n",
      "[108]\tvalidation_0-rmse:0.14647\n",
      "[109]\tvalidation_0-rmse:0.14647\n",
      "[110]\tvalidation_0-rmse:0.14650\n",
      "[111]\tvalidation_0-rmse:0.14640\n",
      "[112]\tvalidation_0-rmse:0.14629\n",
      "[113]\tvalidation_0-rmse:0.14632\n",
      "[114]\tvalidation_0-rmse:0.14632\n",
      "[115]\tvalidation_0-rmse:0.14628\n",
      "[116]\tvalidation_0-rmse:0.14620\n",
      "[117]\tvalidation_0-rmse:0.14620\n",
      "[118]\tvalidation_0-rmse:0.14619\n",
      "[119]\tvalidation_0-rmse:0.14618\n",
      "[120]\tvalidation_0-rmse:0.14613\n",
      "[121]\tvalidation_0-rmse:0.14611\n",
      "[122]\tvalidation_0-rmse:0.14607\n",
      "[123]\tvalidation_0-rmse:0.14603\n",
      "[124]\tvalidation_0-rmse:0.14601\n",
      "[125]\tvalidation_0-rmse:0.14601\n",
      "[126]\tvalidation_0-rmse:0.14596\n",
      "[127]\tvalidation_0-rmse:0.14603\n",
      "[128]\tvalidation_0-rmse:0.14604\n",
      "[129]\tvalidation_0-rmse:0.14604\n",
      "[130]\tvalidation_0-rmse:0.14600\n",
      "[131]\tvalidation_0-rmse:0.14597\n",
      "[132]\tvalidation_0-rmse:0.14598\n",
      "[133]\tvalidation_0-rmse:0.14592\n",
      "[134]\tvalidation_0-rmse:0.14591\n",
      "[135]\tvalidation_0-rmse:0.14589\n",
      "[136]\tvalidation_0-rmse:0.14587\n",
      "[137]\tvalidation_0-rmse:0.14583\n",
      "[138]\tvalidation_0-rmse:0.14587\n",
      "[139]\tvalidation_0-rmse:0.14585\n",
      "[140]\tvalidation_0-rmse:0.14588\n",
      "[141]\tvalidation_0-rmse:0.14592\n",
      "[142]\tvalidation_0-rmse:0.14595\n",
      "[143]\tvalidation_0-rmse:0.14601\n",
      "[144]\tvalidation_0-rmse:0.14597\n",
      "[145]\tvalidation_0-rmse:0.14590\n",
      "[146]\tvalidation_0-rmse:0.14591\n",
      "[147]\tvalidation_0-rmse:0.14590\n",
      "[148]\tvalidation_0-rmse:0.14582\n",
      "[149]\tvalidation_0-rmse:0.14579\n",
      "[150]\tvalidation_0-rmse:0.14580\n",
      "[151]\tvalidation_0-rmse:0.14581\n",
      "[152]\tvalidation_0-rmse:0.14584\n",
      "[153]\tvalidation_0-rmse:0.14579\n",
      "[154]\tvalidation_0-rmse:0.14575\n",
      "[155]\tvalidation_0-rmse:0.14575\n",
      "[156]\tvalidation_0-rmse:0.14583\n",
      "[157]\tvalidation_0-rmse:0.14582\n",
      "[158]\tvalidation_0-rmse:0.14583\n",
      "[159]\tvalidation_0-rmse:0.14590\n",
      "[160]\tvalidation_0-rmse:0.14592\n",
      "[161]\tvalidation_0-rmse:0.14588\n",
      "[162]\tvalidation_0-rmse:0.14586\n",
      "[163]\tvalidation_0-rmse:0.14590\n",
      "[164]\tvalidation_0-rmse:0.14579\n",
      "[165]\tvalidation_0-rmse:0.14575\n",
      "[166]\tvalidation_0-rmse:0.14581\n",
      "[167]\tvalidation_0-rmse:0.14584\n",
      "[168]\tvalidation_0-rmse:0.14583\n",
      "[169]\tvalidation_0-rmse:0.14585\n",
      "[170]\tvalidation_0-rmse:0.14592\n",
      "[171]\tvalidation_0-rmse:0.14589\n",
      "[172]\tvalidation_0-rmse:0.14589\n",
      "[173]\tvalidation_0-rmse:0.14589\n",
      "[174]\tvalidation_0-rmse:0.14587\n",
      "[175]\tvalidation_0-rmse:0.14588\n",
      "[176]\tvalidation_0-rmse:0.14579\n",
      "[177]\tvalidation_0-rmse:0.14582\n",
      "[178]\tvalidation_0-rmse:0.14583\n",
      "[179]\tvalidation_0-rmse:0.14581\n",
      "[180]\tvalidation_0-rmse:0.14578\n",
      "[181]\tvalidation_0-rmse:0.14572\n",
      "[182]\tvalidation_0-rmse:0.14568\n",
      "[183]\tvalidation_0-rmse:0.14563\n",
      "[184]\tvalidation_0-rmse:0.14548\n",
      "[185]\tvalidation_0-rmse:0.14546\n",
      "[186]\tvalidation_0-rmse:0.14545\n",
      "[187]\tvalidation_0-rmse:0.14542\n",
      "[188]\tvalidation_0-rmse:0.14541\n",
      "[189]\tvalidation_0-rmse:0.14535\n",
      "[190]\tvalidation_0-rmse:0.14530\n",
      "[191]\tvalidation_0-rmse:0.14528\n",
      "[192]\tvalidation_0-rmse:0.14524\n",
      "[193]\tvalidation_0-rmse:0.14521\n",
      "[194]\tvalidation_0-rmse:0.14509\n",
      "[195]\tvalidation_0-rmse:0.14498\n",
      "[196]\tvalidation_0-rmse:0.14498\n",
      "[197]\tvalidation_0-rmse:0.14496\n",
      "[198]\tvalidation_0-rmse:0.14493\n",
      "[199]\tvalidation_0-rmse:0.14483\n",
      "[200]\tvalidation_0-rmse:0.14482\n",
      "[201]\tvalidation_0-rmse:0.14484\n",
      "[202]\tvalidation_0-rmse:0.14482\n",
      "[203]\tvalidation_0-rmse:0.14477\n",
      "[204]\tvalidation_0-rmse:0.14474\n",
      "[205]\tvalidation_0-rmse:0.14473\n",
      "[206]\tvalidation_0-rmse:0.14464\n",
      "[207]\tvalidation_0-rmse:0.14463\n",
      "[208]\tvalidation_0-rmse:0.14453\n",
      "[209]\tvalidation_0-rmse:0.14454\n",
      "[210]\tvalidation_0-rmse:0.14458\n",
      "[211]\tvalidation_0-rmse:0.14457\n",
      "[212]\tvalidation_0-rmse:0.14456\n",
      "[213]\tvalidation_0-rmse:0.14459\n",
      "[214]\tvalidation_0-rmse:0.14458\n",
      "[215]\tvalidation_0-rmse:0.14457\n",
      "[216]\tvalidation_0-rmse:0.14456\n",
      "[217]\tvalidation_0-rmse:0.14454\n",
      "[218]\tvalidation_0-rmse:0.14455\n",
      "[219]\tvalidation_0-rmse:0.14455\n",
      "[220]\tvalidation_0-rmse:0.14454\n",
      "[221]\tvalidation_0-rmse:0.14445\n",
      "[222]\tvalidation_0-rmse:0.14444\n",
      "[223]\tvalidation_0-rmse:0.14444\n",
      "[224]\tvalidation_0-rmse:0.14443\n",
      "[225]\tvalidation_0-rmse:0.14444\n",
      "[226]\tvalidation_0-rmse:0.14444\n",
      "[227]\tvalidation_0-rmse:0.14444\n",
      "[228]\tvalidation_0-rmse:0.14435\n",
      "[229]\tvalidation_0-rmse:0.14433\n",
      "[230]\tvalidation_0-rmse:0.14430\n",
      "[231]\tvalidation_0-rmse:0.14432\n",
      "[232]\tvalidation_0-rmse:0.14434\n",
      "[233]\tvalidation_0-rmse:0.14437\n",
      "[234]\tvalidation_0-rmse:0.14439\n",
      "[235]\tvalidation_0-rmse:0.14438\n",
      "[236]\tvalidation_0-rmse:0.14441\n",
      "[237]\tvalidation_0-rmse:0.14439\n",
      "[238]\tvalidation_0-rmse:0.14439\n",
      "[239]\tvalidation_0-rmse:0.14437\n",
      "[240]\tvalidation_0-rmse:0.14437\n",
      "[241]\tvalidation_0-rmse:0.14435\n",
      "[242]\tvalidation_0-rmse:0.14429\n",
      "[243]\tvalidation_0-rmse:0.14432\n",
      "[244]\tvalidation_0-rmse:0.14429\n",
      "[245]\tvalidation_0-rmse:0.14435\n",
      "[246]\tvalidation_0-rmse:0.14435\n",
      "[247]\tvalidation_0-rmse:0.14436\n",
      "[248]\tvalidation_0-rmse:0.14434\n",
      "[249]\tvalidation_0-rmse:0.14433\n",
      "[250]\tvalidation_0-rmse:0.14430\n",
      "[251]\tvalidation_0-rmse:0.14423\n",
      "[252]\tvalidation_0-rmse:0.14420\n",
      "[253]\tvalidation_0-rmse:0.14412\n",
      "[254]\tvalidation_0-rmse:0.14411\n",
      "[255]\tvalidation_0-rmse:0.14415\n",
      "[256]\tvalidation_0-rmse:0.14413\n",
      "[257]\tvalidation_0-rmse:0.14412\n",
      "[258]\tvalidation_0-rmse:0.14411\n",
      "[259]\tvalidation_0-rmse:0.14405\n",
      "[260]\tvalidation_0-rmse:0.14404\n",
      "[261]\tvalidation_0-rmse:0.14403\n",
      "[262]\tvalidation_0-rmse:0.14403\n",
      "[263]\tvalidation_0-rmse:0.14407\n",
      "[264]\tvalidation_0-rmse:0.14402\n",
      "[265]\tvalidation_0-rmse:0.14401\n",
      "[266]\tvalidation_0-rmse:0.14407\n",
      "[267]\tvalidation_0-rmse:0.14406\n",
      "[268]\tvalidation_0-rmse:0.14405\n",
      "[269]\tvalidation_0-rmse:0.14405\n",
      "[270]\tvalidation_0-rmse:0.14402\n",
      "[271]\tvalidation_0-rmse:0.14395\n",
      "[272]\tvalidation_0-rmse:0.14399\n",
      "[273]\tvalidation_0-rmse:0.14399\n",
      "[274]\tvalidation_0-rmse:0.14403\n",
      "[275]\tvalidation_0-rmse:0.14400\n",
      "[276]\tvalidation_0-rmse:0.14397\n",
      "[277]\tvalidation_0-rmse:0.14396\n",
      "[278]\tvalidation_0-rmse:0.14395\n",
      "[279]\tvalidation_0-rmse:0.14395\n",
      "[280]\tvalidation_0-rmse:0.14388\n",
      "[281]\tvalidation_0-rmse:0.14394\n",
      "[282]\tvalidation_0-rmse:0.14392\n",
      "[283]\tvalidation_0-rmse:0.14395\n",
      "[284]\tvalidation_0-rmse:0.14392\n",
      "[285]\tvalidation_0-rmse:0.14383\n",
      "[286]\tvalidation_0-rmse:0.14381\n",
      "[287]\tvalidation_0-rmse:0.14383\n",
      "[288]\tvalidation_0-rmse:0.14381\n",
      "[289]\tvalidation_0-rmse:0.14384\n",
      "[290]\tvalidation_0-rmse:0.14384\n",
      "[291]\tvalidation_0-rmse:0.14381\n",
      "[292]\tvalidation_0-rmse:0.14379\n",
      "[293]\tvalidation_0-rmse:0.14380\n",
      "[294]\tvalidation_0-rmse:0.14382\n",
      "[295]\tvalidation_0-rmse:0.14382\n",
      "[296]\tvalidation_0-rmse:0.14380\n",
      "[297]\tvalidation_0-rmse:0.14377\n",
      "[298]\tvalidation_0-rmse:0.14376\n",
      "[299]\tvalidation_0-rmse:0.14377\n",
      "[300]\tvalidation_0-rmse:0.14367\n",
      "[301]\tvalidation_0-rmse:0.14366\n",
      "[302]\tvalidation_0-rmse:0.14368\n",
      "[303]\tvalidation_0-rmse:0.14364\n",
      "[304]\tvalidation_0-rmse:0.14356\n",
      "[305]\tvalidation_0-rmse:0.14353\n",
      "[306]\tvalidation_0-rmse:0.14352\n",
      "[307]\tvalidation_0-rmse:0.14354\n",
      "[308]\tvalidation_0-rmse:0.14354\n",
      "[309]\tvalidation_0-rmse:0.14350\n",
      "[310]\tvalidation_0-rmse:0.14349\n",
      "[311]\tvalidation_0-rmse:0.14351\n",
      "[312]\tvalidation_0-rmse:0.14352\n",
      "[313]\tvalidation_0-rmse:0.14349\n",
      "[314]\tvalidation_0-rmse:0.14353\n",
      "[315]\tvalidation_0-rmse:0.14353\n",
      "[316]\tvalidation_0-rmse:0.14353\n",
      "[317]\tvalidation_0-rmse:0.14343\n",
      "[318]\tvalidation_0-rmse:0.14347\n",
      "[319]\tvalidation_0-rmse:0.14348\n",
      "[320]\tvalidation_0-rmse:0.14349\n",
      "[321]\tvalidation_0-rmse:0.14349\n",
      "[322]\tvalidation_0-rmse:0.14337\n",
      "[323]\tvalidation_0-rmse:0.14341\n",
      "[324]\tvalidation_0-rmse:0.14343\n",
      "[325]\tvalidation_0-rmse:0.14343\n",
      "[326]\tvalidation_0-rmse:0.14339\n",
      "[327]\tvalidation_0-rmse:0.14341\n",
      "[328]\tvalidation_0-rmse:0.14342\n",
      "[329]\tvalidation_0-rmse:0.14342\n",
      "[330]\tvalidation_0-rmse:0.14342\n",
      "[331]\tvalidation_0-rmse:0.14343\n",
      "[332]\tvalidation_0-rmse:0.14344\n",
      "[333]\tvalidation_0-rmse:0.14347\n",
      "[334]\tvalidation_0-rmse:0.14337\n",
      "[335]\tvalidation_0-rmse:0.14335\n",
      "[336]\tvalidation_0-rmse:0.14335\n",
      "[337]\tvalidation_0-rmse:0.14335\n",
      "[338]\tvalidation_0-rmse:0.14337\n",
      "[339]\tvalidation_0-rmse:0.14338\n",
      "[340]\tvalidation_0-rmse:0.14336\n",
      "[341]\tvalidation_0-rmse:0.14337\n",
      "[342]\tvalidation_0-rmse:0.14338\n",
      "[343]\tvalidation_0-rmse:0.14339\n",
      "[344]\tvalidation_0-rmse:0.14338\n",
      "[345]\tvalidation_0-rmse:0.14333\n",
      "[346]\tvalidation_0-rmse:0.14332\n",
      "[347]\tvalidation_0-rmse:0.14331\n",
      "[348]\tvalidation_0-rmse:0.14329\n",
      "[349]\tvalidation_0-rmse:0.14332\n",
      "[350]\tvalidation_0-rmse:0.14331\n",
      "[351]\tvalidation_0-rmse:0.14332\n",
      "[352]\tvalidation_0-rmse:0.14331\n",
      "[353]\tvalidation_0-rmse:0.14327\n",
      "[354]\tvalidation_0-rmse:0.14327\n",
      "[355]\tvalidation_0-rmse:0.14323\n",
      "[356]\tvalidation_0-rmse:0.14323\n",
      "[357]\tvalidation_0-rmse:0.14320\n",
      "[358]\tvalidation_0-rmse:0.14309\n",
      "[359]\tvalidation_0-rmse:0.14307\n",
      "[360]\tvalidation_0-rmse:0.14305\n",
      "[361]\tvalidation_0-rmse:0.14304\n",
      "[362]\tvalidation_0-rmse:0.14302\n",
      "[363]\tvalidation_0-rmse:0.14302\n",
      "[364]\tvalidation_0-rmse:0.14303\n",
      "[365]\tvalidation_0-rmse:0.14302\n",
      "[366]\tvalidation_0-rmse:0.14302\n",
      "[367]\tvalidation_0-rmse:0.14301\n",
      "[368]\tvalidation_0-rmse:0.14304\n",
      "[369]\tvalidation_0-rmse:0.14309\n",
      "[370]\tvalidation_0-rmse:0.14311\n",
      "[371]\tvalidation_0-rmse:0.14311\n",
      "[372]\tvalidation_0-rmse:0.14308\n",
      "[373]\tvalidation_0-rmse:0.14308\n",
      "[374]\tvalidation_0-rmse:0.14307\n",
      "[375]\tvalidation_0-rmse:0.14308\n",
      "[376]\tvalidation_0-rmse:0.14306\n",
      "[377]\tvalidation_0-rmse:0.14306\n",
      "[378]\tvalidation_0-rmse:0.14309\n",
      "[379]\tvalidation_0-rmse:0.14309\n",
      "[380]\tvalidation_0-rmse:0.14310\n",
      "[381]\tvalidation_0-rmse:0.14314\n",
      "[382]\tvalidation_0-rmse:0.14314\n",
      "[383]\tvalidation_0-rmse:0.14309\n",
      "[384]\tvalidation_0-rmse:0.14311\n",
      "[385]\tvalidation_0-rmse:0.14308\n",
      "[386]\tvalidation_0-rmse:0.14308\n",
      "[387]\tvalidation_0-rmse:0.14308\n",
      "[388]\tvalidation_0-rmse:0.14306\n",
      "[389]\tvalidation_0-rmse:0.14304\n",
      "[390]\tvalidation_0-rmse:0.14306\n",
      "[391]\tvalidation_0-rmse:0.14306\n",
      "[392]\tvalidation_0-rmse:0.14304\n",
      "[393]\tvalidation_0-rmse:0.14306\n",
      "[394]\tvalidation_0-rmse:0.14305\n",
      "[395]\tvalidation_0-rmse:0.14305\n",
      "[396]\tvalidation_0-rmse:0.14304\n",
      "[397]\tvalidation_0-rmse:0.14301\n",
      "[398]\tvalidation_0-rmse:0.14302\n",
      "[399]\tvalidation_0-rmse:0.14303\n",
      "[400]\tvalidation_0-rmse:0.14305\n",
      "[401]\tvalidation_0-rmse:0.14304\n",
      "[402]\tvalidation_0-rmse:0.14308\n",
      "[403]\tvalidation_0-rmse:0.14307\n",
      "[404]\tvalidation_0-rmse:0.14306\n",
      "[405]\tvalidation_0-rmse:0.14304\n",
      "[406]\tvalidation_0-rmse:0.14303\n",
      "[407]\tvalidation_0-rmse:0.14302\n",
      "[408]\tvalidation_0-rmse:0.14302\n",
      "[409]\tvalidation_0-rmse:0.14301\n",
      "[410]\tvalidation_0-rmse:0.14301\n",
      "[411]\tvalidation_0-rmse:0.14301\n",
      "[412]\tvalidation_0-rmse:0.14301\n",
      "[413]\tvalidation_0-rmse:0.14300\n",
      "[414]\tvalidation_0-rmse:0.14294\n",
      "[415]\tvalidation_0-rmse:0.14292\n",
      "[416]\tvalidation_0-rmse:0.14291\n",
      "[417]\tvalidation_0-rmse:0.14290\n",
      "[418]\tvalidation_0-rmse:0.14291\n",
      "[419]\tvalidation_0-rmse:0.14292\n",
      "[420]\tvalidation_0-rmse:0.14290\n",
      "[421]\tvalidation_0-rmse:0.14289\n",
      "[422]\tvalidation_0-rmse:0.14289\n",
      "[423]\tvalidation_0-rmse:0.14293\n",
      "[424]\tvalidation_0-rmse:0.14294\n",
      "[425]\tvalidation_0-rmse:0.14293\n",
      "[426]\tvalidation_0-rmse:0.14293\n",
      "[427]\tvalidation_0-rmse:0.14293\n",
      "[428]\tvalidation_0-rmse:0.14290\n",
      "[429]\tvalidation_0-rmse:0.14291\n",
      "[430]\tvalidation_0-rmse:0.14290\n",
      "[431]\tvalidation_0-rmse:0.14287\n",
      "[432]\tvalidation_0-rmse:0.14286\n",
      "[433]\tvalidation_0-rmse:0.14284\n",
      "[434]\tvalidation_0-rmse:0.14284\n",
      "[435]\tvalidation_0-rmse:0.14283\n",
      "[436]\tvalidation_0-rmse:0.14284\n",
      "[437]\tvalidation_0-rmse:0.14283\n",
      "[438]\tvalidation_0-rmse:0.14283\n",
      "[439]\tvalidation_0-rmse:0.14289\n",
      "[440]\tvalidation_0-rmse:0.14288\n",
      "[441]\tvalidation_0-rmse:0.14288\n",
      "[442]\tvalidation_0-rmse:0.14289\n",
      "[443]\tvalidation_0-rmse:0.14289\n",
      "[444]\tvalidation_0-rmse:0.14290\n",
      "[445]\tvalidation_0-rmse:0.14291\n",
      "[446]\tvalidation_0-rmse:0.14292\n",
      "[447]\tvalidation_0-rmse:0.14293\n",
      "[448]\tvalidation_0-rmse:0.14292\n",
      "[449]\tvalidation_0-rmse:0.14291\n",
      "[450]\tvalidation_0-rmse:0.14294\n",
      "[451]\tvalidation_0-rmse:0.14283\n",
      "[452]\tvalidation_0-rmse:0.14281\n",
      "[453]\tvalidation_0-rmse:0.14286\n",
      "[454]\tvalidation_0-rmse:0.14281\n",
      "[455]\tvalidation_0-rmse:0.14280\n",
      "[456]\tvalidation_0-rmse:0.14281\n",
      "[457]\tvalidation_0-rmse:0.14281\n",
      "[458]\tvalidation_0-rmse:0.14280\n",
      "[459]\tvalidation_0-rmse:0.14281\n",
      "[460]\tvalidation_0-rmse:0.14283\n",
      "[461]\tvalidation_0-rmse:0.14283\n",
      "[462]\tvalidation_0-rmse:0.14281\n",
      "[463]\tvalidation_0-rmse:0.14279\n",
      "[464]\tvalidation_0-rmse:0.14282\n",
      "[465]\tvalidation_0-rmse:0.14281\n",
      "[466]\tvalidation_0-rmse:0.14281\n",
      "[467]\tvalidation_0-rmse:0.14280\n",
      "[468]\tvalidation_0-rmse:0.14278\n",
      "[469]\tvalidation_0-rmse:0.14278\n",
      "[470]\tvalidation_0-rmse:0.14278\n",
      "[471]\tvalidation_0-rmse:0.14279\n",
      "[472]\tvalidation_0-rmse:0.14283\n",
      "[473]\tvalidation_0-rmse:0.14284\n",
      "[474]\tvalidation_0-rmse:0.14282\n",
      "[475]\tvalidation_0-rmse:0.14283\n",
      "[476]\tvalidation_0-rmse:0.14284\n",
      "[477]\tvalidation_0-rmse:0.14281\n",
      "[478]\tvalidation_0-rmse:0.14282\n",
      "[479]\tvalidation_0-rmse:0.14281\n",
      "[480]\tvalidation_0-rmse:0.14281\n",
      "[481]\tvalidation_0-rmse:0.14282\n",
      "[482]\tvalidation_0-rmse:0.14281\n",
      "[483]\tvalidation_0-rmse:0.14280\n",
      "[484]\tvalidation_0-rmse:0.14284\n",
      "[485]\tvalidation_0-rmse:0.14292\n",
      "[486]\tvalidation_0-rmse:0.14292\n",
      "[487]\tvalidation_0-rmse:0.14295\n",
      "[488]\tvalidation_0-rmse:0.14300\n",
      "[489]\tvalidation_0-rmse:0.14300\n",
      "[490]\tvalidation_0-rmse:0.14299\n",
      "[491]\tvalidation_0-rmse:0.14296\n",
      "[492]\tvalidation_0-rmse:0.14296\n",
      "[493]\tvalidation_0-rmse:0.14295\n",
      "[494]\tvalidation_0-rmse:0.14300\n",
      "[495]\tvalidation_0-rmse:0.14301\n",
      "[496]\tvalidation_0-rmse:0.14301\n",
      "[497]\tvalidation_0-rmse:0.14304\n",
      "[498]\tvalidation_0-rmse:0.14303\n",
      "[499]\tvalidation_0-rmse:0.14304\n",
      "[500]\tvalidation_0-rmse:0.14303\n",
      "[501]\tvalidation_0-rmse:0.14302\n",
      "[502]\tvalidation_0-rmse:0.14304\n",
      "[503]\tvalidation_0-rmse:0.14301\n",
      "[504]\tvalidation_0-rmse:0.14299\n",
      "[505]\tvalidation_0-rmse:0.14298\n",
      "[506]\tvalidation_0-rmse:0.14295\n",
      "[507]\tvalidation_0-rmse:0.14294\n",
      "[508]\tvalidation_0-rmse:0.14295\n",
      "[509]\tvalidation_0-rmse:0.14295\n",
      "[510]\tvalidation_0-rmse:0.14292\n",
      "[511]\tvalidation_0-rmse:0.14292\n",
      "[512]\tvalidation_0-rmse:0.14300\n",
      "[513]\tvalidation_0-rmse:0.14299\n",
      "[514]\tvalidation_0-rmse:0.14298\n",
      "[515]\tvalidation_0-rmse:0.14297\n",
      "[516]\tvalidation_0-rmse:0.14295\n",
      "[517]\tvalidation_0-rmse:0.14294\n",
      "[518]\tvalidation_0-rmse:0.14291\n",
      "[519]\tvalidation_0-rmse:0.14291\n",
      "[520]\tvalidation_0-rmse:0.14291\n"
     ]
    }
   ],
   "source": [
    "from xgboost import XGBRegressor\n",
    "\n",
    "\n",
    "xgb_model = XGBRegressor(\n",
    "    n_estimators=1000,\n",
    "    learning_rate=0.03,\n",
    "    eval_metric='rmse',  \n",
    "    early_stopping_rounds=50 \n",
    ")\n",
    "\n",
    "# Model Train करें\n",
    "xgb_model.fit(\n",
    "    X_train,\n",
    "    y_train,\n",
    "    eval_set=[(X_test, y_test)],  \n",
    "    verbose=True \n",
    ")\n",
    "\n",
    "# Predictions\n",
    "y_pred = xgb_model.predict(X_test)"
   ]
  },
  {
   "cell_type": "code",
   "execution_count": 45,
   "id": "957ce991-2acd-4498-84ae-ed8ae895d976",
   "metadata": {},
   "outputs": [
    {
     "name": "stdout",
     "output_type": "stream",
     "text": [
      "[LightGBM] [Info] Auto-choosing row-wise multi-threading, the overhead of testing was 0.004836 seconds.\n",
      "You can set `force_row_wise=true` to remove the overhead.\n",
      "And if memory is not enough, you can set `force_col_wise=true`.\n",
      "[LightGBM] [Info] Total Bins 766\n",
      "[LightGBM] [Info] Number of data points in the train set: 135157, number of used features: 12\n",
      "[LightGBM] [Info] Start training from score 8.745485\n",
      "RMSE: 0.16523862375828433\n",
      "[LightGBM] [Info] Auto-choosing row-wise multi-threading, the overhead of testing was 0.011214 seconds.\n",
      "You can set `force_row_wise=true` to remove the overhead.\n",
      "And if memory is not enough, you can set `force_col_wise=true`.\n",
      "[LightGBM] [Info] Total Bins 824\n",
      "[LightGBM] [Info] Number of data points in the train set: 270314, number of used features: 14\n",
      "[LightGBM] [Info] Start training from score 8.747415\n",
      "RMSE: 0.1487669688279107\n",
      "[LightGBM] [Info] Auto-choosing row-wise multi-threading, the overhead of testing was 0.013631 seconds.\n",
      "You can set `force_row_wise=true` to remove the overhead.\n",
      "And if memory is not enough, you can set `force_col_wise=true`.\n",
      "[LightGBM] [Info] Total Bins 834\n",
      "[LightGBM] [Info] Number of data points in the train set: 405471, number of used features: 14\n",
      "[LightGBM] [Info] Start training from score 8.762793\n",
      "RMSE: 0.1480275428080193\n",
      "[LightGBM] [Info] Auto-choosing row-wise multi-threading, the overhead of testing was 0.014814 seconds.\n",
      "You can set `force_row_wise=true` to remove the overhead.\n",
      "And if memory is not enough, you can set `force_col_wise=true`.\n",
      "[LightGBM] [Info] Total Bins 836\n",
      "[LightGBM] [Info] Number of data points in the train set: 540628, number of used features: 14\n",
      "[LightGBM] [Info] Start training from score 8.761918\n",
      "RMSE: 0.21414630388648184\n",
      "[LightGBM] [Info] Auto-choosing row-wise multi-threading, the overhead of testing was 0.019849 seconds.\n",
      "You can set `force_row_wise=true` to remove the overhead.\n",
      "And if memory is not enough, you can set `force_col_wise=true`.\n",
      "[LightGBM] [Info] Total Bins 836\n",
      "[LightGBM] [Info] Number of data points in the train set: 675785, number of used features: 14\n",
      "[LightGBM] [Info] Start training from score 8.757596\n",
      "RMSE: 0.1404588457227522\n"
     ]
    }
   ],
   "source": [
    "from sklearn.model_selection import TimeSeriesSplit\n",
    "\n",
    "tscv = TimeSeriesSplit(n_splits=5)\n",
    "\n",
    "for train_index, val_index in tscv.split(X_train):\n",
    "    X_train_cv, X_val_cv = X_train.iloc[train_index], X_train.iloc[val_index]\n",
    "    y_train_cv, y_val_cv = y_train.iloc[train_index], y_train.iloc[val_index]\n",
    "\n",
    "    model = LGBMRegressor(n_estimators=1000, learning_rate=0.03)\n",
    "    model.fit(X_train_cv, y_train_cv)\n",
    "\n",
    "    y_pred_cv = model.predict(X_val_cv)\n",
    "    rmse = mean_squared_error(y_val_cv, y_pred_cv) ** 0.5\n",
    "    print(f'RMSE: {rmse}')\n"
   ]
  },
  {
   "cell_type": "code",
   "execution_count": 46,
   "id": "dde01cce-518a-40a5-9a00-1fe506ff62da",
   "metadata": {},
   "outputs": [
    {
     "name": "stderr",
     "output_type": "stream",
     "text": [
      "[I 2025-04-27 23:32:25,180] A new study created in memory with name: no-name-9dbf1574-666a-4615-9c35-4c2427f3f757\n",
      "[I 2025-04-27 23:32:28,843] Trial 0 finished with value: 0.15294555662058365 and parameters: {'n_estimators': 132, 'learning_rate': 0.08748119682794495, 'max_depth': 3, 'subsample': 0.6155983294579228, 'colsample_bytree': 0.5368064334262053, 'reg_alpha': 0.03324130707892576, 'reg_lambda': 0.021588158088255836}. Best is trial 0 with value: 0.15294555662058365.\n",
      "[I 2025-04-27 23:32:42,392] Trial 1 finished with value: 0.14834869682747076 and parameters: {'n_estimators': 484, 'learning_rate': 0.027392675102850407, 'max_depth': 4, 'subsample': 0.9543214764797215, 'colsample_bytree': 0.6685188633240411, 'reg_alpha': 0.04302636121701498, 'reg_lambda': 0.044535719151730956}. Best is trial 1 with value: 0.14834869682747076.\n",
      "[I 2025-04-27 23:32:47,949] Trial 2 finished with value: 0.15100589977651266 and parameters: {'n_estimators': 111, 'learning_rate': 0.07660751515960926, 'max_depth': 7, 'subsample': 0.9283299821438058, 'colsample_bytree': 0.5104972030835269, 'reg_alpha': 0.05746017268424854, 'reg_lambda': 0.06267783144154708}. Best is trial 1 with value: 0.14834869682747076.\n",
      "[I 2025-04-27 23:33:23,349] Trial 3 finished with value: 0.13092411716228136 and parameters: {'n_estimators': 713, 'learning_rate': 0.09536749539274735, 'max_depth': 8, 'subsample': 0.9521680205199656, 'colsample_bytree': 0.6956549600161454, 'reg_alpha': 0.028559422433444545, 'reg_lambda': 0.07261116038815732}. Best is trial 3 with value: 0.13092411716228136.\n",
      "[I 2025-04-27 23:33:40,062] Trial 4 finished with value: 0.14145859198164673 and parameters: {'n_estimators': 466, 'learning_rate': 0.06216946326956665, 'max_depth': 5, 'subsample': 0.8515141456098134, 'colsample_bytree': 0.7346522320568829, 'reg_alpha': 0.02624698678443544, 'reg_lambda': 0.0587348793062456}. Best is trial 3 with value: 0.13092411716228136.\n",
      "[I 2025-04-27 23:34:00,004] Trial 5 finished with value: 0.12988801440130973 and parameters: {'n_estimators': 268, 'learning_rate': 0.09057021555542079, 'max_depth': 11, 'subsample': 0.5295048674753013, 'colsample_bytree': 0.7290413968044175, 'reg_alpha': 0.07288214742915392, 'reg_lambda': 0.08686660784224406}. Best is trial 5 with value: 0.12988801440130973.\n",
      "[I 2025-04-27 23:34:34,569] Trial 6 finished with value: 0.13402694913181615 and parameters: {'n_estimators': 449, 'learning_rate': 0.06688231048791111, 'max_depth': 11, 'subsample': 0.7553931758236282, 'colsample_bytree': 0.6258170308882812, 'reg_alpha': 0.018382963111737767, 'reg_lambda': 0.04212154013019051}. Best is trial 5 with value: 0.12988801440130973.\n",
      "[I 2025-04-27 23:35:58,501] Trial 7 finished with value: 0.13087531002579847 and parameters: {'n_estimators': 970, 'learning_rate': 0.038736147665211315, 'max_depth': 12, 'subsample': 0.5221376527057514, 'colsample_bytree': 0.5787409507146575, 'reg_alpha': 0.038060909905187845, 'reg_lambda': 0.024929077383161503}. Best is trial 5 with value: 0.12988801440130973.\n",
      "[I 2025-04-27 23:36:35,092] Trial 8 finished with value: 0.1335195762407988 and parameters: {'n_estimators': 993, 'learning_rate': 0.07588099769146434, 'max_depth': 6, 'subsample': 0.5133066702381994, 'colsample_bytree': 0.9625820288064711, 'reg_alpha': 0.016086772816830644, 'reg_lambda': 0.09210642243070537}. Best is trial 5 with value: 0.12988801440130973.\n",
      "[I 2025-04-27 23:37:14,624] Trial 9 finished with value: 0.12836778805225174 and parameters: {'n_estimators': 585, 'learning_rate': 0.04747214044427934, 'max_depth': 11, 'subsample': 0.9802228432481979, 'colsample_bytree': 0.8647217530795244, 'reg_alpha': 0.06404570017717395, 'reg_lambda': 0.07187090991405799}. Best is trial 9 with value: 0.12836778805225174.\n",
      "[I 2025-04-27 23:37:57,715] Trial 10 finished with value: 0.1387803989715489 and parameters: {'n_estimators': 737, 'learning_rate': 0.012596108230126447, 'max_depth': 9, 'subsample': 0.7894579533616144, 'colsample_bytree': 0.8990865943223554, 'reg_alpha': 0.09964741247377215, 'reg_lambda': 0.08013453026134662}. Best is trial 9 with value: 0.12836778805225174.\n",
      "[I 2025-04-27 23:38:19,477] Trial 11 finished with value: 0.13167366892252583 and parameters: {'n_estimators': 272, 'learning_rate': 0.04596910757373141, 'max_depth': 11, 'subsample': 0.6406484753659256, 'colsample_bytree': 0.8344763867971817, 'reg_alpha': 0.07325786280178075, 'reg_lambda': 0.09534991130309638}. Best is trial 9 with value: 0.12836778805225174.\n",
      "[I 2025-04-27 23:39:00,217] Trial 12 finished with value: 0.1286124081485711 and parameters: {'n_estimators': 674, 'learning_rate': 0.05101922792850626, 'max_depth': 10, 'subsample': 0.6437753241642071, 'colsample_bytree': 0.812223771555761, 'reg_alpha': 0.07267330746782652, 'reg_lambda': 0.07887546380938991}. Best is trial 9 with value: 0.12836778805225174.\n",
      "[I 2025-04-27 23:39:37,626] Trial 13 finished with value: 0.1278560633183155 and parameters: {'n_estimators': 665, 'learning_rate': 0.04584962691681069, 'max_depth': 9, 'subsample': 0.672960044850966, 'colsample_bytree': 0.8412454526720613, 'reg_alpha': 0.07379068112922445, 'reg_lambda': 0.07383852063471107}. Best is trial 13 with value: 0.1278560633183155.\n",
      "[I 2025-04-27 23:40:11,679] Trial 14 finished with value: 0.13069668233118054 and parameters: {'n_estimators': 606, 'learning_rate': 0.033648711163348666, 'max_depth': 9, 'subsample': 0.695676160127003, 'colsample_bytree': 0.8298082097601055, 'reg_alpha': 0.09208858655211155, 'reg_lambda': 0.06838500286091685}. Best is trial 13 with value: 0.1278560633183155.\n",
      "[I 2025-04-27 23:40:58,070] Trial 15 finished with value: 0.13128533645176196 and parameters: {'n_estimators': 851, 'learning_rate': 0.025891093749264446, 'max_depth': 9, 'subsample': 0.8429393162910273, 'colsample_bytree': 0.9963959181160464, 'reg_alpha': 0.05659793992884615, 'reg_lambda': 0.04860053069441892}. Best is trial 13 with value: 0.1278560633183155.\n",
      "[I 2025-04-27 23:42:04,069] Trial 16 finished with value: 0.1273903021717852 and parameters: {'n_estimators': 829, 'learning_rate': 0.05694763680437571, 'max_depth': 12, 'subsample': 0.9983940523533426, 'colsample_bytree': 0.8855412129777418, 'reg_alpha': 0.08244826048400553, 'reg_lambda': 0.0993251897586148}. Best is trial 16 with value: 0.1273903021717852.\n",
      "[I 2025-04-27 23:43:13,054] Trial 17 finished with value: 0.12947167254595696 and parameters: {'n_estimators': 844, 'learning_rate': 0.06016565801392406, 'max_depth': 12, 'subsample': 0.8678995440117738, 'colsample_bytree': 0.9171376200795531, 'reg_alpha': 0.08708374577778855, 'reg_lambda': 0.09820710593203584}. Best is trial 16 with value: 0.1273903021717852.\n",
      "[I 2025-04-27 23:43:51,184] Trial 18 finished with value: 0.13201696363750232 and parameters: {'n_estimators': 858, 'learning_rate': 0.07398763363483811, 'max_depth': 7, 'subsample': 0.6997531514475177, 'colsample_bytree': 0.7712221738197073, 'reg_alpha': 0.08342093722322488, 'reg_lambda': 0.08400724645254427}. Best is trial 16 with value: 0.1273903021717852.\n",
      "[I 2025-04-27 23:44:37,768] Trial 19 finished with value: 0.1274416133827656 and parameters: {'n_estimators': 798, 'learning_rate': 0.05458920481726448, 'max_depth': 10, 'subsample': 0.5861576735162255, 'colsample_bytree': 0.927495113369918, 'reg_alpha': 0.048738124373832924, 'reg_lambda': 0.032684360563636786}. Best is trial 16 with value: 0.1273903021717852.\n",
      "[I 2025-04-27 23:45:26,511] Trial 20 finished with value: 0.1278129645614297 and parameters: {'n_estimators': 767, 'learning_rate': 0.056712719275044184, 'max_depth': 10, 'subsample': 0.5993465466036654, 'colsample_bytree': 0.9389295980080881, 'reg_alpha': 0.06139478044157963, 'reg_lambda': 0.0344733656190294}. Best is trial 16 with value: 0.1273903021717852.\n",
      "[I 2025-04-27 23:46:15,550] Trial 21 finished with value: 0.1289727323709261 and parameters: {'n_estimators': 780, 'learning_rate': 0.05966032639677489, 'max_depth': 10, 'subsample': 0.58034595728896, 'colsample_bytree': 0.9234824296816814, 'reg_alpha': 0.047126478535681256, 'reg_lambda': 0.03142055276181756}. Best is trial 16 with value: 0.1273903021717852.\n",
      "[I 2025-04-27 23:47:36,483] Trial 22 finished with value: 0.12975185770548103 and parameters: {'n_estimators': 916, 'learning_rate': 0.054458106370779476, 'max_depth': 12, 'subsample': 0.5746135661419445, 'colsample_bytree': 0.9534720677326035, 'reg_alpha': 0.0494739809938734, 'reg_lambda': 0.012164452701251997}. Best is trial 16 with value: 0.1273903021717852.\n",
      "[I 2025-04-27 23:48:23,224] Trial 23 finished with value: 0.12897987431374353 and parameters: {'n_estimators': 765, 'learning_rate': 0.0684521666597989, 'max_depth': 10, 'subsample': 0.5768583318288326, 'colsample_bytree': 0.8786427712312275, 'reg_alpha': 0.06666385350625575, 'reg_lambda': 0.03377916610840377}. Best is trial 16 with value: 0.1273903021717852.\n",
      "[I 2025-04-27 23:49:02,518] Trial 24 finished with value: 0.130670056206086 and parameters: {'n_estimators': 801, 'learning_rate': 0.05495939097917846, 'max_depth': 8, 'subsample': 0.7413503520367724, 'colsample_bytree': 0.9664197799222883, 'reg_alpha': 0.0799504472059185, 'reg_lambda': 0.052024693727833006}. Best is trial 16 with value: 0.1273903021717852.\n",
      "[I 2025-04-27 23:50:00,395] Trial 25 finished with value: 0.1275632292308329 and parameters: {'n_estimators': 912, 'learning_rate': 0.039456952793523334, 'max_depth': 10, 'subsample': 0.8874577226815148, 'colsample_bytree': 0.7839646906926141, 'reg_alpha': 0.06012242062108948, 'reg_lambda': 0.038002597857779735}. Best is trial 16 with value: 0.1273903021717852.\n",
      "[I 2025-04-27 23:51:19,807] Trial 26 finished with value: 0.1267568578587303 and parameters: {'n_estimators': 902, 'learning_rate': 0.040071853747702224, 'max_depth': 12, 'subsample': 0.9895436398900818, 'colsample_bytree': 0.8010397083430594, 'reg_alpha': 0.05003849903040713, 'reg_lambda': 0.018664486726503594}. Best is trial 26 with value: 0.1267568578587303.\n",
      "[I 2025-04-27 23:52:52,029] Trial 27 finished with value: 0.13109808696699837 and parameters: {'n_estimators': 944, 'learning_rate': 0.011890707784230545, 'max_depth': 12, 'subsample': 0.997558956047792, 'colsample_bytree': 0.8780965793503472, 'reg_alpha': 0.048342037931225025, 'reg_lambda': 0.012910094339068427}. Best is trial 26 with value: 0.1267568578587303.\n",
      "[I 2025-04-27 23:54:09,290] Trial 28 finished with value: 0.12869744713104386 and parameters: {'n_estimators': 877, 'learning_rate': 0.02386930997826333, 'max_depth': 12, 'subsample': 0.9056417866636866, 'colsample_bytree': 0.7944228772265788, 'reg_alpha': 0.04061575229350141, 'reg_lambda': 0.01995964142676728}. Best is trial 26 with value: 0.1267568578587303.\n",
      "[I 2025-04-27 23:54:40,185] Trial 29 finished with value: 0.13152829576785405 and parameters: {'n_estimators': 369, 'learning_rate': 0.03660450146985991, 'max_depth': 11, 'subsample': 0.7854414332660655, 'colsample_bytree': 0.7608944131561232, 'reg_alpha': 0.03609196846545924, 'reg_lambda': 0.020111532101343938}. Best is trial 26 with value: 0.1267568578587303.\n",
      "[I 2025-04-27 23:54:56,735] Trial 30 finished with value: 0.14818981600705997 and parameters: {'n_estimators': 679, 'learning_rate': 0.08118289191791044, 'max_depth': 3, 'subsample': 0.8193634425900953, 'colsample_bytree': 0.8901128737562756, 'reg_alpha': 0.04996157283605283, 'reg_lambda': 0.025548927249792186}. Best is trial 26 with value: 0.1267568578587303.\n",
      "[I 2025-04-27 23:56:02,868] Trial 31 finished with value: 0.12721992672353025 and parameters: {'n_estimators': 911, 'learning_rate': 0.04048489609866328, 'max_depth': 11, 'subsample': 0.8782216663442433, 'colsample_bytree': 0.7886051304680753, 'reg_alpha': 0.05413140540405855, 'reg_lambda': 0.04038442849081491}. Best is trial 26 with value: 0.1267568578587303.\n",
      "[I 2025-04-27 23:57:04,283] Trial 32 finished with value: 0.12795250777786382 and parameters: {'n_estimators': 818, 'learning_rate': 0.0318269682532997, 'max_depth': 11, 'subsample': 0.9566347551768261, 'colsample_bytree': 0.8528905796285252, 'reg_alpha': 0.04421937515104835, 'reg_lambda': 0.02785863803537951}. Best is trial 26 with value: 0.1267568578587303.\n",
      "[I 2025-04-27 23:58:25,366] Trial 33 finished with value: 0.12861265035967956 and parameters: {'n_estimators': 1000, 'learning_rate': 0.0423033082747417, 'max_depth': 12, 'subsample': 0.9195354228051421, 'colsample_bytree': 0.6940341983955979, 'reg_alpha': 0.053584686348763955, 'reg_lambda': 0.04005661155919439}. Best is trial 26 with value: 0.1267568578587303.\n",
      "[I 2025-04-27 23:59:31,915] Trial 34 finished with value: 0.1296601978052667 and parameters: {'n_estimators': 903, 'learning_rate': 0.02078686420125009, 'max_depth': 11, 'subsample': 0.9375205765837719, 'colsample_bytree': 0.8018119956587411, 'reg_alpha': 0.03245284851877857, 'reg_lambda': 0.04701379133364321}. Best is trial 26 with value: 0.1267568578587303.\n",
      "[I 2025-04-28 00:00:47,191] Trial 35 finished with value: 0.1287355183750542 and parameters: {'n_estimators': 920, 'learning_rate': 0.06588345704569015, 'max_depth': 12, 'subsample': 0.9758272424309488, 'colsample_bytree': 0.6525523717117355, 'reg_alpha': 0.05460877130397017, 'reg_lambda': 0.054604017043404625}. Best is trial 26 with value: 0.1267568578587303.\n",
      "[I 2025-04-28 00:01:38,890] Trial 36 finished with value: 0.12879779258841462 and parameters: {'n_estimators': 819, 'learning_rate': 0.0294908279385492, 'max_depth': 10, 'subsample': 0.8824661275448825, 'colsample_bytree': 0.7166699328585775, 'reg_alpha': 0.06742306176908563, 'reg_lambda': 0.061674857644895345}. Best is trial 26 with value: 0.1267568578587303.\n",
      "[I 2025-04-28 00:02:07,589] Trial 37 finished with value: 0.13367999940979655 and parameters: {'n_estimators': 628, 'learning_rate': 0.05057037580638869, 'max_depth': 8, 'subsample': 0.9995148575325364, 'colsample_bytree': 0.9874130280815177, 'reg_alpha': 0.028995430385639374, 'reg_lambda': 0.01751356085660079}. Best is trial 26 with value: 0.1267568578587303.\n",
      "[I 2025-04-28 00:02:45,689] Trial 38 finished with value: 0.12958216130726366 and parameters: {'n_estimators': 512, 'learning_rate': 0.04235011610374036, 'max_depth': 11, 'subsample': 0.9554886885793972, 'colsample_bytree': 0.7482360403100918, 'reg_alpha': 0.02340712100060203, 'reg_lambda': 0.02993882462249506}. Best is trial 26 with value: 0.1267568578587303.\n",
      "[I 2025-04-28 00:03:09,064] Trial 39 finished with value: 0.1396162231122341 and parameters: {'n_estimators': 738, 'learning_rate': 0.05111265644261932, 'max_depth': 5, 'subsample': 0.930187546067206, 'colsample_bytree': 0.91255311028645, 'reg_alpha': 0.043088343067638105, 'reg_lambda': 0.03655596669988573}. Best is trial 26 with value: 0.1267568578587303.\n",
      "[I 2025-04-28 00:04:27,428] Trial 40 finished with value: 0.13293460119532644 and parameters: {'n_estimators': 963, 'learning_rate': 0.06969399871233067, 'max_depth': 12, 'subsample': 0.8310280817100303, 'colsample_bytree': 0.5159899826938297, 'reg_alpha': 0.052436466673521843, 'reg_lambda': 0.044621765087247536}. Best is trial 26 with value: 0.1267568578587303.\n",
      "[I 2025-04-28 00:05:19,173] Trial 41 finished with value: 0.1282505323965353 and parameters: {'n_estimators': 889, 'learning_rate': 0.03955355540894814, 'max_depth': 10, 'subsample': 0.8960744008085795, 'colsample_bytree': 0.7812993003598242, 'reg_alpha': 0.060719621471288426, 'reg_lambda': 0.04221149220319836}. Best is trial 26 with value: 0.1267568578587303.\n",
      "[I 2025-04-28 00:06:26,372] Trial 42 finished with value: 0.12524904790619268 and parameters: {'n_estimators': 942, 'learning_rate': 0.034804494629440456, 'max_depth': 11, 'subsample': 0.8659017498930301, 'colsample_bytree': 0.808380210344425, 'reg_alpha': 0.05943696602206666, 'reg_lambda': 0.02529481052708836}. Best is trial 42 with value: 0.12524904790619268.\n",
      "[I 2025-04-28 00:07:31,537] Trial 43 finished with value: 0.1269869030222214 and parameters: {'n_estimators': 954, 'learning_rate': 0.03435384456403128, 'max_depth': 11, 'subsample': 0.7493289102909935, 'colsample_bytree': 0.8156770469251813, 'reg_alpha': 0.09730033957227388, 'reg_lambda': 0.016366286672188174}. Best is trial 42 with value: 0.12524904790619268.\n",
      "[I 2025-04-28 00:08:40,369] Trial 44 finished with value: 0.1286124683773626 and parameters: {'n_estimators': 949, 'learning_rate': 0.020979871227152513, 'max_depth': 11, 'subsample': 0.7427925730516909, 'colsample_bytree': 0.8151972292823084, 'reg_alpha': 0.0980943525635429, 'reg_lambda': 0.015847596477462582}. Best is trial 42 with value: 0.12524904790619268.\n",
      "[I 2025-04-28 00:10:02,090] Trial 45 finished with value: 0.12755818285685805 and parameters: {'n_estimators': 984, 'learning_rate': 0.033509004233360465, 'max_depth': 12, 'subsample': 0.8077519088235964, 'colsample_bytree': 0.7418520675414179, 'reg_alpha': 0.09276728753911115, 'reg_lambda': 0.023535374884783203}. Best is trial 42 with value: 0.12524904790619268.\n",
      "[I 2025-04-28 00:11:04,554] Trial 46 finished with value: 0.12684546970138663 and parameters: {'n_estimators': 942, 'learning_rate': 0.04415455260091477, 'max_depth': 11, 'subsample': 0.9725068325559844, 'colsample_bytree': 0.8205143530258142, 'reg_alpha': 0.09238287234639872, 'reg_lambda': 0.010205206080712476}. Best is trial 42 with value: 0.12524904790619268.\n",
      "[I 2025-04-28 00:12:17,147] Trial 47 finished with value: 0.12613554136171845 and parameters: {'n_estimators': 998, 'learning_rate': 0.03666470019713369, 'max_depth': 11, 'subsample': 0.8699468339660551, 'colsample_bytree': 0.8224843982809211, 'reg_alpha': 0.09389344301689775, 'reg_lambda': 0.010195642934653568}. Best is trial 42 with value: 0.12524904790619268.\n",
      "[I 2025-04-28 00:13:14,665] Trial 48 finished with value: 0.1324299993319396 and parameters: {'n_estimators': 997, 'learning_rate': 0.016674464501131712, 'max_depth': 9, 'subsample': 0.7769552063165739, 'colsample_bytree': 0.8264476027164858, 'reg_alpha': 0.09453907441270143, 'reg_lambda': 0.010064728521590247}. Best is trial 42 with value: 0.12524904790619268.\n",
      "[I 2025-04-28 00:13:22,847] Trial 49 finished with value: 0.14774110035021032 and parameters: {'n_estimators': 178, 'learning_rate': 0.034536562302344254, 'max_depth': 6, 'subsample': 0.8528092187551445, 'colsample_bytree': 0.8415853808601585, 'reg_alpha': 0.011898763215170305, 'reg_lambda': 0.016705898763293214}. Best is trial 42 with value: 0.12524904790619268.\n"
     ]
    },
    {
     "name": "stdout",
     "output_type": "stream",
     "text": [
      "Best Parameters: {'n_estimators': 942, 'learning_rate': 0.034804494629440456, 'max_depth': 11, 'subsample': 0.8659017498930301, 'colsample_bytree': 0.808380210344425, 'reg_alpha': 0.05943696602206666, 'reg_lambda': 0.02529481052708836}\n"
     ]
    }
   ],
   "source": [
    "import optuna\n",
    "from xgboost import XGBRegressor\n",
    "\n",
    "def objective(trial):\n",
    "    param = {\n",
    "        'n_estimators': trial.suggest_int('n_estimators', 100, 1000),\n",
    "        'learning_rate': trial.suggest_float('learning_rate', 0.01, 0.1),\n",
    "        'max_depth': trial.suggest_int('max_depth', 3, 12),\n",
    "        'subsample': trial.suggest_float('subsample', 0.5, 1.0),\n",
    "        'colsample_bytree': trial.suggest_float('colsample_bytree', 0.5, 1.0),\n",
    "        'reg_alpha': trial.suggest_float('reg_alpha', 0.01, 0.1),\n",
    "        'reg_lambda': trial.suggest_float('reg_lambda', 0.01, 0.1),\n",
    "        'random_state': 42,\n",
    "    }\n",
    "    \n",
    "    model = XGBRegressor(**param)\n",
    "    model.fit(X_train, y_train, eval_set=[(X_test, y_test)], verbose=False)\n",
    "\n",
    "    y_pred = model.predict(X_test)\n",
    "    mse = mean_squared_error(y_test, y_pred)\n",
    "    rmse = mse ** 0.5\n",
    "    return rmse\n",
    "\n",
    "study = optuna.create_study(direction='minimize')\n",
    "study.optimize(objective, n_trials=50)\n",
    "\n",
    "print(\"Best Parameters:\", study.best_params)\n"
   ]
  },
  {
   "cell_type": "code",
   "execution_count": 47,
   "id": "f109ffea-a2a3-401b-ac4a-0daf2de0a3ba",
   "metadata": {},
   "outputs": [
    {
     "data": {
      "image/png": "[encoded data removed]",
      "text/plain": [
       "<Figure size 640x480 with 1 Axes>"
      ]
     },
     "metadata": {},
     "output_type": "display_data"
    }
   ],
   "source": [
    "lgb.plot_importance(model, max_num_features=20)\n",
    "plt.show()\n"
   ]
  },
  {
   "cell_type": "code",
   "execution_count": 48,
   "id": "7d6df1a5-19b2-4489-a2e0-0a3ba5db54b9",
   "metadata": {},
   "outputs": [
    {
     "name": "stdout",
     "output_type": "stream",
     "text": [
      "[LightGBM] [Info] Auto-choosing row-wise multi-threading, the overhead of testing was 0.027021 seconds.\n",
      "You can set `force_row_wise=true` to remove the overhead.\n",
      "And if memory is not enough, you can set `force_col_wise=true`.\n",
      "[LightGBM] [Info] Total Bins 836\n",
      "[LightGBM] [Info] Number of data points in the train set: 810942, number of used features: 14\n",
      "[LightGBM] [Info] Start training from score 8.756742\n"
     ]
    },
    {
     "name": "stderr",
     "output_type": "stream",
     "text": [
      "C:\\Users\\abhishek maurya\\anaconda3\\Lib\\site-packages\\sklearn\\metrics\\_regression.py:492: FutureWarning: 'squared' is deprecated in version 1.4 and will be removed in 1.6. To calculate the root mean squared error, use the function'root_mean_squared_error'.\n",
      "  warnings.warn(\n"
     ]
    },
    {
     "name": "stdout",
     "output_type": "stream",
     "text": [
      "LightGBM RMSE: 0.12873\n",
      "XGBoost RMSE: 0.12863\n"
     ]
    },
    {
     "name": "stderr",
     "output_type": "stream",
     "text": [
      "C:\\Users\\abhishek maurya\\anaconda3\\Lib\\site-packages\\sklearn\\metrics\\_regression.py:492: FutureWarning: 'squared' is deprecated in version 1.4 and will be removed in 1.6. To calculate the root mean squared error, use the function'root_mean_squared_error'.\n",
      "  warnings.warn(\n"
     ]
    }
   ],
   "source": [
    "# LightGBM Best Params\n",
    "lgb_best_params = {\n",
    "    'n_estimators': 912,\n",
    "    'learning_rate': 0.09152775175207041,\n",
    "    'max_depth': 12,\n",
    "    'subsample': 0.7162382980855135,\n",
    "    'colsample_bytree': 0.8452941625377381,\n",
    "    'reg_alpha': 0.060372934288133166,\n",
    "    'reg_lambda': 0.010628399939463734\n",
    "}\n",
    "\n",
    "# XGBoost Best Params\n",
    "xgb_best_params = {\n",
    "    'n_estimators': 942,\n",
    "    'learning_rate': 0.034804494629440456,\n",
    "    'max_depth': 11,\n",
    "    'subsample': 0.8659017498930301,\n",
    "    'colsample_bytree': 0.808380210344425,\n",
    "    'reg_alpha': 0.05943696602206666,\n",
    "    'reg_lambda': 0.02529481052708836\n",
    "}\n",
    "\n",
    "# Train LightGBM model\n",
    "lgb_model = LGBMRegressor(**lgb_best_params)\n",
    "lgb_model.fit(X_train, y_train)\n",
    "y_pred_lgb = lgb_model.predict(X_test)\n",
    "lgb_rmse = mean_squared_error(y_test, y_pred_lgb, squared=False)\n",
    "print(f\"LightGBM RMSE: {lgb_rmse:.5f}\")\n",
    "\n",
    "# Train XGBoost model\n",
    "xgb_model = XGBRegressor(**xgb_best_params)\n",
    "xgb_model.fit(X_train, y_train)\n",
    "y_pred_xgb = xgb_model.predict(X_test)\n",
    "xgb_rmse = mean_squared_error(y_test, y_pred_xgb, squared=False)\n",
    "print(f\"XGBoost RMSE: {xgb_rmse:.5f}\")\n"
   ]
  },
  {
   "cell_type": "code",
   "execution_count": 49,
   "id": "f89de7da-aaa4-4771-b674-b2da6c68685f",
   "metadata": {},
   "outputs": [
    {
     "name": "stdout",
     "output_type": "stream",
     "text": [
      "[LightGBM] [Info] Auto-choosing row-wise multi-threading, the overhead of testing was 0.024827 seconds.\n",
      "You can set `force_row_wise=true` to remove the overhead.\n",
      "And if memory is not enough, you can set `force_col_wise=true`.\n",
      "[LightGBM] [Info] Total Bins 836\n",
      "[LightGBM] [Info] Number of data points in the train set: 844392, number of used features: 14\n",
      "[LightGBM] [Info] Start training from score 8.758421\n"
     ]
    },
    {
     "data": {
      "text/plain": [
       "['STORE-WISE.pkl']"
      ]
     },
     "execution_count": 49,
     "metadata": {},
     "output_type": "execute_result"
    }
   ],
   "source": [
    "import joblib\n",
    "\n",
    "best_params = {\n",
    "    'n_estimators': 912,\n",
    "    'learning_rate': 0.09152775175207041,\n",
    "    'max_depth': 12,\n",
    "    'subsample': 0.7162382980855135,\n",
    "    'colsample_bytree': 0.8452941625377381,\n",
    "    'reg_alpha': 0.060372934288133166,\n",
    "    'reg_lambda': 0.010628399939463734\n",
    "}\n",
    "X_full = pd.concat([X_train, X_test], axis=0)\n",
    "y_full = pd.concat([y_train, y_test], axis=0)\n",
    "\n",
    "\n",
    "# Model retrain\n",
    "final_model = LGBMRegressor(**best_params)   \n",
    "final_model.fit(X_full, y_full)   \n",
    "\n",
    "# Save model\n",
    "joblib.dump(final_model, 'STORE-WISE.pkl')\n"
   ]
  },
  {
   "cell_type": "code",
   "execution_count": null,
   "id": "7a3a1727-9355-4192-acec-d335d9138e40",
   "metadata": {},
   "outputs": [],
   "source": []
  }
 ],
 "metadata": {
  "kernelspec": {
   "display_name": "Python 3 (ipykernel)",
   "language": "python",
   "name": "python3"
  },
  "language_info": {
   "codemirror_mode": {
    "name": "ipython",
    "version": 3
   },
   "file_extension": ".py",
   "mimetype": "text/x-python",
   "name": "python",
   "nbconvert_exporter": "python",
   "pygments_lexer": "ipython3",
   "version": "3.12.7"
  }
 },
 "nbformat": 4,
 "nbformat_minor": 5
}
